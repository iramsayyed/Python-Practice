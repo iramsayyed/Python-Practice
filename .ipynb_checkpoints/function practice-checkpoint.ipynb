{
 "cells": [
  {
   "cell_type": "markdown",
   "id": "b931c310",
   "metadata": {},
   "source": [
    "# 1.Write a Python function to find the Max of three numbers"
   ]
  },
  {
   "cell_type": "code",
   "execution_count": 3,
   "id": "beb39067",
   "metadata": {},
   "outputs": [
    {
     "name": "stdout",
     "output_type": "stream",
     "text": [
      "Enter the number3\n",
      "Enter the number5\n",
      "Enter the number6\n",
      "6  is greater than 3 & 5\n"
     ]
    }
   ],
   "source": [
    "a=int(input(\"Enter the number\"))\n",
    "b=int(input(\"Enter the number\"))\n",
    "c=int(input(\"Enter the number\"))\n",
    "\n",
    "def maximum(a,b,c):\n",
    "    if a>b and a>c:\n",
    "        print(a,\"is greater than\",b,\"&\",c)\n",
    "    elif b>a and b>c:\n",
    "        print(b,\" is greater than\",a,\"&\",c)\n",
    "\n",
    "        \n",
    "    else:\n",
    "        print(c,\" is greater than\",a,\"&\",b)\n",
    "        \n",
    "maximum(a,b,c)           \n",
    "    "
   ]
  },
  {
   "cell_type": "markdown",
   "id": "64220d7e",
   "metadata": {},
   "source": [
    "# 2.Define a function that accepts 2 values and return its sum, subtraction and multiplication"
   ]
  },
  {
   "cell_type": "code",
   "execution_count": 4,
   "id": "f1392ffa",
   "metadata": {},
   "outputs": [
    {
     "name": "stdout",
     "output_type": "stream",
     "text": [
      "Enter the number4\n",
      "Enter the number5\n",
      "Sum of the given number = 9\n",
      "Subtraction of the given number = -1\n",
      "Multiolication of the given number = 9\n",
      "Multiolication of the given number = 4\n"
     ]
    }
   ],
   "source": [
    "a=int(input(\"Enter the number\"))\n",
    "b=int(input(\"Enter the number\"))\n",
    "def add(a,b):\n",
    "    c=a+b\n",
    "    d=a-b\n",
    "    e=a*b\n",
    "    print(\"Sum of the given number\",\"=\",c)\n",
    "    print(\"Subtraction of the given number\",\"=\",d)\n",
    "    print(\"Multiolication of the given number\",\"=\",c)\n",
    "\n",
    "\n",
    "    \n",
    "    \n",
    "add(a,b)\n"
   ]
  },
  {
   "cell_type": "markdown",
   "id": "e905c4b4",
   "metadata": {},
   "source": [
    "# 3.Write a Python function to multiply all the numbers in a list."
   ]
  },
  {
   "cell_type": "code",
   "execution_count": 1,
   "id": "c91e89e0",
   "metadata": {},
   "outputs": [
    {
     "ename": "SyntaxError",
     "evalue": "expected ':' (2163893158.py, line 8)",
     "output_type": "error",
     "traceback": [
      "\u001b[1;36m  Input \u001b[1;32mIn [1]\u001b[1;36m\u001b[0m\n\u001b[1;33m    for j in range=(int(n))\u001b[0m\n\u001b[1;37m                  ^\u001b[0m\n\u001b[1;31mSyntaxError\u001b[0m\u001b[1;31m:\u001b[0m expected ':'\n"
     ]
    }
   ],
   "source": [
    "def multiply(number):\n",
    "    result=1\n",
    "    for i in number:\n",
    "        result*=i\n",
    "    return result\n",
    "n=int(input(\"enter the number\"))\n",
    "a=[]\n",
    "for j in range(int(n)):\n",
    "    A.append(n1):\n",
    "    \n",
    "print(multiply(A))      \n",
    "        \n"
   ]
  },
  {
   "cell_type": "markdown",
   "id": "5db34de3",
   "metadata": {},
   "source": [
    "# 4.Write a Python function to calculate the factorial of a number (a non-negative integer). The function accepts the number as an argument\n"
   ]
  },
  {
   "cell_type": "code",
   "execution_count": 11,
   "id": "626bd4a8",
   "metadata": {},
   "outputs": [
    {
     "data": {
      "text/plain": [
       "120"
      ]
     },
     "execution_count": 11,
     "metadata": {},
     "output_type": "execute_result"
    }
   ],
   "source": [
    "def fact(number):\n",
    "    result=1\n",
    "    for i in range(1,number+1):\n",
    "        result*=i\n",
    "    return result\n",
    "\n",
    "    \n",
    "fact(5)        \n",
    "        "
   ]
  },
  {
   "cell_type": "markdown",
   "id": "37e336ea",
   "metadata": {},
   "source": [
    "# 5.Write a Python function to create and print a list where the values are square of numbers between 1 and 30 (both included).\n"
   ]
  },
  {
   "cell_type": "code",
   "execution_count": 78,
   "id": "882d22c5",
   "metadata": {},
   "outputs": [
    {
     "name": "stdout",
     "output_type": "stream",
     "text": [
      "[1, 4, 9, 16, 25, 36, 49, 64, 81, 100, 121, 144, 169, 196, 225, 256, 289, 324, 361, 400, 441, 484, 529, 576, 625, 676, 729, 784, 841, 900]\n"
     ]
    }
   ],
   "source": [
    "def sqaure(a):\n",
    "    list=[]\n",
    "    for i in range(1,31):\n",
    "        list.append(i*i)\n",
    "    print(list)    \n",
    "\n",
    "sqaure(a)"
   ]
  },
  {
   "cell_type": "markdown",
   "id": "7b4d4ffb",
   "metadata": {},
   "source": [
    "# 6.Write a Python function that accepts a string and calculate the number of upper case letters and lower case letters "
   ]
  },
  {
   "cell_type": "code",
   "execution_count": 6,
   "id": "16d627d1",
   "metadata": {},
   "outputs": [
    {
     "name": "stdout",
     "output_type": "stream",
     "text": [
      "enter the stringiram\n",
      "lowercase count= 4\n",
      "uppercase count= 0\n"
     ]
    }
   ],
   "source": [
    "def case(user):\n",
    "    lowercase=0\n",
    "    Uppercase=0\n",
    "    for i in user:\n",
    "            if i.islower():\n",
    "                lowercase=lowercase+1\n",
    "                \n",
    "                \n",
    "            else:\n",
    "                i.isupper()\n",
    "                Uppercase=Uppercase+1\n",
    "    \n",
    "    print(\"lowercase count=\",lowercase)\n",
    "    print (\"uppercase count=\",Uppercase)\n",
    "user=(input(\"enter the string\"))\n",
    "case(user)"
   ]
  },
  {
   "cell_type": "markdown",
   "id": "5208208f",
   "metadata": {},
   "source": [
    "# 7.Define a function that accepts roll number and returns whether the student is present or absent.\n"
   ]
  },
  {
   "cell_type": "code",
   "execution_count": 21,
   "id": "2e6132be",
   "metadata": {},
   "outputs": [
    {
     "name": "stdout",
     "output_type": "stream",
     "text": [
      "enter the number7\n",
      "absent 7\n"
     ]
    }
   ],
   "source": [
    "\n",
    "\n",
    "def rollno(b):\n",
    "    list1 = [22,55,6,89,88]\n",
    "    if b in list1:\n",
    "        print(\"present\",b)\n",
    "    else:\n",
    "        print(\"absent\",b)\n",
    "b = int(input(\"enter the number\"))\n",
    "rollno(b)\n",
    "\n"
   ]
  },
  {
   "cell_type": "markdown",
   "id": "c0c0fc23",
   "metadata": {},
   "source": [
    "# 8.Define a function which counts vowels and consonant in a word.\n"
   ]
  },
  {
   "cell_type": "code",
   "execution_count": null,
   "id": "8895c374",
   "metadata": {},
   "outputs": [],
   "source": [
    " letter=input(\"Enter only one word: \")\n",
    "def word(a):\n",
    "    vowels1 = \"a,i,e,o,u,I,A,O,U,E\"\n",
    "    vowel=0\n",
    "    cont=0\n",
    "    for i in letter:\n",
    "        if i in vowels1:\n",
    "            vowel+=1\n",
    "    \n",
    "        else:\n",
    "            cont+=1\n",
    "    print(\"Total vowels in given sentence:\",vowel)\n",
    "    print(\"Total consonant in given sentence:\",cont)\n",
    "word(letter)\n"
   ]
  },
  {
   "cell_type": "code",
   "execution_count": 2,
   "id": "ee6135d5",
   "metadata": {},
   "outputs": [
    {
     "name": "stdout",
     "output_type": "stream",
     "text": [
      "vowels are 2\n",
      "consonant is 2\n"
     ]
    }
   ],
   "source": [
    "# def vow_cons():\n",
    "#     data = \"iram\"\n",
    "#     vowels =\"a,i,e,o,u\"\n",
    "#     vowel= 0\n",
    "#     cons = 0\n",
    "#     for i in data:\n",
    "#         if i in vowels:\n",
    "#             vowel+=1\n",
    "#         else:\n",
    "#             cons+=1\n",
    "\n",
    "#     print(\"vowels are\",vowel)\n",
    "#     print(\"consonant is\",cons)\n",
    "# vow_cons()\n"
   ]
  },
  {
   "cell_type": "markdown",
   "id": "001edf60",
   "metadata": {},
   "source": [
    "# 9.Define a function that accepts radius and returns the area of a circle. "
   ]
  },
  {
   "cell_type": "code",
   "execution_count": 5,
   "id": "6d8efe8b",
   "metadata": {},
   "outputs": [
    {
     "name": "stdout",
     "output_type": "stream",
     "text": [
      "Enter the number to find raduis: 10\n",
      "Area of the circle is:  314.1592653589793\n"
     ]
    }
   ],
   "source": [
    "import math\n",
    "r=float(input(\"Enter the number to find raduis: \"))\n",
    "area=math.pi * r * r\n",
    "print (\"Area of the circle is: \",area )"
   ]
  },
  {
   "cell_type": "markdown",
   "id": "7c0c6da6",
   "metadata": {},
   "source": [
    "\n",
    "\n",
    "If  is odd, print Weird\n",
    "If  is even and in the inclusive range of  to , print Not Weird\n",
    "If  is even and in the inclusive range of  to , print Weird\n",
    "If  is even and greater than , print Not Weird"
   ]
  },
  {
   "cell_type": "code",
   "execution_count": 10,
   "id": "f5101e9b",
   "metadata": {},
   "outputs": [
    {
     "name": "stdout",
     "output_type": "stream",
     "text": [
      "no19\n",
      "Weird\n"
     ]
    }
   ],
   "source": [
    "n=int(input(\"no\"))\n",
    "if (n % 2) ==1:\n",
    "        print(\"Weird\")\n",
    "elif n%2==0 and range(2,6):  \n",
    "    print(\"not Weird\")\n",
    "elif n%2==0 and range(6,21):\n",
    "    print(\"Weird\")\n",
    "else:\n",
    "    print(\"Not weird\")"
   ]
  },
  {
   "cell_type": "code",
   "execution_count": 11,
   "id": "824af312",
   "metadata": {},
   "outputs": [
    {
     "name": "stdout",
     "output_type": "stream",
     "text": [
      "no8\n",
      "Weird\n"
     ]
    }
   ],
   "source": [
    "n=int(input(\"no\"))\n",
    "\n",
    "if (n % 2) ==1:\n",
    "        print(\"Weird\")\n",
    "else:\n",
    "    if n in range(2,6):  \n",
    "       print(\"not Weird\")\n",
    "    if n in range(6,21):\n",
    "       print(\"Weird\")\n",
    "    else:\n",
    "        print(\"Not weird\")"
   ]
  },
  {
   "cell_type": "code",
   "execution_count": null,
   "id": "7cb88cde",
   "metadata": {},
   "outputs": [],
   "source": [
    "n = int(raw_input())\n",
    "if n % 2 == 1:\n",
    "    print \"Weird\"\n",
    "elif n % 2 == 0 and 2 <= n <= 5:\n",
    "    print \"Not Weird\"\n",
    "elif n % 2 == 0 and 6 <= n <= 20:\n",
    "    print \"Weird\"\n",
    "else:\n",
    "    print \"Not Weird\""
   ]
  },
  {
   "cell_type": "code",
   "execution_count": null,
   "id": "b000eb07",
   "metadata": {},
   "outputs": [],
   "source": [
    "leap = False\n",
    "    \n",
    "    # Write your logic here\n",
    "    if year%4==0:\n",
    "        if year%100==0:\n",
    "            if year%400==0:\n",
    "                leap=True\n",
    "            else:\n",
    "                leap=False\n",
    "        else:\n",
    "             leap=True\n",
    "    else:\n",
    "        leap=False\n",
    "\n",
    "    return leap\n",
    "\n",
    "\n",
    "\n",
    "year = int(input())\n",
    "print(is_leap(year))\n",
    "                        \n",
    "\n",
    "\n",
    "\n",
    "\n",
    "\n",
    "\n"
   ]
  },
  {
   "cell_type": "code",
   "execution_count": 3,
   "id": "194f390e",
   "metadata": {},
   "outputs": [
    {
     "name": "stdout",
     "output_type": "stream",
     "text": [
      "8\n",
      "8\n",
      "8\n",
      "8\n",
      "[[0, 0, 0], [0, 0, 1], [0, 0, 2], [0, 0, 3], [0, 0, 4], [0, 0, 5], [0, 0, 6], [0, 0, 7], [0, 1, 0], [0, 1, 1], [0, 1, 2], [0, 1, 3], [0, 1, 4], [0, 1, 5], [0, 1, 6], [0, 1, 8], [0, 2, 0], [0, 2, 1], [0, 2, 2], [0, 2, 3], [0, 2, 4], [0, 2, 5], [0, 2, 7], [0, 2, 8], [0, 3, 0], [0, 3, 1], [0, 3, 2], [0, 3, 3], [0, 3, 4], [0, 3, 6], [0, 3, 7], [0, 3, 8], [0, 4, 0], [0, 4, 1], [0, 4, 2], [0, 4, 3], [0, 4, 5], [0, 4, 6], [0, 4, 7], [0, 4, 8], [0, 5, 0], [0, 5, 1], [0, 5, 2], [0, 5, 4], [0, 5, 5], [0, 5, 6], [0, 5, 7], [0, 5, 8], [0, 6, 0], [0, 6, 1], [0, 6, 3], [0, 6, 4], [0, 6, 5], [0, 6, 6], [0, 6, 7], [0, 6, 8], [0, 7, 0], [0, 7, 2], [0, 7, 3], [0, 7, 4], [0, 7, 5], [0, 7, 6], [0, 7, 7], [0, 7, 8], [0, 8, 1], [0, 8, 2], [0, 8, 3], [0, 8, 4], [0, 8, 5], [0, 8, 6], [0, 8, 7], [0, 8, 8], [1, 0, 0], [1, 0, 1], [1, 0, 2], [1, 0, 3], [1, 0, 4], [1, 0, 5], [1, 0, 6], [1, 0, 8], [1, 1, 0], [1, 1, 1], [1, 1, 2], [1, 1, 3], [1, 1, 4], [1, 1, 5], [1, 1, 7], [1, 1, 8], [1, 2, 0], [1, 2, 1], [1, 2, 2], [1, 2, 3], [1, 2, 4], [1, 2, 6], [1, 2, 7], [1, 2, 8], [1, 3, 0], [1, 3, 1], [1, 3, 2], [1, 3, 3], [1, 3, 5], [1, 3, 6], [1, 3, 7], [1, 3, 8], [1, 4, 0], [1, 4, 1], [1, 4, 2], [1, 4, 4], [1, 4, 5], [1, 4, 6], [1, 4, 7], [1, 4, 8], [1, 5, 0], [1, 5, 1], [1, 5, 3], [1, 5, 4], [1, 5, 5], [1, 5, 6], [1, 5, 7], [1, 5, 8], [1, 6, 0], [1, 6, 2], [1, 6, 3], [1, 6, 4], [1, 6, 5], [1, 6, 6], [1, 6, 7], [1, 6, 8], [1, 7, 1], [1, 7, 2], [1, 7, 3], [1, 7, 4], [1, 7, 5], [1, 7, 6], [1, 7, 7], [1, 7, 8], [1, 8, 0], [1, 8, 1], [1, 8, 2], [1, 8, 3], [1, 8, 4], [1, 8, 5], [1, 8, 6], [1, 8, 7], [1, 8, 8], [2, 0, 0], [2, 0, 1], [2, 0, 2], [2, 0, 3], [2, 0, 4], [2, 0, 5], [2, 0, 7], [2, 0, 8], [2, 1, 0], [2, 1, 1], [2, 1, 2], [2, 1, 3], [2, 1, 4], [2, 1, 6], [2, 1, 7], [2, 1, 8], [2, 2, 0], [2, 2, 1], [2, 2, 2], [2, 2, 3], [2, 2, 5], [2, 2, 6], [2, 2, 7], [2, 2, 8], [2, 3, 0], [2, 3, 1], [2, 3, 2], [2, 3, 4], [2, 3, 5], [2, 3, 6], [2, 3, 7], [2, 3, 8], [2, 4, 0], [2, 4, 1], [2, 4, 3], [2, 4, 4], [2, 4, 5], [2, 4, 6], [2, 4, 7], [2, 4, 8], [2, 5, 0], [2, 5, 2], [2, 5, 3], [2, 5, 4], [2, 5, 5], [2, 5, 6], [2, 5, 7], [2, 5, 8], [2, 6, 1], [2, 6, 2], [2, 6, 3], [2, 6, 4], [2, 6, 5], [2, 6, 6], [2, 6, 7], [2, 6, 8], [2, 7, 0], [2, 7, 1], [2, 7, 2], [2, 7, 3], [2, 7, 4], [2, 7, 5], [2, 7, 6], [2, 7, 7], [2, 7, 8], [2, 8, 0], [2, 8, 1], [2, 8, 2], [2, 8, 3], [2, 8, 4], [2, 8, 5], [2, 8, 6], [2, 8, 7], [2, 8, 8], [3, 0, 0], [3, 0, 1], [3, 0, 2], [3, 0, 3], [3, 0, 4], [3, 0, 6], [3, 0, 7], [3, 0, 8], [3, 1, 0], [3, 1, 1], [3, 1, 2], [3, 1, 3], [3, 1, 5], [3, 1, 6], [3, 1, 7], [3, 1, 8], [3, 2, 0], [3, 2, 1], [3, 2, 2], [3, 2, 4], [3, 2, 5], [3, 2, 6], [3, 2, 7], [3, 2, 8], [3, 3, 0], [3, 3, 1], [3, 3, 3], [3, 3, 4], [3, 3, 5], [3, 3, 6], [3, 3, 7], [3, 3, 8], [3, 4, 0], [3, 4, 2], [3, 4, 3], [3, 4, 4], [3, 4, 5], [3, 4, 6], [3, 4, 7], [3, 4, 8], [3, 5, 1], [3, 5, 2], [3, 5, 3], [3, 5, 4], [3, 5, 5], [3, 5, 6], [3, 5, 7], [3, 5, 8], [3, 6, 0], [3, 6, 1], [3, 6, 2], [3, 6, 3], [3, 6, 4], [3, 6, 5], [3, 6, 6], [3, 6, 7], [3, 6, 8], [3, 7, 0], [3, 7, 1], [3, 7, 2], [3, 7, 3], [3, 7, 4], [3, 7, 5], [3, 7, 6], [3, 7, 7], [3, 7, 8], [3, 8, 0], [3, 8, 1], [3, 8, 2], [3, 8, 3], [3, 8, 4], [3, 8, 5], [3, 8, 6], [3, 8, 7], [3, 8, 8], [4, 0, 0], [4, 0, 1], [4, 0, 2], [4, 0, 3], [4, 0, 5], [4, 0, 6], [4, 0, 7], [4, 0, 8], [4, 1, 0], [4, 1, 1], [4, 1, 2], [4, 1, 4], [4, 1, 5], [4, 1, 6], [4, 1, 7], [4, 1, 8], [4, 2, 0], [4, 2, 1], [4, 2, 3], [4, 2, 4], [4, 2, 5], [4, 2, 6], [4, 2, 7], [4, 2, 8], [4, 3, 0], [4, 3, 2], [4, 3, 3], [4, 3, 4], [4, 3, 5], [4, 3, 6], [4, 3, 7], [4, 3, 8], [4, 4, 1], [4, 4, 2], [4, 4, 3], [4, 4, 4], [4, 4, 5], [4, 4, 6], [4, 4, 7], [4, 4, 8], [4, 5, 0], [4, 5, 1], [4, 5, 2], [4, 5, 3], [4, 5, 4], [4, 5, 5], [4, 5, 6], [4, 5, 7], [4, 5, 8], [4, 6, 0], [4, 6, 1], [4, 6, 2], [4, 6, 3], [4, 6, 4], [4, 6, 5], [4, 6, 6], [4, 6, 7], [4, 6, 8], [4, 7, 0], [4, 7, 1], [4, 7, 2], [4, 7, 3], [4, 7, 4], [4, 7, 5], [4, 7, 6], [4, 7, 7], [4, 7, 8], [4, 8, 0], [4, 8, 1], [4, 8, 2], [4, 8, 3], [4, 8, 4], [4, 8, 5], [4, 8, 6], [4, 8, 7], [4, 8, 8], [5, 0, 0], [5, 0, 1], [5, 0, 2], [5, 0, 4], [5, 0, 5], [5, 0, 6], [5, 0, 7], [5, 0, 8], [5, 1, 0], [5, 1, 1], [5, 1, 3], [5, 1, 4], [5, 1, 5], [5, 1, 6], [5, 1, 7], [5, 1, 8], [5, 2, 0], [5, 2, 2], [5, 2, 3], [5, 2, 4], [5, 2, 5], [5, 2, 6], [5, 2, 7], [5, 2, 8], [5, 3, 1], [5, 3, 2], [5, 3, 3], [5, 3, 4], [5, 3, 5], [5, 3, 6], [5, 3, 7], [5, 3, 8], [5, 4, 0], [5, 4, 1], [5, 4, 2], [5, 4, 3], [5, 4, 4], [5, 4, 5], [5, 4, 6], [5, 4, 7], [5, 4, 8], [5, 5, 0], [5, 5, 1], [5, 5, 2], [5, 5, 3], [5, 5, 4], [5, 5, 5], [5, 5, 6], [5, 5, 7], [5, 5, 8], [5, 6, 0], [5, 6, 1], [5, 6, 2], [5, 6, 3], [5, 6, 4], [5, 6, 5], [5, 6, 6], [5, 6, 7], [5, 6, 8], [5, 7, 0], [5, 7, 1], [5, 7, 2], [5, 7, 3], [5, 7, 4], [5, 7, 5], [5, 7, 6], [5, 7, 7], [5, 7, 8], [5, 8, 0], [5, 8, 1], [5, 8, 2], [5, 8, 3], [5, 8, 4], [5, 8, 5], [5, 8, 6], [5, 8, 7], [5, 8, 8], [6, 0, 0], [6, 0, 1], [6, 0, 3], [6, 0, 4], [6, 0, 5], [6, 0, 6], [6, 0, 7], [6, 0, 8], [6, 1, 0], [6, 1, 2], [6, 1, 3], [6, 1, 4], [6, 1, 5], [6, 1, 6], [6, 1, 7], [6, 1, 8], [6, 2, 1], [6, 2, 2], [6, 2, 3], [6, 2, 4], [6, 2, 5], [6, 2, 6], [6, 2, 7], [6, 2, 8], [6, 3, 0], [6, 3, 1], [6, 3, 2], [6, 3, 3], [6, 3, 4], [6, 3, 5], [6, 3, 6], [6, 3, 7], [6, 3, 8], [6, 4, 0], [6, 4, 1], [6, 4, 2], [6, 4, 3], [6, 4, 4], [6, 4, 5], [6, 4, 6], [6, 4, 7], [6, 4, 8], [6, 5, 0], [6, 5, 1], [6, 5, 2], [6, 5, 3], [6, 5, 4], [6, 5, 5], [6, 5, 6], [6, 5, 7], [6, 5, 8], [6, 6, 0], [6, 6, 1], [6, 6, 2], [6, 6, 3], [6, 6, 4], [6, 6, 5], [6, 6, 6], [6, 6, 7], [6, 6, 8], [6, 7, 0], [6, 7, 1], [6, 7, 2], [6, 7, 3], [6, 7, 4], [6, 7, 5], [6, 7, 6], [6, 7, 7], [6, 7, 8], [6, 8, 0], [6, 8, 1], [6, 8, 2], [6, 8, 3], [6, 8, 4], [6, 8, 5], [6, 8, 6], [6, 8, 7], [6, 8, 8], [7, 0, 0], [7, 0, 2], [7, 0, 3], [7, 0, 4], [7, 0, 5], [7, 0, 6], [7, 0, 7], [7, 0, 8], [7, 1, 1], [7, 1, 2], [7, 1, 3], [7, 1, 4], [7, 1, 5], [7, 1, 6], [7, 1, 7], [7, 1, 8], [7, 2, 0], [7, 2, 1], [7, 2, 2], [7, 2, 3], [7, 2, 4], [7, 2, 5], [7, 2, 6], [7, 2, 7], [7, 2, 8], [7, 3, 0], [7, 3, 1], [7, 3, 2], [7, 3, 3], [7, 3, 4], [7, 3, 5], [7, 3, 6], [7, 3, 7], [7, 3, 8], [7, 4, 0], [7, 4, 1], [7, 4, 2], [7, 4, 3], [7, 4, 4], [7, 4, 5], [7, 4, 6], [7, 4, 7], [7, 4, 8], [7, 5, 0], [7, 5, 1], [7, 5, 2], [7, 5, 3], [7, 5, 4], [7, 5, 5], [7, 5, 6], [7, 5, 7], [7, 5, 8], [7, 6, 0], [7, 6, 1], [7, 6, 2], [7, 6, 3], [7, 6, 4], [7, 6, 5], [7, 6, 6], [7, 6, 7], [7, 6, 8], [7, 7, 0], [7, 7, 1], [7, 7, 2], [7, 7, 3], [7, 7, 4], [7, 7, 5], [7, 7, 6], [7, 7, 7], [7, 7, 8], [7, 8, 0], [7, 8, 1], [7, 8, 2], [7, 8, 3], [7, 8, 4], [7, 8, 5], [7, 8, 6], [7, 8, 7], [7, 8, 8], [8, 0, 1], [8, 0, 2], [8, 0, 3], [8, 0, 4], [8, 0, 5], [8, 0, 6], [8, 0, 7], [8, 0, 8], [8, 1, 0], [8, 1, 1], [8, 1, 2], [8, 1, 3], [8, 1, 4], [8, 1, 5], [8, 1, 6], [8, 1, 7], [8, 1, 8], [8, 2, 0], [8, 2, 1], [8, 2, 2], [8, 2, 3], [8, 2, 4], [8, 2, 5], [8, 2, 6], [8, 2, 7], [8, 2, 8], [8, 3, 0], [8, 3, 1], [8, 3, 2], [8, 3, 3], [8, 3, 4], [8, 3, 5], [8, 3, 6], [8, 3, 7], [8, 3, 8], [8, 4, 0], [8, 4, 1], [8, 4, 2], [8, 4, 3], [8, 4, 4], [8, 4, 5], [8, 4, 6], [8, 4, 7], [8, 4, 8], [8, 5, 0], [8, 5, 1], [8, 5, 2], [8, 5, 3], [8, 5, 4], [8, 5, 5], [8, 5, 6], [8, 5, 7], [8, 5, 8], [8, 6, 0], [8, 6, 1], [8, 6, 2], [8, 6, 3], [8, 6, 4], [8, 6, 5], [8, 6, 6], [8, 6, 7], [8, 6, 8], [8, 7, 0], [8, 7, 1], [8, 7, 2], [8, 7, 3], [8, 7, 4], [8, 7, 5], [8, 7, 6], [8, 7, 7], [8, 7, 8], [8, 8, 0], [8, 8, 1], [8, 8, 2], [8, 8, 3], [8, 8, 4], [8, 8, 5], [8, 8, 6], [8, 8, 7], [8, 8, 8]]\n"
     ]
    }
   ],
   "source": [
    "x = int(input())\n",
    "y = int(input())\n",
    "z = int(input())\n",
    "n = int(input())\n",
    "b=[]\n",
    "for i in range(x+1):\n",
    "        for j in range(y+1):\n",
    "            for k in range(z+1):\n",
    "                if i+j+k==n:\n",
    "                    continue\n",
    "                else:\n",
    "                    b.append([i,j,k])\n",
    "    \n",
    "print(b)\n",
    "                        \n",
    "\n",
    "\n",
    "\n",
    "\n",
    "\n",
    "\n"
   ]
  },
  {
   "cell_type": "code",
   "execution_count": 2,
   "id": "ac4aaa75",
   "metadata": {},
   "outputs": [
    {
     "name": "stdout",
     "output_type": "stream",
     "text": [
      "even\n",
      "even\n",
      "even\n",
      "odd\n",
      "odd\n"
     ]
    }
   ],
   "source": [
    "a=[2,4,6,7,3]\n",
    "for i in a:\n",
    "    if i%2==1:\n",
    "        print(\"odd\")\n",
    "    else:\n",
    "        print(\"even\")\n",
    "    "
   ]
  },
  {
   "cell_type": "code",
   "execution_count": 4,
   "id": "d9ee484e",
   "metadata": {},
   "outputs": [
    {
     "name": "stdout",
     "output_type": "stream",
     "text": [
      "False\n"
     ]
    }
   ],
   "source": [
    "a=\"26i\"\n",
    "x=a.isnumeric()\n",
    "print(x)"
   ]
  },
  {
   "cell_type": "code",
   "execution_count": 6,
   "id": "be390968",
   "metadata": {},
   "outputs": [
    {
     "name": "stdout",
     "output_type": "stream",
     "text": [
      "mari\n"
     ]
    }
   ],
   "source": [
    "a=\"iramsayyed\"\n",
    "b=a[3::-1]\n",
    "print(b)"
   ]
  },
  {
   "cell_type": "code",
   "execution_count": 14,
   "id": "a867bb6b",
   "metadata": {},
   "outputs": [
    {
     "name": "stdout",
     "output_type": "stream",
     "text": [
      "j\n"
     ]
    }
   ],
   "source": [
    "a=\"abcdefghij\"\n",
    "b=a[-1::2]\n",
    "print(b)"
   ]
  },
  {
   "cell_type": "code",
   "execution_count": 17,
   "id": "2b6a79ca",
   "metadata": {},
   "outputs": [
    {
     "ename": "TypeError",
     "evalue": "'str' object does not support item assignment",
     "output_type": "error",
     "traceback": [
      "\u001b[1;31m---------------------------------------------------------------------------\u001b[0m",
      "\u001b[1;31mTypeError\u001b[0m                                 Traceback (most recent call last)",
      "Input \u001b[1;32mIn [17]\u001b[0m, in \u001b[0;36m<cell line: 1>\u001b[1;34m()\u001b[0m\n\u001b[1;32m----> 1\u001b[0m topic[\u001b[38;5;241m1\u001b[39m:\u001b[38;5;241m6\u001b[39m] \u001b[38;5;241m=\u001b[39m \u001b[38;5;124m\"\u001b[39m\u001b[38;5;124mPython,Slicing\u001b[39m\u001b[38;5;124m\"\u001b[39m\n\u001b[0;32m      3\u001b[0m \u001b[38;5;66;03m# Extract data\u001b[39;00m\n\u001b[0;32m      5\u001b[0m \u001b[38;5;28mprint\u001b[39m(topic)\n",
      "\u001b[1;31mTypeError\u001b[0m: 'str' object does not support item assignment"
     ]
    }
   ],
   "source": [
    "topic[1:6] = \"Python,Slicing\"\n",
    "\n",
    "# Extract data\n",
    "\n",
    "print(topic)"
   ]
  },
  {
   "cell_type": "code",
   "execution_count": 15,
   "id": "be1e5278",
   "metadata": {},
   "outputs": [
    {
     "name": "stdout",
     "output_type": "stream",
     "text": [
      "Java\n"
     ]
    }
   ],
   "source": [
    "topic = 'Java'\n",
    "print(topic[0:4])"
   ]
  },
  {
   "cell_type": "code",
   "execution_count": 21,
   "id": "215b73cc",
   "metadata": {},
   "outputs": [
    {
     "name": "stdout",
     "output_type": "stream",
     "text": [
      "['orange', 'green']\n"
     ]
    }
   ],
   "source": [
    "colors = ['red', 'green', 'blue', 'orange','purple','seagreen','white']\n",
    "\n",
    "#print(colors[-3 : ])\n",
    "#print(colors[-4 :5])\n",
    "print(colors[3::-2])\n"
   ]
  },
  {
   "cell_type": "code",
   "execution_count": 22,
   "id": "d678b377",
   "metadata": {},
   "outputs": [
    {
     "name": "stdout",
     "output_type": "stream",
     "text": [
      "Python Slicing\n"
     ]
    }
   ],
   "source": [
    "topic = 'Python Slicing'\n",
    "\n",
    "# Extract data\n",
    "print(topic[0:6])"
   ]
  },
  {
   "cell_type": "code",
   "execution_count": 23,
   "id": "75cee986",
   "metadata": {},
   "outputs": [
    {
     "name": "stdout",
     "output_type": "stream",
     "text": [
      "Java\n"
     ]
    }
   ],
   "source": [
    "topic = 'Java'\n",
    "print(topic[0:50])"
   ]
  },
  {
   "cell_type": "code",
   "execution_count": 34,
   "id": "3dd07682",
   "metadata": {},
   "outputs": [
    {
     "name": "stdout",
     "output_type": "stream",
     "text": [
      "[]\n"
     ]
    }
   ],
   "source": [
    "list=[]\n",
    "    for i in range(N):\n",
    "        s=N.split()\n",
    "        "
   ]
  },
  {
   "cell_type": "code",
   "execution_count": null,
   "id": "78d16b56",
   "metadata": {},
   "outputs": [],
   "source": []
  }
 ],
 "metadata": {
  "kernelspec": {
   "display_name": "Python 3 (ipykernel)",
   "language": "python",
   "name": "python3"
  },
  "language_info": {
   "codemirror_mode": {
    "name": "ipython",
    "version": 3
   },
   "file_extension": ".py",
   "mimetype": "text/x-python",
   "name": "python",
   "nbconvert_exporter": "python",
   "pygments_lexer": "ipython3",
   "version": "3.10.4"
  }
 },
 "nbformat": 4,
 "nbformat_minor": 5
}
