{
 "cells": [
  {
   "cell_type": "markdown",
   "id": "2b30f0d4",
   "metadata": {},
   "source": [
    "# palidrome Number"
   ]
  },
  {
   "cell_type": "code",
   "execution_count": 2,
   "id": "a6c84d6b",
   "metadata": {},
   "outputs": [
    {
     "name": "stdout",
     "output_type": "stream",
     "text": [
      "enter any number: 525\n",
      "It is a palidrome Number\n"
     ]
    }
   ],
   "source": [
    "def Palidrome_num(x):\n",
    "    rev = 0\n",
    "    i=x\n",
    "    while x>0:\n",
    "        rev=rev*10+x%10\n",
    "        x=x//10\n",
    "    if (i==rev):\n",
    "        print(\"It is a palidrome Number\")\n",
    "    else:\n",
    "        print(\"It is not palidrome Number\")\n",
    "x=int(input(\"enter any number: \"))     \n",
    "Palidrome_num(x)       \n",
    "\n",
    "            "
   ]
  },
  {
   "cell_type": "markdown",
   "id": "75b16ec5",
   "metadata": {},
   "source": [
    "# Palidrome String(using Slicing)"
   ]
  },
  {
   "cell_type": "code",
   "execution_count": 1,
   "id": "ce43a0e4",
   "metadata": {},
   "outputs": [
    {
     "name": "stdout",
     "output_type": "stream",
     "text": [
      "enter any word: iram\n",
      "mari\n",
      "It is not palidrome\n"
     ]
    }
   ],
   "source": [
    "x=input(\"enter any word: \")   \n",
    "b=x[::-1]\n",
    "print(b)\n",
    "if (b==x):\n",
    "    print(\"It is palidrom\")\n",
    "else:\n",
    "    print(\"It is not palidrome\")"
   ]
  },
  {
   "cell_type": "markdown",
   "id": "2aea58ce",
   "metadata": {},
   "source": [
    "# Palidrome String(using while loop)"
   ]
  },
  {
   "cell_type": "code",
   "execution_count": 2,
   "id": "71769dcc",
   "metadata": {},
   "outputs": [
    {
     "name": "stdout",
     "output_type": "stream",
     "text": [
      "enter any word: 22\n"
     ]
    },
    {
     "data": {
      "text/plain": [
       "'It is plaidrome'"
      ]
     },
     "execution_count": 2,
     "metadata": {},
     "output_type": "execute_result"
    }
   ],
   "source": [
    "\n",
    "def Palidrome_str(s):\n",
    "#     x=input(\"enter any word: \")  \n",
    "    n = len(s)\n",
    "    f=0\n",
    "    l=n-1\n",
    "    while (f<l):\n",
    "        if s[f]==s[l]:\n",
    "            f += 1\n",
    "            l -= 1\n",
    "        else:\n",
    "            return (\"It is not plaidrome\")\n",
    "    return (\"It is plaidrome\")\n",
    "x=input(\"enter any word: \")  \n",
    "Palidrome_str(x)       \n",
    "            "
   ]
  },
  {
   "cell_type": "markdown",
   "id": "b25bb3e8",
   "metadata": {},
   "source": [
    "# Generate an infinite fiboncii series by using a generator"
   ]
  },
  {
   "cell_type": "code",
   "execution_count": null,
   "id": "a58e29e9",
   "metadata": {},
   "outputs": [],
   "source": [
    "# def fiboncii_series():\n",
    "#     a,b=0,1\n",
    "#     while True:\n",
    "#         yield a\n",
    "#         a,b=b,a+b\n",
    "# f1=fiboncii_series()\n",
    "# for i in f1:\n",
    "#     print(i)\n",
    "    \n",
    "    \n",
    "# this is wrong methord because the loop will go into infinite times\n",
    "        "
   ]
  },
  {
   "cell_type": "markdown",
   "id": "1dd55ae7",
   "metadata": {},
   "source": [
    "# Generate an infinite fiboncii series by using a generator(using next)"
   ]
  },
  {
   "cell_type": "code",
   "execution_count": 3,
   "id": "11609330",
   "metadata": {},
   "outputs": [
    {
     "name": "stdout",
     "output_type": "stream",
     "text": [
      "0\n",
      "1\n",
      "1\n",
      "2\n",
      "3\n",
      "5\n",
      "8\n",
      "13\n"
     ]
    }
   ],
   "source": [
    "def fiboncii_series():\n",
    "    a,b=0,1\n",
    "    while True:\n",
    "        yield a\n",
    "        a,b=b,a+b\n",
    "f1=fiboncii_series()\n",
    "print(next(f1))\n",
    "print(next(f1))\n",
    "print(next(f1))\n",
    "print(next(f1))\n",
    "print(next(f1))\n",
    "print(next(f1))\n",
    "print(next(f1))\n",
    "print(next(f1))"
   ]
  },
  {
   "cell_type": "markdown",
   "id": "dbee2d8c",
   "metadata": {},
   "source": [
    "# Fiboncii series usrin normal funtion"
   ]
  },
  {
   "cell_type": "code",
   "execution_count": 6,
   "id": "b1ec8ced",
   "metadata": {},
   "outputs": [
    {
     "name": "stdout",
     "output_type": "stream",
     "text": [
      "0\n",
      "1\n",
      "1\n",
      "2\n",
      "3\n",
      "5\n",
      "8\n",
      "13\n",
      "21\n",
      "34\n",
      "55\n",
      "89\n"
     ]
    }
   ],
   "source": [
    "\n",
    "a=0\n",
    "b=1\n",
    "print(a)\n",
    "print(b)\n",
    "for i in range(10):\n",
    "    c=a+b\n",
    "    a=b\n",
    "    b=c\n",
    "    print(c)\n",
    "        \n",
    "        \n",
    "    \n",
    " "
   ]
  },
  {
   "cell_type": "markdown",
   "id": "f70866b5",
   "metadata": {},
   "source": [
    "# max number without using max()\n"
   ]
  },
  {
   "cell_type": "code",
   "execution_count": 4,
   "id": "61d1e7de",
   "metadata": {},
   "outputs": [
    {
     "name": "stdout",
     "output_type": "stream",
     "text": [
      "max number is 200\n",
      "max number is 400\n"
     ]
    }
   ],
   "source": [
    "def max_num(A):\n",
    "    b=0\n",
    "    for i in A:\n",
    "        while i>b:\n",
    "            b=i\n",
    "    print(\"max number is\",b)\n",
    "b=0\n",
    "\n",
    "A=[100,200,90,80,1]\n",
    "max_num(A)\n",
    "A=[100,400,90,80,1]\n",
    "max_num(A)\n"
   ]
  },
  {
   "cell_type": "code",
   "execution_count": null,
   "id": "13415500",
   "metadata": {},
   "outputs": [],
   "source": [
    "a=[1,1000,300]\n",
    "b=0\n",
    "for i in a:\n",
    "    while i"
   ]
  },
  {
   "cell_type": "markdown",
   "id": "c5b18f5f",
   "metadata": {},
   "source": [
    "#  Find the student who has Highest marks ?\n"
   ]
  },
  {
   "cell_type": "code",
   "execution_count": 1,
   "id": "23e37462",
   "metadata": {},
   "outputs": [
    {
     "ename": "AttributeError",
     "evalue": "'str' object has no attribute 'get'",
     "output_type": "error",
     "traceback": [
      "\u001b[1;31m---------------------------------------------------------------------------\u001b[0m",
      "\u001b[1;31mAttributeError\u001b[0m                            Traceback (most recent call last)",
      "Input \u001b[1;32mIn [1]\u001b[0m, in \u001b[0;36m<cell line: 4>\u001b[1;34m()\u001b[0m\n\u001b[0;32m      3\u001b[0m stu\u001b[38;5;241m=\u001b[39m\u001b[38;5;124m'\u001b[39m\u001b[38;5;124m'\u001b[39m\n\u001b[0;32m      4\u001b[0m \u001b[38;5;28;01mfor\u001b[39;00m i \u001b[38;5;129;01min\u001b[39;00m student:\n\u001b[1;32m----> 5\u001b[0m     score\u001b[38;5;241m=\u001b[39m\u001b[43mi\u001b[49m\u001b[38;5;241;43m.\u001b[39;49m\u001b[43mget\u001b[49m[\u001b[38;5;124m'\u001b[39m\u001b[38;5;124mscore\u001b[39m\u001b[38;5;124m'\u001b[39m]\n\u001b[0;32m      6\u001b[0m     \u001b[38;5;28;01mif\u001b[39;00m score\u001b[38;5;241m>\u001b[39m\u001b[38;5;28mmax\u001b[39m:\n\u001b[0;32m      7\u001b[0m         \u001b[38;5;28mmax\u001b[39m\u001b[38;5;241m=\u001b[39mscore\n",
      "\u001b[1;31mAttributeError\u001b[0m: 'str' object has no attribute 'get'"
     ]
    }
   ],
   "source": [
    "student = {\"Umar\":{\"score\": 67}, \"Talha\":{\"score\": 78}, \"Shadab\":{\"score\": 17}}\n",
    "max=0\n",
    "stu=''\n",
    "for i in student:\n",
    "    score=i.get['score']\n",
    "    if score>max:\n",
    "        max=score\n",
    "        stu=i\n",
    "print(stu)\n",
    "\n",
    "    \n"
   ]
  },
  {
   "cell_type": "code",
   "execution_count": null,
   "id": "35384747",
   "metadata": {},
   "outputs": [],
   "source": []
  }
 ],
 "metadata": {
  "kernelspec": {
   "display_name": "Python 3 (ipykernel)",
   "language": "python",
   "name": "python3"
  },
  "language_info": {
   "codemirror_mode": {
    "name": "ipython",
    "version": 3
   },
   "file_extension": ".py",
   "mimetype": "text/x-python",
   "name": "python",
   "nbconvert_exporter": "python",
   "pygments_lexer": "ipython3",
   "version": "3.10.4"
  }
 },
 "nbformat": 4,
 "nbformat_minor": 5
}
