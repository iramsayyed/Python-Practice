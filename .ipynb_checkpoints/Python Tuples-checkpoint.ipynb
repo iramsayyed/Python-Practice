{
 "cells": [
  {
   "cell_type": "markdown",
   "id": "5d3ec690",
   "metadata": {},
   "source": [
    "# PYTHON TUPLES\n"
   ]
  },
  {
   "cell_type": "code",
   "execution_count": 1,
   "id": "1b56da01",
   "metadata": {},
   "outputs": [
    {
     "name": "stdout",
     "output_type": "stream",
     "text": [
      "('a', 'b', 'c')\n"
     ]
    }
   ],
   "source": [
    "mytuple=(\"a\",\"b\",\"c\")\n",
    "print(mytuple)"
   ]
  },
  {
   "cell_type": "markdown",
   "id": "35e8c764",
   "metadata": {},
   "source": [
    "## To find length of tuple(how many item are there in the tuple) "
   ]
  },
  {
   "cell_type": "code",
   "execution_count": 2,
   "id": "4210b814",
   "metadata": {},
   "outputs": [
    {
     "name": "stdout",
     "output_type": "stream",
     "text": [
      "3\n"
     ]
    }
   ],
   "source": [
    "mytuple=(\"a\",\"b\",\"c\")\n",
    "print(len(mytuple))"
   ]
  },
  {
   "cell_type": "code",
   "execution_count": 3,
   "id": "5a3126b8",
   "metadata": {},
   "outputs": [
    {
     "name": "stdout",
     "output_type": "stream",
     "text": [
      "<class 'tuple'>\n"
     ]
    }
   ],
   "source": [
    "mytuple=(\"a\",)\n",
    "print(type(mytuple))\n",
    "# if we want one item in tuple then (,) this after one item othewise it will become string"
   ]
  },
  {
   "cell_type": "code",
   "execution_count": 5,
   "id": "503ff797",
   "metadata": {},
   "outputs": [
    {
     "name": "stdout",
     "output_type": "stream",
     "text": [
      "<class 'str'>\n"
     ]
    }
   ],
   "source": [
    "mytuple=(\"a\")\n",
    "print(type(mytuple))"
   ]
  },
  {
   "cell_type": "code",
   "execution_count": 7,
   "id": "598ebc32",
   "metadata": {},
   "outputs": [
    {
     "name": "stdout",
     "output_type": "stream",
     "text": [
      "('a', ['c', 'd'], 'b', 'c')\n"
     ]
    }
   ],
   "source": [
    "mytuple=(\"a\",[\"c\",\"d\"],\"b\",\"c\")\n",
    "print(mytuple)"
   ]
  },
  {
   "cell_type": "markdown",
   "id": "f880022b",
   "metadata": {},
   "source": [
    "## Another way to write tuple"
   ]
  },
  {
   "cell_type": "code",
   "execution_count": 16,
   "id": "14505edb",
   "metadata": {},
   "outputs": [
    {
     "name": "stdout",
     "output_type": "stream",
     "text": [
      "('a',)\n"
     ]
    }
   ],
   "source": [
    "mytuple=tuple((\"a\",\"b\",\"c\"))\n",
    "print(mytuple[-3:1])"
   ]
  },
  {
   "cell_type": "code",
   "execution_count": 9,
   "id": "02230884",
   "metadata": {},
   "outputs": [
    {
     "name": "stdout",
     "output_type": "stream",
     "text": [
      "(1, 2, 3, 4, 5)\n"
     ]
    }
   ],
   "source": [
    "a=1,2,3,4,5,\n",
    "print(a)"
   ]
  },
  {
   "cell_type": "markdown",
   "id": "9e78bd85",
   "metadata": {},
   "source": [
    "## To do update in tuple (since tuples are unchangeable we can do it using another way by converting this tuple in list)"
   ]
  },
  {
   "cell_type": "code",
   "execution_count": 8,
   "id": "4d3a725e",
   "metadata": {},
   "outputs": [
    {
     "name": "stdout",
     "output_type": "stream",
     "text": [
      "('a', 'b', 'c', 'd')\n"
     ]
    }
   ],
   "source": [
    "x=(\"a\",\"b\",\"c\")\n",
    "y=list(x)\n",
    "y.append(\"d\")\n",
    "x=tuple(y)\n",
    "print(x)"
   ]
  },
  {
   "cell_type": "code",
   "execution_count": 6,
   "id": "d1d66a55",
   "metadata": {},
   "outputs": [
    {
     "name": "stdout",
     "output_type": "stream",
     "text": [
      "('a', 'b', 'c', 'd')\n"
     ]
    }
   ],
   "source": [
    "x=(\"a\",\"b\",\"c\")\n",
    "y=(\"d\",)\n",
    "x += y\n",
    "print(x)"
   ]
  },
  {
   "cell_type": "markdown",
   "id": "f5247358",
   "metadata": {},
   "source": [
    "## unpack "
   ]
  },
  {
   "cell_type": "code",
   "execution_count": 13,
   "id": "129e7a68",
   "metadata": {},
   "outputs": [
    {
     "name": "stdout",
     "output_type": "stream",
     "text": [
      "1\n",
      "2\n",
      "[3, 4, 5, 6, 7, 8, 9, 10]\n"
     ]
    }
   ],
   "source": [
    "a= (1,2,3,4,5,6,7,8,9,10)\n",
    "\n",
    "(a, b, *c) = a\n",
    "\n",
    "print(a)\n",
    "print(b)\n",
    "print(c)\n"
   ]
  },
  {
   "cell_type": "markdown",
   "id": "131aeca5",
   "metadata": {},
   "source": [
    "## python loop in tuple "
   ]
  },
  {
   "cell_type": "markdown",
   "id": "a603204d",
   "metadata": {},
   "source": [
    "## for loop"
   ]
  },
  {
   "cell_type": "code",
   "execution_count": null,
   "id": "ea2bfb85",
   "metadata": {},
   "outputs": [],
   "source": [
    "a=(1,2,,3,4,5,6,7,8,9,10)"
   ]
  },
  {
   "cell_type": "code",
   "execution_count": 7,
   "id": "c4ba721a",
   "metadata": {},
   "outputs": [
    {
     "name": "stdout",
     "output_type": "stream",
     "text": [
      "{'model': 'audi', 'color': 'red'}\n"
     ]
    }
   ],
   "source": [
    "car={\"model\":\"audi\"}\n",
    "car.update({\"color\":\"red\"})\n",
    "print(car)"
   ]
  },
  {
   "cell_type": "code",
   "execution_count": null,
   "id": "bdc3e7f0",
   "metadata": {},
   "outputs": [],
   "source": []
  },
  {
   "cell_type": "code",
   "execution_count": null,
   "id": "f6392b08",
   "metadata": {},
   "outputs": [],
   "source": []
  },
  {
   "cell_type": "code",
   "execution_count": 4,
   "id": "f307053a",
   "metadata": {},
   "outputs": [
    {
     "name": "stdout",
     "output_type": "stream",
     "text": [
      "(2, 'ashraf', 33, 'bhai')\n",
      "<class 'tuple'>\n"
     ]
    }
   ],
   "source": [
    "a=2\n",
    "b=\"ashraf\"\n",
    "c=33\n",
    "d=\"bhai\"\n",
    "p=a,b,c,d\n",
    "print(p)\n",
    "print(type(p))"
   ]
  },
  {
   "cell_type": "code",
   "execution_count": null,
   "id": "6b616017",
   "metadata": {},
   "outputs": [],
   "source": []
  }
 ],
 "metadata": {
  "kernelspec": {
   "display_name": "Python 3 (ipykernel)",
   "language": "python",
   "name": "python3"
  },
  "language_info": {
   "codemirror_mode": {
    "name": "ipython",
    "version": 3
   },
   "file_extension": ".py",
   "mimetype": "text/x-python",
   "name": "python",
   "nbconvert_exporter": "python",
   "pygments_lexer": "ipython3",
   "version": "3.10.4"
  }
 },
 "nbformat": 4,
 "nbformat_minor": 5
}
