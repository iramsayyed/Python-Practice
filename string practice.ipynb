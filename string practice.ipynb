{
 "cells": [
  {
   "cell_type": "markdown",
   "id": "c26c64de",
   "metadata": {},
   "source": [
    "## 1.To check whether a given string is a palindrome.\n"
   ]
  },
  {
   "cell_type": "code",
   "execution_count": 5,
   "id": "c5d63f43",
   "metadata": {},
   "outputs": [
    {
     "name": "stdout",
     "output_type": "stream",
     "text": [
      "Enter the Nomadam\n",
      "It is palindrome\n"
     ]
    }
   ],
   "source": [
    "a=input(\"Enter the No\")\n",
    "b=a[-1:]\n",
    "if b in a:\n",
    "#if b==a:\n",
    "    print(\"It is palindrome\")\n",
    "else:\n",
    "    print(\"It is not palindrom\")\n",
    "\n",
    " "
   ]
  },
  {
   "cell_type": "markdown",
   "id": "0e703e3f",
   "metadata": {},
   "source": [
    "## 2.To capitalize the first character in a given sentence.\n"
   ]
  },
  {
   "cell_type": "code",
   "execution_count": 14,
   "id": "24ef4092",
   "metadata": {},
   "outputs": [
    {
     "name": "stdout",
     "output_type": "stream",
     "text": [
      "Iram sayyed\n"
     ]
    }
   ],
   "source": [
    "a=\"iram sayyed\"\n",
    "b=a.capitalize()\n",
    "print(b)"
   ]
  },
  {
   "cell_type": "markdown",
   "id": "d3a84f21",
   "metadata": {},
   "source": [
    "## 3.Program to convert String to a List.\n"
   ]
  },
  {
   "cell_type": "code",
   "execution_count": 11,
   "id": "a050e764",
   "metadata": {},
   "outputs": [
    {
     "name": "stdout",
     "output_type": "stream",
     "text": [
      "['l', 'e', 'v', 'e']\n"
     ]
    }
   ],
   "source": [
    "a=\"a\",\"b\",\"c\",\"d\"\n",
    "#b=list(a)\n",
    "print(list(b))"
   ]
  },
  {
   "cell_type": "markdown",
   "id": "98ffac26",
   "metadata": {},
   "source": [
    "## 4.To sort alphabetically the words in a given sentence.\n"
   ]
  },
  {
   "cell_type": "code",
   "execution_count": 61,
   "id": "a6d29f31",
   "metadata": {},
   "outputs": [
    {
     "name": "stdout",
     "output_type": "stream",
     "text": [
      "iram\n",
      "is\n",
      "my\n",
      "name\n"
     ]
    }
   ],
   "source": [
    "a=\"my name is iram \"\n",
    "b=a.split()\n",
    "b.sort()\n",
    "for i in b:\n",
    "    print(i)\n"
   ]
  },
  {
   "cell_type": "markdown",
   "id": "df237031",
   "metadata": {},
   "source": [
    "## 5. To demonstrate any 10 function(method) of string class.\n"
   ]
  },
  {
   "cell_type": "markdown",
   "id": "420253f0",
   "metadata": {},
   "source": [
    "### 1.count() "
   ]
  },
  {
   "cell_type": "code",
   "execution_count": 35,
   "id": "e90e3564",
   "metadata": {},
   "outputs": [
    {
     "name": "stdout",
     "output_type": "stream",
     "text": [
      "2\n"
     ]
    }
   ],
   "source": [
    "a=\"zebra\",\"apple\",\"mango\",\"apple\",\"orange\"\n",
    "b=a.count(\"apple\")\n",
    "print(b)"
   ]
  },
  {
   "cell_type": "markdown",
   "id": "115d89b4",
   "metadata": {},
   "source": [
    "### 2.find()"
   ]
  },
  {
   "cell_type": "code",
   "execution_count": 39,
   "id": "cc794b40",
   "metadata": {},
   "outputs": [
    {
     "name": "stdout",
     "output_type": "stream",
     "text": [
      "5\n"
     ]
    }
   ],
   "source": [
    "a=\"keep leaning\"\n",
    "b=a.find(\"l\")\n",
    "print(b)"
   ]
  },
  {
   "cell_type": "markdown",
   "id": "1f83c7e9",
   "metadata": {},
   "source": [
    "### 3.isalnum()\n"
   ]
  },
  {
   "cell_type": "code",
   "execution_count": 45,
   "id": "bf500b9d",
   "metadata": {},
   "outputs": [
    {
     "name": "stdout",
     "output_type": "stream",
     "text": [
      "True\n"
     ]
    }
   ],
   "source": [
    "a=\"hello12\"\n",
    "b= a.isalnum()\n",
    "print(b)"
   ]
  },
  {
   "cell_type": "markdown",
   "id": "61af3486",
   "metadata": {},
   "source": [
    "### 4.expandtabs() "
   ]
  },
  {
   "cell_type": "code",
   "execution_count": 3,
   "id": "016613dd",
   "metadata": {},
   "outputs": [
    {
     "name": "stdout",
     "output_type": "stream",
     "text": [
      "i r a m\n"
     ]
    }
   ],
   "source": [
    "a= \"i\\tr\\ta\\tm\"\n",
    "b=  a.expandtabs(2)\n",
    "\n",
    "print(b)\n"
   ]
  },
  {
   "cell_type": "markdown",
   "id": "bd80cc56",
   "metadata": {},
   "source": [
    "### 5.isdigit()"
   ]
  },
  {
   "cell_type": "code",
   "execution_count": 5,
   "id": "7a7fb8d6",
   "metadata": {},
   "outputs": [
    {
     "name": "stdout",
     "output_type": "stream",
     "text": [
      "True\n"
     ]
    }
   ],
   "source": [
    "a= \"2604\"\n",
    "\n",
    "b = a.isdigit()\n",
    "\n",
    "print(b)\n"
   ]
  },
  {
   "cell_type": "markdown",
   "id": "bd045550",
   "metadata": {},
   "source": [
    "### 6.partition()"
   ]
  },
  {
   "cell_type": "code",
   "execution_count": 9,
   "id": "73b3d07b",
   "metadata": {},
   "outputs": [
    {
     "name": "stdout",
     "output_type": "stream",
     "text": [
      "('keep leraning ', 'and', ' keep shining')\n"
     ]
    }
   ],
   "source": [
    "a = \"keep leraning and keep shining\"\n",
    "\n",
    "b = a.partition(\"and\")\n",
    "\n",
    "print(b)\n"
   ]
  },
  {
   "cell_type": "markdown",
   "id": "a1b55529",
   "metadata": {},
   "source": [
    "### 7.replace"
   ]
  },
  {
   "cell_type": "code",
   "execution_count": 11,
   "id": "771eee01",
   "metadata": {},
   "outputs": [
    {
     "name": "stdout",
     "output_type": "stream",
     "text": [
      "good afternoon\n"
     ]
    }
   ],
   "source": [
    "a = \"good morning\"\n",
    "\n",
    "b = a.replace(\"morning\", \"afternoon\")\n",
    "\n",
    "print(b)\n"
   ]
  },
  {
   "cell_type": "markdown",
   "id": "906a8482",
   "metadata": {},
   "source": [
    "### 8.rfind()\n"
   ]
  },
  {
   "cell_type": "code",
   "execution_count": 2,
   "id": "ee58238d",
   "metadata": {},
   "outputs": [
    {
     "name": "stdout",
     "output_type": "stream",
     "text": [
      "14\n"
     ]
    }
   ],
   "source": [
    "a= \"keep learning keep going\"\n",
    "\n",
    "x = a.rfind(\"keep\")\n",
    "\n",
    "print(x)\n"
   ]
  },
  {
   "cell_type": "markdown",
   "id": "bf6dc785",
   "metadata": {},
   "source": [
    "### 9.split()"
   ]
  },
  {
   "cell_type": "code",
   "execution_count": 14,
   "id": "8e923be6",
   "metadata": {},
   "outputs": [
    {
     "name": "stdout",
     "output_type": "stream",
     "text": [
      "['welcome', 'to', 'the', 'jungle']\n"
     ]
    }
   ],
   "source": [
    "a = \"welcome to the jungle\"\n",
    "\n",
    "b= a.split()\n",
    "\n",
    "print(b)\n"
   ]
  },
  {
   "cell_type": "markdown",
   "id": "32403e0c",
   "metadata": {},
   "source": [
    "### 10.rindex"
   ]
  },
  {
   "cell_type": "code",
   "execution_count": 16,
   "id": "be700add",
   "metadata": {},
   "outputs": [
    {
     "name": "stdout",
     "output_type": "stream",
     "text": [
      "14\n"
     ]
    }
   ],
   "source": [
    "a= \"keep leraning keep going\"\n",
    "\n",
    "b = a.rindex(\"keep\")\n",
    "\n",
    "print(b)\n"
   ]
  },
  {
   "cell_type": "markdown",
   "id": "f750ae31",
   "metadata": {},
   "source": [
    "### 6. To demonstrate string slice\n",
    " "
   ]
  },
  {
   "cell_type": "code",
   "execution_count": 18,
   "id": "959639ab",
   "metadata": {},
   "outputs": [
    {
     "name": "stdout",
     "output_type": "stream",
     "text": [
      "keep learning \n"
     ]
    }
   ],
   "source": [
    "a= \"keep learning keep going\"\n",
    "print(a[:14])"
   ]
  },
  {
   "cell_type": "code",
   "execution_count": 24,
   "id": "e61544c2",
   "metadata": {},
   "outputs": [
    {
     "name": "stdout",
     "output_type": "stream",
     "text": [
      "eep lear\n"
     ]
    }
   ],
   "source": [
    "a= \"keep learning keep going\"\n",
    "print(a[1:-15])"
   ]
  },
  {
   "cell_type": "markdown",
   "id": "55513200",
   "metadata": {},
   "source": [
    "### 7. To check substring is Present in a Given String\n",
    " "
   ]
  },
  {
   "cell_type": "code",
   "execution_count": 1,
   "id": "5275c640",
   "metadata": {},
   "outputs": [
    {
     "name": "stdout",
     "output_type": "stream",
     "text": [
      "it is substring\n"
     ]
    }
   ],
   "source": [
    "a=\"my name is iram\"\n",
    "b=\"is\"\n",
    "if b in a:\n",
    "    print(\"it is substring\")\n",
    "else:\n",
    "    print(\"get lost\")"
   ]
  },
  {
   "cell_type": "code",
   "execution_count": 9,
   "id": "475ce6b0",
   "metadata": {},
   "outputs": [
    {
     "name": "stdout",
     "output_type": "stream",
     "text": [
      "leve\n"
     ]
    }
   ],
   "source": [
    "a=\"level\"\n",
    "b=a[:-1]\n",
    "print(b)"
   ]
  },
  {
   "cell_type": "code",
   "execution_count": 12,
   "id": "9cc16905",
   "metadata": {},
   "outputs": [
    {
     "name": "stdout",
     "output_type": "stream",
     "text": [
      "drwl\n"
     ]
    }
   ],
   "source": [
    "a='helloworld'\n",
    "print(a[-1:1:-2])"
   ]
  },
  {
   "cell_type": "code",
   "execution_count": null,
   "id": "a74d77ac",
   "metadata": {},
   "outputs": [],
   "source": []
  }
 ],
 "metadata": {
  "kernelspec": {
   "display_name": "Python 3 (ipykernel)",
   "language": "python",
   "name": "python3"
  },
  "language_info": {
   "codemirror_mode": {
    "name": "ipython",
    "version": 3
   },
   "file_extension": ".py",
   "mimetype": "text/x-python",
   "name": "python",
   "nbconvert_exporter": "python",
   "pygments_lexer": "ipython3",
   "version": "3.10.4"
  }
 },
 "nbformat": 4,
 "nbformat_minor": 5
}
