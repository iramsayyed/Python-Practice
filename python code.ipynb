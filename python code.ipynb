{
 "cells": [
  {
   "cell_type": "code",
   "execution_count": 2,
   "id": "00383c6b",
   "metadata": {},
   "outputs": [
    {
     "name": "stdout",
     "output_type": "stream",
     "text": [
      "3\n",
      "<class 'int'>\n"
     ]
    }
   ],
   "source": [
    "a=3\n",
    "print(a)\n",
    "print(type(a))"
   ]
  },
  {
   "cell_type": "markdown",
   "id": "1b6a66f0",
   "metadata": {},
   "source": [
    "# number\n"
   ]
  },
  {
   "cell_type": "code",
   "execution_count": 4,
   "id": "00d77d96",
   "metadata": {},
   "outputs": [
    {
     "name": "stdout",
     "output_type": "stream",
     "text": [
      "<class 'int'>\n",
      "<class 'float'>\n",
      "<class 'complex'>\n"
     ]
    }
   ],
   "source": [
    "x = 1\n",
    "y = 1.0\n",
    "z = 3+5j\n",
    "\n",
    "\n",
    "print(type(x))\n",
    "print(type(y))\n",
    "print(type(z))\n"
   ]
  },
  {
   "cell_type": "markdown",
   "id": "da36d362",
   "metadata": {},
   "source": [
    "\n"
   ]
  },
  {
   "cell_type": "markdown",
   "id": "dddc271d",
   "metadata": {},
   "source": [
    "## for converthing the number"
   ]
  },
  {
   "cell_type": "code",
   "execution_count": 5,
   "id": "716edc7e",
   "metadata": {},
   "outputs": [
    {
     "name": "stdout",
     "output_type": "stream",
     "text": [
      "1.0\n",
      "2\n",
      "(1+0j)\n",
      "<class 'float'>\n",
      "<class 'int'>\n",
      "<class 'complex'>\n"
     ]
    }
   ],
   "source": [
    "x = 1    \n",
    "y = 2.8 \n",
    "z = 1j   \n",
    "\n",
    "#convert from int to float:\n",
    "a = float(x)\n",
    "\n",
    "#convert from float to int:\n",
    "b = int(y)\n",
    "\n",
    "#convert from int to complex:\n",
    "c = complex(x)\n",
    "\n",
    "print(a)\n",
    "print(b)\n",
    "print(c)\n",
    "\n",
    "print(type(a))\n",
    "print(type(b))\n",
    "print(type(c))\n"
   ]
  },
  {
   "cell_type": "markdown",
   "id": "5f62e624",
   "metadata": {},
   "source": [
    "# python string\n"
   ]
  },
  {
   "cell_type": "code",
   "execution_count": 2,
   "id": "0771c2ec",
   "metadata": {},
   "outputs": [
    {
     "name": "stdout",
     "output_type": "stream",
     "text": [
      "hello world\n"
     ]
    }
   ],
   "source": [
    "print(\"hello world\")"
   ]
  },
  {
   "cell_type": "markdown",
   "id": "86f28c8e",
   "metadata": {},
   "source": [
    "It will disply index value and string are arrays"
   ]
  },
  {
   "cell_type": "code",
   "execution_count": null,
   "id": "2f1b87ad",
   "metadata": {},
   "outputs": [],
   "source": [
    "# a=\"hello,world\"\n",
    "print(a[6])"
   ]
  },
  {
   "cell_type": "markdown",
   "id": "7b323291",
   "metadata": {},
   "source": [
    "## Looping in string"
   ]
  },
  {
   "cell_type": "code",
   "execution_count": 1,
   "id": "10923208",
   "metadata": {},
   "outputs": [
    {
     "name": "stdout",
     "output_type": "stream",
     "text": [
      "b\n",
      "a\n",
      "n\n",
      "a\n",
      "n\n",
      "a\n"
     ]
    }
   ],
   "source": [
    "for x in \"banana\":\n",
    "    print(x)\n"
   ]
  },
  {
   "cell_type": "markdown",
   "id": "48e020b5",
   "metadata": {},
   "source": [
    "## string length"
   ]
  },
  {
   "cell_type": "code",
   "execution_count": 2,
   "id": "b023b327",
   "metadata": {},
   "outputs": [
    {
     "name": "stdout",
     "output_type": "stream",
     "text": [
      "12\n"
     ]
    }
   ],
   "source": [
    "x=\"hello,world!\"\n",
    "print(len(x))"
   ]
  },
  {
   "cell_type": "code",
   "execution_count": 6,
   "id": "7b4e644d",
   "metadata": {},
   "outputs": [
    {
     "name": "stdout",
     "output_type": "stream",
     "text": [
      "1\n"
     ]
    }
   ],
   "source": [
    "a=5\n",
    "b=9\n",
    "print(a & b)"
   ]
  },
  {
   "cell_type": "markdown",
   "id": "bbdc3b9a",
   "metadata": {},
   "source": [
    "## check text in the string.it will give in boolean true or false."
   ]
  },
  {
   "cell_type": "code",
   "execution_count": 12,
   "id": "d18f3c51",
   "metadata": {},
   "outputs": [
    {
     "name": "stdout",
     "output_type": "stream",
     "text": [
      "True\n"
     ]
    }
   ],
   "source": [
    "text=\"health is wealth\"\n",
    "print(\"is\" in text)"
   ]
  },
  {
   "cell_type": "markdown",
   "id": "c6888ac3",
   "metadata": {},
   "source": [
    "## use if to check..it will give output if text is present"
   ]
  },
  {
   "cell_type": "code",
   "execution_count": 10,
   "id": "488c91b7",
   "metadata": {},
   "outputs": [
    {
     "name": "stdout",
     "output_type": "stream",
     "text": [
      "yes,give is present in the text\n"
     ]
    }
   ],
   "source": [
    "text=\"never give up\"\n",
    "if \"give\" in text:\n",
    "    print(\"yes,give is present in the text\")"
   ]
  },
  {
   "cell_type": "markdown",
   "id": "c1cf6f9e",
   "metadata": {},
   "source": [
    "## Check if NOT"
   ]
  },
  {
   "cell_type": "code",
   "execution_count": 13,
   "id": "ef696e73",
   "metadata": {},
   "outputs": [
    {
     "name": "stdout",
     "output_type": "stream",
     "text": [
      "True\n"
     ]
    }
   ],
   "source": [
    "txt = \"health is wealth\"\n",
    "print(\"busy\" not in txt)\n"
   ]
  },
  {
   "cell_type": "markdown",
   "id": "b0644959",
   "metadata": {},
   "source": [
    "## use if to check..it will give output if text is present"
   ]
  },
  {
   "cell_type": "code",
   "execution_count": 15,
   "id": "02102184",
   "metadata": {},
   "outputs": [
    {
     "name": "stdout",
     "output_type": "stream",
     "text": [
      "No,money is not present in the text\n"
     ]
    }
   ],
   "source": [
    "text=\"never give up\"\n",
    "if \"money\" not in text:\n",
    "    print(\"No,money is not present in the text\")"
   ]
  },
  {
   "cell_type": "markdown",
   "id": "fd60b5c5",
   "metadata": {},
   "source": [
    "## slicing string"
   ]
  },
  {
   "cell_type": "code",
   "execution_count": 16,
   "id": "8fe9746f",
   "metadata": {},
   "outputs": [
    {
     "name": "stdout",
     "output_type": "stream",
     "text": [
      "llo\n"
     ]
    }
   ],
   "source": [
    "b = \"hello world!\"\n",
    "print(b[2:5])"
   ]
  },
  {
   "cell_type": "markdown",
   "id": "74341230",
   "metadata": {},
   "source": [
    "## slicing from start"
   ]
  },
  {
   "cell_type": "code",
   "execution_count": 18,
   "id": "7c9da61e",
   "metadata": {},
   "outputs": [
    {
     "name": "stdout",
     "output_type": "stream",
     "text": [
      "hello\n"
     ]
    }
   ],
   "source": [
    "b = \"helloworld!\"\n",
    "print(b[:5])"
   ]
  },
  {
   "cell_type": "markdown",
   "id": "49f77fcd",
   "metadata": {},
   "source": [
    "## slicing from end"
   ]
  },
  {
   "cell_type": "code",
   "execution_count": 19,
   "id": "6a47f152",
   "metadata": {},
   "outputs": [
    {
     "name": "stdout",
     "output_type": "stream",
     "text": [
      "lloworld!\n"
     ]
    }
   ],
   "source": [
    "b = \"helloworld!\"\n",
    "print(b[2:])"
   ]
  },
  {
   "cell_type": "code",
   "execution_count": 20,
   "id": "4d135ca6",
   "metadata": {},
   "outputs": [
    {
     "name": "stdout",
     "output_type": "stream",
     "text": [
      "r give up\n"
     ]
    }
   ],
   "source": [
    "b=\"never give up\"\n",
    "print(b[4:])"
   ]
  },
  {
   "cell_type": "code",
   "execution_count": 21,
   "id": "e0c8aad1",
   "metadata": {},
   "outputs": [
    {
     "name": "stdout",
     "output_type": "stream",
     "text": [
      "going\n"
     ]
    }
   ],
   "source": [
    "c=\"keep going\"\n",
    "print(c[5:])"
   ]
  },
  {
   "cell_type": "markdown",
   "id": "e02fca45",
   "metadata": {},
   "source": [
    "## negative slicing"
   ]
  },
  {
   "cell_type": "code",
   "execution_count": 27,
   "id": "eefc586a",
   "metadata": {},
   "outputs": [
    {
     "name": "stdout",
     "output_type": "stream",
     "text": [
      "hello w\n"
     ]
    }
   ],
   "source": [
    "a=\"hello world!\"\n",
    "print(a[:-5])"
   ]
  },
  {
   "cell_type": "code",
   "execution_count": 28,
   "id": "e921eca8",
   "metadata": {},
   "outputs": [
    {
     "name": "stdout",
     "output_type": "stream",
     "text": [
      "ng\n"
     ]
    }
   ],
   "source": [
    "a=\"keep lerning\"\n",
    "print(a[-2:])"
   ]
  },
  {
   "cell_type": "code",
   "execution_count": 35,
   "id": "7e1d1701",
   "metadata": {},
   "outputs": [
    {
     "name": "stdout",
     "output_type": "stream",
     "text": [
      "pays o\n"
     ]
    }
   ],
   "source": [
    "a=\"hardwork always pays off\"\n",
    "print(a[-8:-2])"
   ]
  },
  {
   "cell_type": "markdown",
   "id": "ad4fb99c",
   "metadata": {},
   "source": [
    "## modify "
   ]
  },
  {
   "cell_type": "markdown",
   "id": "1b6c991b",
   "metadata": {},
   "source": [
    "## for upper case"
   ]
  },
  {
   "cell_type": "code",
   "execution_count": 36,
   "id": "f4b88649",
   "metadata": {},
   "outputs": [
    {
     "name": "stdout",
     "output_type": "stream",
     "text": [
      "KEEP GOING\n"
     ]
    }
   ],
   "source": [
    "a=\"keep going\"\n",
    "print(a.upper())"
   ]
  },
  {
   "cell_type": "markdown",
   "id": "a862615a",
   "metadata": {},
   "source": [
    "## remove whitespace"
   ]
  },
  {
   "cell_type": "code",
   "execution_count": 38,
   "id": "9ede2090",
   "metadata": {},
   "outputs": [
    {
     "name": "stdout",
     "output_type": "stream",
     "text": [
      "good afternoon\n"
     ]
    }
   ],
   "source": [
    "a=\" good afternoon\"\n",
    "print(a.strip())"
   ]
  },
  {
   "cell_type": "markdown",
   "id": "b258c1e9",
   "metadata": {},
   "source": [
    "## replace"
   ]
  },
  {
   "cell_type": "code",
   "execution_count": 41,
   "id": "4b68da9b",
   "metadata": {},
   "outputs": [
    {
     "name": "stdout",
     "output_type": "stream",
     "text": [
      "good morning\n"
     ]
    }
   ],
   "source": [
    "a=\"food morning\"\n",
    "print(a.replace(\"f\",\"g\"))"
   ]
  },
  {
   "cell_type": "markdown",
   "id": "789431b5",
   "metadata": {},
   "source": [
    "## split string:returns a list where the text between the specified separator becomes the list items.\n",
    "\n"
   ]
  },
  {
   "cell_type": "code",
   "execution_count": 49,
   "id": "e7426b2c",
   "metadata": {},
   "outputs": [
    {
     "name": "stdout",
     "output_type": "stream",
     "text": [
      "['good morning', ' have nice a day']\n"
     ]
    }
   ],
   "source": [
    "a=\"good morning, have nice a day\"\n",
    "b=a.split(\",\")\n",
    "print(b)"
   ]
  },
  {
   "cell_type": "code",
   "execution_count": 46,
   "id": "444001bb",
   "metadata": {},
   "outputs": [
    {
     "name": "stdout",
     "output_type": "stream",
     "text": [
      "['Hello', ' World!']\n"
     ]
    }
   ],
   "source": [
    "a = \"Hello, World!\"\n",
    "b = a.split(\",\")\n",
    "print(b)\n"
   ]
  },
  {
   "cell_type": "markdown",
   "id": "f91faff8",
   "metadata": {},
   "source": [
    "## String Concatenation"
   ]
  },
  {
   "cell_type": "code",
   "execution_count": 50,
   "id": "3f36da6a",
   "metadata": {},
   "outputs": [
    {
     "name": "stdout",
     "output_type": "stream",
     "text": [
      "goodafternoon\n"
     ]
    }
   ],
   "source": [
    "a = \"good\"\n",
    "b = \"afternoon\"\n",
    "c = a  + b\n",
    "print(c)\n"
   ]
  },
  {
   "cell_type": "code",
   "execution_count": 52,
   "id": "a061478d",
   "metadata": {},
   "outputs": [
    {
     "name": "stdout",
     "output_type": "stream",
     "text": [
      "good afternoon\n"
     ]
    }
   ],
   "source": [
    "a = \"good\"\n",
    "b = \"afternoon\"\n",
    "c = a + \" \" + b\n",
    "print(c)\n"
   ]
  },
  {
   "cell_type": "markdown",
   "id": "2786569b",
   "metadata": {},
   "source": [
    "## about format()"
   ]
  },
  {
   "cell_type": "code",
   "execution_count": 2,
   "id": "91bcf51c",
   "metadata": {},
   "outputs": [
    {
     "name": "stdout",
     "output_type": "stream",
     "text": [
      "hello world\n"
     ]
    }
   ],
   "source": [
    "a=\"world\"\n",
    "txt=\"hello {}\"\n",
    "print(txt.format(a))"
   ]
  },
  {
   "cell_type": "markdown",
   "id": "f1951ba6",
   "metadata": {},
   "source": [
    "## esacpe character"
   ]
  },
  {
   "cell_type": "code",
   "execution_count": 3,
   "id": "ad3d2ff7",
   "metadata": {},
   "outputs": [
    {
     "name": "stdout",
     "output_type": "stream",
     "text": [
      "iram,\"hey\"\n"
     ]
    }
   ],
   "source": [
    "a='iram,\\\"hey\\\"'\n",
    "print(a)"
   ]
  },
  {
   "cell_type": "code",
   "execution_count": 13,
   "id": "79eb02ad",
   "metadata": {},
   "outputs": [
    {
     "name": "stdout",
     "output_type": "stream",
     "text": [
      "good afternoon\n",
      "had lunch \n"
     ]
    }
   ],
   "source": [
    "a=\"good afternoon\\nhad lunch \"\n",
    "print(a)\n",
    "#\\n this is for new line"
   ]
  },
  {
   "cell_type": "code",
   "execution_count": 16,
   "id": "76d3af91",
   "metadata": {},
   "outputs": [
    {
     "name": "stdout",
     "output_type": "stream",
     "text": [
      "had\tlunch\n"
     ]
    }
   ],
   "source": [
    "a=\"had\\tlunch\"\n",
    "print(a)\n",
    "#\\t this is given for tab"
   ]
  },
  {
   "cell_type": "code",
   "execution_count": 3,
   "id": "b50ba934",
   "metadata": {},
   "outputs": [
    {
     "ename": "TypeError",
     "evalue": "can only concatenate str (not \"int\") to str",
     "output_type": "error",
     "traceback": [
      "\u001b[1;31m---------------------------------------------------------------------------\u001b[0m",
      "\u001b[1;31mTypeError\u001b[0m                                 Traceback (most recent call last)",
      "Input \u001b[1;32mIn [3]\u001b[0m, in \u001b[0;36m<cell line: 3>\u001b[1;34m()\u001b[0m\n\u001b[0;32m      1\u001b[0m a\u001b[38;5;241m=\u001b[39m\u001b[38;5;124m\"\u001b[39m\u001b[38;5;124mstring\u001b[39m\u001b[38;5;124m\"\u001b[39m\n\u001b[0;32m      2\u001b[0m b\u001b[38;5;241m=\u001b[39m\u001b[38;5;241m22\u001b[39m\n\u001b[1;32m----> 3\u001b[0m \u001b[38;5;28mprint\u001b[39m(\u001b[43ma\u001b[49m\u001b[38;5;241;43m+\u001b[39;49m\u001b[43mb\u001b[49m)\n",
      "\u001b[1;31mTypeError\u001b[0m: can only concatenate str (not \"int\") to str"
     ]
    }
   ],
   "source": [
    "a=\"string\"\n",
    "b=22\n",
    "print(a+b)"
   ]
  },
  {
   "cell_type": "code",
   "execution_count": null,
   "id": "f208271d",
   "metadata": {},
   "outputs": [],
   "source": []
  }
 ],
 "metadata": {
  "kernelspec": {
   "display_name": "Python 3 (ipykernel)",
   "language": "python",
   "name": "python3"
  },
  "language_info": {
   "codemirror_mode": {
    "name": "ipython",
    "version": 3
   },
   "file_extension": ".py",
   "mimetype": "text/x-python",
   "name": "python",
   "nbconvert_exporter": "python",
   "pygments_lexer": "ipython3",
   "version": "3.10.4"
  }
 },
 "nbformat": 4,
 "nbformat_minor": 5
}
