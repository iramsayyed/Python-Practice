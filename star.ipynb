{
 "cells": [
  {
   "cell_type": "code",
   "execution_count": 3,
   "id": "0d9d3b3b",
   "metadata": {},
   "outputs": [
    {
     "name": "stdout",
     "output_type": "stream",
     "text": [
      "* \n",
      "* * \n",
      "* * * \n",
      "* * * * \n",
      "* * * * * \n",
      "* * * * * * \n"
     ]
    }
   ],
   "source": [
    "def pattern(n):\n",
    "    for row in range(n):\n",
    "        for col in range(row+1):\n",
    "            print(\"*\",end=\" \")\n",
    "            \n",
    "            \n",
    "        print()\n",
    "            \n",
    "                        \n",
    "\n",
    "pattern(6)           "
   ]
  },
  {
   "cell_type": "code",
   "execution_count": 38,
   "id": "9bed3053",
   "metadata": {},
   "outputs": [
    {
     "name": "stdout",
     "output_type": "stream",
     "text": [
      "*  *  *  *  *  \n",
      "*  *  *  *  *  \n",
      "*  *  *  *  *  \n",
      "*  *  *  *  *  \n",
      "*  *  *  *  *  \n"
     ]
    }
   ],
   "source": [
    "def pattern(n):\n",
    "    for i in range(n):\n",
    "        for j in range(n):\n",
    "            print(\"* \",end=\" \")\n",
    "            \n",
    "            \n",
    "        print()\n",
    "            \n",
    "                        \n",
    "\n",
    "pattern(5)     "
   ]
  },
  {
   "cell_type": "code",
   "execution_count": 40,
   "id": "a8eb41f6",
   "metadata": {},
   "outputs": [
    {
     "name": "stdout",
     "output_type": "stream",
     "text": [
      "* * * * * \n",
      "* * * * \n",
      "* * * \n",
      "* * \n",
      "* \n"
     ]
    }
   ],
   "source": [
    "def pattern(n):\n",
    "    for i in range(n):\n",
    "        for j in range(i,n):\n",
    "            print(\"*\",end=\" \")\n",
    "            \n",
    "            \n",
    "        print()\n",
    "            \n",
    "                        \n",
    "\n",
    "pattern(5)     "
   ]
  },
  {
   "cell_type": "code",
   "execution_count": 36,
   "id": "0053aaba",
   "metadata": {},
   "outputs": [
    {
     "name": "stdout",
     "output_type": "stream",
     "text": [
      "0\n",
      "11\n",
      "222\n",
      "3333\n",
      "44444\n"
     ]
    }
   ],
   "source": [
    "def pattern(n):\n",
    "    i=1\n",
    "    for i in range(n):\n",
    "        for j in range(i+1):\n",
    "            print(i,end=\"\")\n",
    "            \n",
    "            \n",
    "        print()\n",
    "            \n",
    "                        \n",
    "\n",
    "pattern(5)           \n"
   ]
  },
  {
   "cell_type": "markdown",
   "id": "802bd330",
   "metadata": {},
   "source": [
    "# Q:4"
   ]
  },
  {
   "cell_type": "code",
   "execution_count": 9,
   "id": "3040b20d",
   "metadata": {},
   "outputs": [
    {
     "name": "stdout",
     "output_type": "stream",
     "text": [
      "1\n",
      "12\n",
      "123\n",
      "1234\n",
      "12345\n"
     ]
    }
   ],
   "source": [
    "\n",
    "    \n",
    "    for i in range(5):\n",
    "        for j in range(i+1):\n",
    "            print(j+1,end=\"\")\n",
    "            \n",
    "            \n",
    "        print()\n",
    "            \n",
    "                        \n",
    "\n",
    "          \n"
   ]
  },
  {
   "cell_type": "markdown",
   "id": "d9ba14cd",
   "metadata": {},
   "source": [
    "# Q:6"
   ]
  },
  {
   "cell_type": "code",
   "execution_count": 13,
   "id": "5de76f22",
   "metadata": {},
   "outputs": [
    {
     "name": "stdout",
     "output_type": "stream",
     "text": [
      "A \n",
      "B C \n",
      "D E F \n",
      "G H I J \n",
      "K L M N O \n"
     ]
    }
   ],
   "source": [
    "k=ord(\"A\") \n",
    "for row in range(5):\n",
    "        for col in range(row+1):\n",
    "    \n",
    "            print(chr(k),end=\" \")\n",
    "            k=k+1\n",
    "        print()\n",
    "            \n",
    "                        \n",
    "\n"
   ]
  },
  {
   "cell_type": "markdown",
   "id": "4447cd89",
   "metadata": {},
   "source": [
    "# Q:5"
   ]
  },
  {
   "cell_type": "code",
   "execution_count": 8,
   "id": "1be06b87",
   "metadata": {},
   "outputs": [
    {
     "ename": "TypeError",
     "evalue": "object of type 'int' has no len()",
     "output_type": "error",
     "traceback": [
      "\u001b[1;31m---------------------------------------------------------------------------\u001b[0m",
      "\u001b[1;31mTypeError\u001b[0m                                 Traceback (most recent call last)",
      "Input \u001b[1;32mIn [8]\u001b[0m, in \u001b[0;36m<cell line: 2>\u001b[1;34m()\u001b[0m\n\u001b[0;32m      1\u001b[0m user\u001b[38;5;241m=\u001b[39m\u001b[38;5;241m5\u001b[39m\n\u001b[1;32m----> 2\u001b[0m length\u001b[38;5;241m=\u001b[39m\u001b[38;5;28;43mlen\u001b[39;49m\u001b[43m(\u001b[49m\u001b[43muser\u001b[49m\u001b[43m)\u001b[49m\n\u001b[0;32m      3\u001b[0m \u001b[38;5;28;01mfor\u001b[39;00m row \u001b[38;5;129;01min\u001b[39;00m \u001b[38;5;28mrange\u001b[39m(length):\n\u001b[0;32m      4\u001b[0m         \u001b[38;5;28;01mfor\u001b[39;00m col \u001b[38;5;129;01min\u001b[39;00m \u001b[38;5;28mrange\u001b[39m(row\u001b[38;5;241m+\u001b[39m\u001b[38;5;241m1\u001b[39m):\n",
      "\u001b[1;31mTypeError\u001b[0m: object of type 'int' has no len()"
     ]
    }
   ],
   "source": [
    "\n",
    "length=len(user)\n",
    "for row in range(length):\n",
    "        for col in range(row+1):\n",
    "    \n",
    "            print(user[col],end=\" \")\n",
    "            \n",
    "        print(\"\")"
   ]
  },
  {
   "cell_type": "markdown",
   "id": "9755c928",
   "metadata": {},
   "source": [
    "# Q:7 "
   ]
  },
  {
   "cell_type": "code",
   "execution_count": 27,
   "id": "f84791da",
   "metadata": {},
   "outputs": [
    {
     "name": "stdout",
     "output_type": "stream",
     "text": [
      " * * * * * \n",
      " * * * * * \n",
      " * * * * * \n",
      " * * * * * \n",
      " * * * * * \n"
     ]
    }
   ],
   "source": [
    "n=5\n",
    "for row in range(n):\n",
    "    \n",
    "    for col in range(i,n):\n",
    "        print(\"\",end=\" \")\n",
    "    for col in range(i+1):\n",
    "            print(\"*\",end=\" \")\n",
    "        \n",
    "        \n",
    "            \n",
    "        \n",
    "    print()"
   ]
  },
  {
   "cell_type": "code",
   "execution_count": 4,
   "id": "adabb8f4",
   "metadata": {},
   "outputs": [
    {
     "name": "stdout",
     "output_type": "stream",
     "text": [
      "1 buzz\n",
      "3 buzz\n",
      "4 fizz\n",
      "3 buzz\n",
      "4 fizz\n",
      "5 buzz\n",
      "13 buzz\n",
      "48 fizz\n",
      "16 fizz\n"
     ]
    }
   ],
   "source": [
    "list=[1,3,4,3,4,5,13,48,16]\n",
    "for i in list:\n",
    "    if i%2 ==0:\n",
    "        print(i,\"fizz\")\n",
    "        \n",
    "    else:\n",
    "        print(i,\"buzz\")\n",
    "        \n",
    "   #i is itratal variable "
   ]
  },
  {
   "cell_type": "code",
   "execution_count": 27,
   "id": "09f2c8f5",
   "metadata": {},
   "outputs": [
    {
     "name": "stdout",
     "output_type": "stream",
     "text": [
      "['1:buzz', '3:buzz', '4:fizz', '3:buzz', '4:fizz', '5:buzz', '13:buzz', '48:fizz', '16:fizz']\n"
     ]
    }
   ],
   "source": [
    "list=[1,3,4,3,4,5,13,48,16]\n",
    "\n",
    "b=[f\"{i}:fizz\" if i%2==0 else f\"{i}:buzz\" for i  in list]\n",
    "print(b)"
   ]
  },
  {
   "cell_type": "code",
   "execution_count": 6,
   "id": "e7afa523",
   "metadata": {},
   "outputs": [
    {
     "name": "stdout",
     "output_type": "stream",
     "text": [
      "Enter the number12\n",
      "fizzbizz\n",
      "bizz\n",
      "bizz\n",
      "bizz\n",
      "bizz\n",
      "fizzbizz\n",
      "bizz\n",
      "bizz\n",
      "bizz\n",
      "bizz\n",
      "fizzbizz\n",
      "bizz\n",
      "bizz\n"
     ]
    }
   ],
   "source": [
    "user=int(input(\"Enter the number\"))\n",
    "for i in range(user+1):\n",
    "    if i%5==0:\n",
    "        print(\"fizzbizz\")\n",
    "    else:\n",
    "        print(\"bizz\")"
   ]
  },
  {
   "cell_type": "markdown",
   "id": "133abe90",
   "metadata": {},
   "source": [
    "# Q:8"
   ]
  },
  {
   "cell_type": "code",
   "execution_count": null,
   "id": "bd53bb52",
   "metadata": {},
   "outputs": [],
   "source": [
    "if i in range(5):\n",
    "    if j in range(i+1)"
   ]
  }
 ],
 "metadata": {
  "kernelspec": {
   "display_name": "Python 3 (ipykernel)",
   "language": "python",
   "name": "python3"
  },
  "language_info": {
   "codemirror_mode": {
    "name": "ipython",
    "version": 3
   },
   "file_extension": ".py",
   "mimetype": "text/x-python",
   "name": "python",
   "nbconvert_exporter": "python",
   "pygments_lexer": "ipython3",
   "version": "3.10.4"
  }
 },
 "nbformat": 4,
 "nbformat_minor": 5
}
