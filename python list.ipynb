{
 "cells": [
  {
   "cell_type": "markdown",
   "id": "dd2a30dc",
   "metadata": {},
   "source": [
    "# About list"
   ]
  },
  {
   "cell_type": "code",
   "execution_count": 2,
   "id": "d918f7ac",
   "metadata": {},
   "outputs": [
    {
     "name": "stdout",
     "output_type": "stream",
     "text": [
      "['bag', 'book', 'pencil', 'txtbook', 'true', 88, 'book']\n"
     ]
    }
   ],
   "source": [
    "# list is used to store multiple data in sqare bracket\n",
    "# it is ordered changeable allow duplicates\n",
    "this_list=[\"bag\",\"book\",\"pencil\",\"txtbook\",\"true\",88,\"book\"]\n",
    "print(this_list)\n",
    "# it will allow all data type like int boolean string"
   ]
  },
  {
   "cell_type": "markdown",
   "id": "61d1d2d4",
   "metadata": {},
   "source": [
    "## accses in list"
   ]
  },
  {
   "cell_type": "code",
   "execution_count": 3,
   "id": "035b190a",
   "metadata": {},
   "outputs": [
    {
     "name": "stdout",
     "output_type": "stream",
     "text": [
      "book\n"
     ]
    }
   ],
   "source": [
    "a=list((\"pen\",\"book\",\"pencil\",\"textbook\"))\n",
    "print(a[1])"
   ]
  },
  {
   "cell_type": "code",
   "execution_count": 4,
   "id": "710dc164",
   "metadata": {},
   "outputs": [
    {
     "name": "stdout",
     "output_type": "stream",
     "text": [
      "textbook\n"
     ]
    }
   ],
   "source": [
    "a=list((\"pen\",\"book\",\"pencil\",\"textbook\"))\n",
    "print(a[-1])\n",
    "# negative index start from write with -1"
   ]
  },
  {
   "cell_type": "code",
   "execution_count": 20,
   "id": "963c855a",
   "metadata": {},
   "outputs": [
    {
     "name": "stdout",
     "output_type": "stream",
     "text": [
      "['book', 'pencil']\n",
      "['pencil']\n",
      "['book', 'pencil', 'textbook']\n",
      "['book', 'pencil']\n"
     ]
    }
   ],
   "source": [
    "a=list((\"pen\",\"book\",\"pencil\",\"textbook\"))\n",
    "print(a[-3:-1])\n",
    "print(a[-2:-1])\n",
    "print(a[-3:])\n",
    "print(a[1:3])\n",
    "# it will alwys start from ri8 to left"
   ]
  },
  {
   "cell_type": "markdown",
   "id": "1158e303",
   "metadata": {},
   "source": [
    "## to change the list item"
   ]
  },
  {
   "cell_type": "code",
   "execution_count": 28,
   "id": "66583768",
   "metadata": {},
   "outputs": [
    {
     "name": "stdout",
     "output_type": "stream",
     "text": [
      "[1, 2, 3, 4, 5, 6, 7, 8, 9, 10]\n"
     ]
    }
   ],
   "source": [
    "a=[2,2,3,4,5,6,7,8,9,10]\n",
    "a[0]=1\n",
    "print(a)"
   ]
  },
  {
   "cell_type": "code",
   "execution_count": 33,
   "id": "93e98fad",
   "metadata": {},
   "outputs": [
    {
     "name": "stdout",
     "output_type": "stream",
     "text": [
      "['a', 'b', 'c', 'd', 'e']\n"
     ]
    }
   ],
   "source": [
    "a=[\"y\",\"z\",\"c\",\"d\",\"e\"]\n",
    "a[0:2]=[\"a\",\"b\"]\n",
    "print(a)"
   ]
  },
  {
   "cell_type": "markdown",
   "id": "e6537b92",
   "metadata": {},
   "source": [
    "## to insert "
   ]
  },
  {
   "cell_type": "code",
   "execution_count": 35,
   "id": "a6ded968",
   "metadata": {},
   "outputs": [
    {
     "name": "stdout",
     "output_type": "stream",
     "text": [
      "['a', 'b', 'c', 'd', 'e']\n"
     ]
    }
   ],
   "source": [
    "a=[\"a\",\"c\",\"d\",\"e\"]\n",
    "a.insert(1,\"b\")\n",
    "print(a)"
   ]
  },
  {
   "cell_type": "markdown",
   "id": "b371f0db",
   "metadata": {},
   "source": [
    "## append()"
   ]
  },
  {
   "cell_type": "code",
   "execution_count": 38,
   "id": "56a9ab76",
   "metadata": {},
   "outputs": [
    {
     "name": "stdout",
     "output_type": "stream",
     "text": [
      "['a', 'b', 'c', 'd', 'e']\n"
     ]
    }
   ],
   "source": [
    "# it will add item but in the end\n",
    "a=[\"a\",\"b\",\"c\",\"d\"]\n",
    "a.append(\"e\")\n",
    "print(a)"
   ]
  },
  {
   "cell_type": "markdown",
   "id": "47429006",
   "metadata": {},
   "source": [
    "## extend()"
   ]
  },
  {
   "cell_type": "code",
   "execution_count": 42,
   "id": "769db92a",
   "metadata": {},
   "outputs": [
    {
     "name": "stdout",
     "output_type": "stream",
     "text": [
      "['a', 'b', 'c', 'd', 'e', 'f', 'g', 'h', 'i', 'j', 'k']\n"
     ]
    }
   ],
   "source": [
    "a=[\"a\",\"b\",\"c\",\"d\"]\n",
    "b=[\"e\",\"f\",\"g\",\"h\",\"i\"]\n",
    "c=[\"j\",\"k\"]\n",
    "a.extend(b)\n",
    "a.extend(c)\n",
    "print(a)\n",
    "# to add or exyend two list "
   ]
  },
  {
   "cell_type": "markdown",
   "id": "c556bcc5",
   "metadata": {},
   "source": [
    "## remove()\n"
   ]
  },
  {
   "cell_type": "code",
   "execution_count": 43,
   "id": "632184ed",
   "metadata": {},
   "outputs": [
    {
     "name": "stdout",
     "output_type": "stream",
     "text": [
      "['a', 'b', 'c', 'd']\n"
     ]
    }
   ],
   "source": [
    "a=[\"a\",\"b\",\"c\",\"z\",\"d\"]\n",
    "a.remove(\"z\")\n",
    "print(a)"
   ]
  },
  {
   "cell_type": "markdown",
   "id": "1bec7e7f",
   "metadata": {},
   "source": [
    "## pop() "
   ]
  },
  {
   "cell_type": "code",
   "execution_count": 45,
   "id": "ff50e5d1",
   "metadata": {},
   "outputs": [
    {
     "name": "stdout",
     "output_type": "stream",
     "text": [
      "['a', 'b', 'c', 'd']\n"
     ]
    }
   ],
   "source": [
    "# it will remove specify given index value if we did not mentioned index value it will remove last item of the list\n",
    "a=[\"a\",\"b\",\"c\",\"z\",\"d\"]\n",
    "a.pop(3)\n",
    "print(a)"
   ]
  },
  {
   "cell_type": "code",
   "execution_count": 46,
   "id": "1729bf8c",
   "metadata": {},
   "outputs": [
    {
     "name": "stdout",
     "output_type": "stream",
     "text": [
      "['a', 'b', 'c', 'd']\n"
     ]
    }
   ],
   "source": [
    "a=[\"a\",\"b\",\"c\",\"d\",\"z\"]\n",
    "a.pop()\n",
    "print(a)"
   ]
  },
  {
   "cell_type": "markdown",
   "id": "4003a208",
   "metadata": {},
   "source": [
    "## del() it will delete item of list"
   ]
  },
  {
   "cell_type": "code",
   "execution_count": 48,
   "id": "03b21200",
   "metadata": {},
   "outputs": [
    {
     "name": "stdout",
     "output_type": "stream",
     "text": [
      "['a', 'b', 'c', 'd']\n"
     ]
    }
   ],
   "source": [
    "a=[\"a\",\"b\",\"c\",\"d\",\"z\"]\n",
    "del a[4]\n",
    "print(a)"
   ]
  },
  {
   "cell_type": "markdown",
   "id": "7564f310",
   "metadata": {},
   "source": [
    "## clear() it will clear the list"
   ]
  },
  {
   "cell_type": "code",
   "execution_count": 50,
   "id": "545b4e84",
   "metadata": {},
   "outputs": [
    {
     "name": "stdout",
     "output_type": "stream",
     "text": [
      "[]\n"
     ]
    }
   ],
   "source": [
    "a=[\"a\",\"b\",\"c\",\"d\",\"z\"]\n",
    "a.clear()\n",
    "print(a)"
   ]
  },
  {
   "cell_type": "markdown",
   "id": "9093ab32",
   "metadata": {},
   "source": [
    "## loop in list"
   ]
  },
  {
   "cell_type": "code",
   "execution_count": 55,
   "id": "4b5077de",
   "metadata": {},
   "outputs": [
    {
     "name": "stdout",
     "output_type": "stream",
     "text": [
      "one\n",
      "two\n",
      "three\n",
      "four\n",
      "five\n"
     ]
    }
   ],
   "source": [
    "# fpr printing a list item one by one\n",
    "a=[\"one\",\"two\",\"three\",\"four\",\"five\"]\n",
    "for i in a:\n",
    "    print(i)\n"
   ]
  },
  {
   "cell_type": "code",
   "execution_count": 4,
   "id": "4cc75612",
   "metadata": {},
   "outputs": [
    {
     "name": "stdout",
     "output_type": "stream",
     "text": [
      "0\n",
      "1\n",
      "2\n"
     ]
    }
   ],
   "source": [
    "a = [\"apple\", \"banana\", \"cherry\"]\n",
    "for i in range(len(a)):\n",
    "  print(i)\n",
    "# where range is just number which start with 0\n",
    "\n"
   ]
  },
  {
   "cell_type": "code",
   "execution_count": 6,
   "id": "b8338d42",
   "metadata": {},
   "outputs": [
    {
     "name": "stdout",
     "output_type": "stream",
     "text": [
      "apple\n",
      "banana\n",
      "cherry\n"
     ]
    }
   ],
   "source": [
    "a = [\"apple\", \"banana\", \"cherry\"]\n",
    "for i in range(len(a)):\n",
    "  print(a[i])"
   ]
  },
  {
   "cell_type": "code",
   "execution_count": 5,
   "id": "4c1feb9a",
   "metadata": {},
   "outputs": [
    {
     "name": "stdout",
     "output_type": "stream",
     "text": [
      "apple\n",
      "banana\n",
      "cherry\n"
     ]
    },
    {
     "data": {
      "text/plain": [
       "[None, None, None]"
      ]
     },
     "execution_count": 5,
     "metadata": {},
     "output_type": "execute_result"
    }
   ],
   "source": [
    "# short term for\n",
    "a = [\"apple\", \"banana\", \"cherry\"]\n",
    "[print(i) for i in a]"
   ]
  },
  {
   "cell_type": "code",
   "execution_count": 1,
   "id": "5ba27031",
   "metadata": {},
   "outputs": [
    {
     "name": "stdout",
     "output_type": "stream",
     "text": [
      "apple\n",
      "banana\n",
      "cherry\n"
     ]
    },
    {
     "data": {
      "text/plain": [
       "[None, None, None]"
      ]
     },
     "execution_count": 1,
     "metadata": {},
     "output_type": "execute_result"
    }
   ],
   "source": [
    "thislist = [\"apple\", \"banana\", \"cherry\"]\n",
    "[print(x) for x in thislist]\n",
    "\n"
   ]
  },
  {
   "cell_type": "code",
   "execution_count": 7,
   "id": "02c9c4c3",
   "metadata": {},
   "outputs": [
    {
     "name": "stdout",
     "output_type": "stream",
     "text": [
      "a\n",
      "b\n",
      "c\n"
     ]
    }
   ],
   "source": [
    "a=[\"a\",\"b\",\"c\"]\n",
    "for i in a:\n",
    "    print(i)"
   ]
  },
  {
   "cell_type": "code",
   "execution_count": 14,
   "id": "411af2dd",
   "metadata": {},
   "outputs": [
    {
     "name": "stdout",
     "output_type": "stream",
     "text": [
      "['ab', 'bb']\n"
     ]
    }
   ],
   "source": [
    "a=[\"ab\",\"bb\",\"cc\"]\n",
    "newlist=[]\n",
    "\n",
    "for i in a:\n",
    "    if \"b\" in i:\n",
    "        newlist.append(i)\n",
    "print(newlist)"
   ]
  },
  {
   "cell_type": "code",
   "execution_count": 16,
   "id": "f09d5615",
   "metadata": {},
   "outputs": [
    {
     "name": "stdout",
     "output_type": "stream",
     "text": [
      "['ab', 'bb']\n"
     ]
    }
   ],
   "source": [
    "a=[\"ab\",\"bb\",\"cc\"]\n",
    "iram=[i for i in a if \"b\" in i]\n",
    "print(iram)"
   ]
  },
  {
   "cell_type": "code",
   "execution_count": 22,
   "id": "f8bc47f6",
   "metadata": {},
   "outputs": [
    {
     "name": "stdout",
     "output_type": "stream",
     "text": [
      "['one', 'two', 'for']\n"
     ]
    }
   ],
   "source": [
    "a=[\"one\",\"two\",\"three\",\"for\"]\n",
    "b=[i for i in a if i !=\"three\"]\n",
    "print(b)"
   ]
  },
  {
   "cell_type": "code",
   "execution_count": 17,
   "id": "ae5831fa",
   "metadata": {},
   "outputs": [
    {
     "name": "stdout",
     "output_type": "stream",
     "text": [
      "[0, 1]\n"
     ]
    }
   ],
   "source": [
    "a=[\"one\",\"two\",\"three\",\"four\"]\n",
    "b=[i for i in range(2)]\n",
    "print(b)"
   ]
  },
  {
   "cell_type": "code",
   "execution_count": 19,
   "id": "09ebd588",
   "metadata": {},
   "outputs": [
    {
     "name": "stdout",
     "output_type": "stream",
     "text": [
      "['ONE', 'TWO', 'THREE', 'FOUR']\n"
     ]
    }
   ],
   "source": [
    "a=[\"one\",\"two\",\"three\",\"four\"]\n",
    "b=[x.upper() for x in a]\n",
    "print(b)"
   ]
  },
  {
   "cell_type": "code",
   "execution_count": 21,
   "id": "b80ffd2a",
   "metadata": {},
   "outputs": [
    {
     "name": "stdout",
     "output_type": "stream",
     "text": [
      "['numbers', 'numbers', 'numbers', 'numbers']\n"
     ]
    }
   ],
   "source": [
    "a=[\"one\",\"two\",\"three\",\"four\"]\n",
    "b=[\"numbers\" for x in a]\n",
    "print(b)"
   ]
  },
  {
   "cell_type": "code",
   "execution_count": 26,
   "id": "d92e78d3",
   "metadata": {},
   "outputs": [
    {
     "name": "stdout",
     "output_type": "stream",
     "text": [
      "['one', 'two', 'three', 'four']\n"
     ]
    }
   ],
   "source": [
    "a=[\"one\",\"five\",\"three\",\"four\"]\n",
    "b=[x if x != \"five\" else \"two\" for x in a]\n",
    "print(b)"
   ]
  },
  {
   "cell_type": "code",
   "execution_count": 1,
   "id": "e9173892",
   "metadata": {},
   "outputs": [
    {
     "name": "stdout",
     "output_type": "stream",
     "text": [
      "['a', 'b', 'c', 'd']\n"
     ]
    }
   ],
   "source": [
    "a=[\"c\",\"d\",\"a\",\"b\"]\n",
    "a.sort()\n",
    "print(a)\n",
    "# it will assign item in ascending order"
   ]
  },
  {
   "cell_type": "code",
   "execution_count": 5,
   "id": "afcc89a3",
   "metadata": {},
   "outputs": [
    {
     "name": "stdout",
     "output_type": "stream",
     "text": [
      "['40', '30', '20', '10']\n"
     ]
    }
   ],
   "source": [
    "a=[\"40\",\"20\",\"10\",\"30\"]\n",
    "a.sort (reverse=True)\n",
    "print(a)"
   ]
  },
  {
   "cell_type": "code",
   "execution_count": 6,
   "id": "b4eab848",
   "metadata": {},
   "outputs": [
    {
     "name": "stdout",
     "output_type": "stream",
     "text": [
      "[50, 65, 23, 82, 100]\n"
     ]
    }
   ],
   "source": [
    "def myfunc(n):\n",
    "  return abs(n - 50)\n",
    "\n",
    "thislist = [100, 50, 65, 82, 23]\n",
    "\n",
    "thislist.sort(key = myfunc)\n",
    "\n",
    "print(thislist)\n"
   ]
  },
  {
   "cell_type": "code",
   "execution_count": null,
   "id": "2c973446",
   "metadata": {},
   "outputs": [],
   "source": []
  }
 ],
 "metadata": {
  "kernelspec": {
   "display_name": "Python 3 (ipykernel)",
   "language": "python",
   "name": "python3"
  },
  "language_info": {
   "codemirror_mode": {
    "name": "ipython",
    "version": 3
   },
   "file_extension": ".py",
   "mimetype": "text/x-python",
   "name": "python",
   "nbconvert_exporter": "python",
   "pygments_lexer": "ipython3",
   "version": "3.10.4"
  }
 },
 "nbformat": 4,
 "nbformat_minor": 5
}
