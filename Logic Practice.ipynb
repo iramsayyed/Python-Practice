{
 "cells": [
  {
   "cell_type": "markdown",
   "id": "2b30f0d4",
   "metadata": {},
   "source": [
    "# palidrome Number"
   ]
  },
  {
   "cell_type": "code",
   "execution_count": 2,
   "id": "a6c84d6b",
   "metadata": {},
   "outputs": [
    {
     "name": "stdout",
     "output_type": "stream",
     "text": [
      "enter any number: 525\n",
      "It is a palidrome Number\n"
     ]
    }
   ],
   "source": [
    "def Palidrome_num(x):\n",
    "    rev = 0\n",
    "    i=x\n",
    "    while x>0:\n",
    "        rev=rev*10+x%10\n",
    "        x=x//10\n",
    "    if (i==rev):\n",
    "        print(\"It is a palidrome Number\")\n",
    "    else:\n",
    "        print(\"It is not palidrome Number\")\n",
    "x=int(input(\"enter any number: \"))     \n",
    "Palidrome_num(x)       \n",
    "\n",
    "            "
   ]
  },
  {
   "cell_type": "markdown",
   "id": "75b16ec5",
   "metadata": {},
   "source": [
    "# Palidrome String(using Slicing)"
   ]
  },
  {
   "cell_type": "code",
   "execution_count": 1,
   "id": "ce43a0e4",
   "metadata": {},
   "outputs": [
    {
     "name": "stdout",
     "output_type": "stream",
     "text": [
      "enter any word: iram\n",
      "mari\n",
      "It is not palidrome\n"
     ]
    }
   ],
   "source": [
    "x=input(\"enter any word: \")   \n",
    "b=x[::-1]\n",
    "print(b)\n",
    "if (b==x):\n",
    "    print(\"It is palidrom\")\n",
    "else:\n",
    "    print(\"It is not palidrome\")"
   ]
  },
  {
   "cell_type": "markdown",
   "id": "2aea58ce",
   "metadata": {},
   "source": [
    "# Palidrome String(using while loop)"
   ]
  },
  {
   "cell_type": "code",
   "execution_count": 2,
   "id": "71769dcc",
   "metadata": {},
   "outputs": [
    {
     "name": "stdout",
     "output_type": "stream",
     "text": [
      "enter any word: 22\n"
     ]
    },
    {
     "data": {
      "text/plain": [
       "'It is plaidrome'"
      ]
     },
     "execution_count": 2,
     "metadata": {},
     "output_type": "execute_result"
    }
   ],
   "source": [
    "\n",
    "def Palidrome_str(s):\n",
    "#     x=input(\"enter any word: \")  \n",
    "    n = len(s)\n",
    "    f=0\n",
    "    l=n-1\n",
    "    while (f<l):\n",
    "        if s[f]==s[l]:\n",
    "            f += 1\n",
    "            l -= 1\n",
    "        else:\n",
    "            return (\"It is not plaidrome\")\n",
    "    return (\"It is plaidrome\")\n",
    "x=input(\"enter any word: \")  \n",
    "Palidrome_str(x)       \n",
    "            "
   ]
  },
  {
   "cell_type": "markdown",
   "id": "b25bb3e8",
   "metadata": {},
   "source": [
    "# Generate an infinite fiboncii series by using a generator"
   ]
  },
  {
   "cell_type": "code",
   "execution_count": null,
   "id": "a58e29e9",
   "metadata": {},
   "outputs": [],
   "source": [
    "# def fiboncii_series():\n",
    "#     a,b=0,1\n",
    "#     while True:\n",
    "#         yield a\n",
    "#         a,b=b,a+b\n",
    "# f1=fiboncii_series()\n",
    "# for i in f1:\n",
    "#     print(i)\n",
    "    \n",
    "    \n",
    "# this is wrong methord because the loop will go into infinite times\n",
    "        "
   ]
  },
  {
   "cell_type": "markdown",
   "id": "1dd55ae7",
   "metadata": {},
   "source": [
    "# Generate an infinite fiboncii series by using a generator(using next)"
   ]
  },
  {
   "cell_type": "code",
   "execution_count": 3,
   "id": "11609330",
   "metadata": {},
   "outputs": [
    {
     "name": "stdout",
     "output_type": "stream",
     "text": [
      "0\n",
      "1\n",
      "1\n",
      "2\n",
      "3\n",
      "5\n",
      "8\n",
      "13\n"
     ]
    }
   ],
   "source": [
    "def fiboncii_series():\n",
    "    a,b=0,1\n",
    "    while True:\n",
    "        yield a\n",
    "        a,b=b,a+b\n",
    "f1=fiboncii_series()\n",
    "print(next(f1))\n",
    "print(next(f1))\n",
    "print(next(f1))\n",
    "print(next(f1))\n",
    "print(next(f1))\n",
    "print(next(f1))\n",
    "print(next(f1))\n",
    "print(next(f1))"
   ]
  },
  {
   "cell_type": "markdown",
   "id": "dbee2d8c",
   "metadata": {},
   "source": [
    "# Fiboncii series using normal funtion"
   ]
  },
  {
   "cell_type": "code",
   "execution_count": 6,
   "id": "b1ec8ced",
   "metadata": {},
   "outputs": [
    {
     "name": "stdout",
     "output_type": "stream",
     "text": [
      "0\n",
      "1\n",
      "1\n",
      "2\n",
      "3\n",
      "5\n",
      "8\n",
      "13\n",
      "21\n",
      "34\n",
      "55\n",
      "89\n"
     ]
    }
   ],
   "source": [
    "\n",
    "a=0\n",
    "b=1\n",
    "print(a)\n",
    "print(b)\n",
    "for i in range(10):\n",
    "    c=a+b\n",
    "    a=b\n",
    "    b=c\n",
    "    print(c)\n",
    "        \n",
    "        \n",
    "    \n",
    " "
   ]
  },
  {
   "cell_type": "markdown",
   "id": "f70866b5",
   "metadata": {},
   "source": [
    "# max number without using max()\n"
   ]
  },
  {
   "cell_type": "code",
   "execution_count": 117,
   "id": "61d1e7de",
   "metadata": {},
   "outputs": [
    {
     "name": "stdout",
     "output_type": "stream",
     "text": [
      "max number is 0\n",
      "max number is 0\n"
     ]
    }
   ],
   "source": [
    "def max_num(A):\n",
    "    b=0\n",
    "    for i in A:\n",
    "        while i<b:\n",
    "            b=i\n",
    "    print(\"max number is\",b)\n",
    "b=0\n",
    "\n",
    "A=[100,200,90,80,1]\n",
    "max_num(A)\n",
    "A=[100,400,90,80,1]\n",
    "max_num(A)\n"
   ]
  },
  {
   "cell_type": "code",
   "execution_count": null,
   "id": "6954003c",
   "metadata": {},
   "outputs": [],
   "source": [
    "def max_num(A):\n",
    "    b=0\n",
    "    for i in A:\n",
    "        while i>b:\n",
    "            b=i\n",
    "    print(\"max number is\",b)\n",
    "b=0\n",
    "\n",
    "A=[100,200,90,80,1]\n",
    "max_num(A)\n",
    "A=[100,400,90,80,1]\n",
    "max_num(A)\n"
   ]
  },
  {
   "cell_type": "markdown",
   "id": "10e5b78e",
   "metadata": {},
   "source": [
    "#  Find the student who has Highest marks ?\n"
   ]
  },
  {
   "cell_type": "code",
   "execution_count": 13,
   "id": "c4eb26bb",
   "metadata": {},
   "outputs": [
    {
     "name": "stdout",
     "output_type": "stream",
     "text": [
      "{'Talha': 78}\n"
     ]
    }
   ],
   "source": [
    "student = {\"Umar\":{\"score\": 67}, \"Talha\":{\"score\": 78}, \"Shadab\":{\"score\": 17}}\n",
    "max=0\n",
    "stu=''\n",
    "for i in student:\n",
    "    score=student.get(i)['score']\n",
    "#     print(score)\n",
    "    if score>max:\n",
    "        max=score\n",
    "#         print(max)\n",
    "        stu=i\n",
    "print ({stu:max})\n",
    "\n",
    "    \n"
   ]
  },
  {
   "cell_type": "markdown",
   "id": "5e0c5300",
   "metadata": {},
   "source": [
    "# sort the list without using sort() it is insorting"
   ]
  },
  {
   "cell_type": "code",
   "execution_count": 21,
   "id": "82d1e62b",
   "metadata": {},
   "outputs": [
    {
     "name": "stdout",
     "output_type": "stream",
     "text": [
      "[1, 2, 4, 100]\n"
     ]
    }
   ],
   "source": [
    "def soring_num(num):\n",
    "    for i in range(1,len(num)):\n",
    "        while num[i-1]>num[i] and i>0: \n",
    "            num[i-1],num[i]=num[i],num[i-1]\n",
    "            i = i-1\n",
    "    print(num) \n",
    "num=[2,100,4,1]\n",
    "soring_num(num)"
   ]
  },
  {
   "cell_type": "markdown",
   "id": "df602bc9",
   "metadata": {},
   "source": [
    "# Sort the list on the basis of second element in the tuple ?\n"
   ]
  },
  {
   "cell_type": "code",
   "execution_count": 57,
   "id": "00d0ea6c",
   "metadata": {},
   "outputs": [
    {
     "name": "stdout",
     "output_type": "stream",
     "text": [
      "6\n",
      "peanuts\n",
      "groot\n",
      "groot\n",
      "groot\n",
      "groot\n",
      "groot\n",
      "groot\n",
      "groot\n",
      "groot\n",
      "groot\n",
      "groot\n",
      "groot\n",
      "groot\n",
      "case\n",
      "case\n",
      "[(56, 'apple'), ('water', 'case'), (1, 'groot'), ('dell', 'ipad'), ('teams', 'ml'), ('zoo', 'peanuts')]\n"
     ]
    }
   ],
   "source": [
    "def SortTuple(tup):\n",
    "      \n",
    "   \n",
    "    n = len(tup)\n",
    "    print(n)\n",
    "      \n",
    "    for i in range(n):\n",
    "        for j in range(n-i-1):\n",
    "          \n",
    "            if tup[j][1] > tup[j + 1][1]:\n",
    "                \n",
    "                tup[j], tup[j + 1] = tup[j + 1], tup[j]\n",
    "                  \n",
    "    return tup\n",
    "      \n",
    "# Driver's code\n",
    "tup= [(\"zoo\", \"peanuts\"),(1, 'groot'), (\"teams\",\"ml\"),('dell', 'ipad'), ('water', 'case'), (56,\"apple\")]\n",
    "\n",
    "          \n",
    "print(SortTuple(tup))"
   ]
  },
  {
   "cell_type": "markdown",
   "id": "094e929f",
   "metadata": {},
   "source": [
    "#  normal list alphabatical sort"
   ]
  },
  {
   "cell_type": "code",
   "execution_count": 8,
   "id": "81923235",
   "metadata": {},
   "outputs": [
    {
     "name": "stdout",
     "output_type": "stream",
     "text": [
      "['apple', 'case', 'groot', 'ipad', 'ml', 'peanuts']\n"
     ]
    }
   ],
   "source": [
    "b=['peanuts', 'groot', 'ml', 'ipad', 'case', 'apple']\n",
    "count=97\n",
    "c=[]\n",
    "while len(c)<len(b):\n",
    "    for i in b:\n",
    "        if ord(i[0])==count:\n",
    "            c.append(i)\n",
    "    count+=1\n",
    "print(c)\n"
   ]
  },
  {
   "cell_type": "markdown",
   "id": "cfb48a5a",
   "metadata": {},
   "source": [
    "# Swap adjacent elements in a list without using inbuilt functions?\n"
   ]
  },
  {
   "cell_type": "code",
   "execution_count": 27,
   "id": "35e51864",
   "metadata": {},
   "outputs": [
    {
     "name": "stdout",
     "output_type": "stream",
     "text": [
      "[65, 65, 19, 90]\n"
     ]
    }
   ],
   "source": [
    "def swapPositions(list, pos1, pos2):\n",
    "     \n",
    "    list[pos1], list[pos2] = list[pos2], list[pos1]\n",
    "    return list\n",
    " \n",
    "# Driver function\n",
    "List = [23, 65, 19, 90]\n",
    "pos1, pos2  = 0, 1\n",
    " \n",
    "print(swapPositions(List, pos1, pos2))"
   ]
  },
  {
   "cell_type": "code",
   "execution_count": 25,
   "id": "efefc402",
   "metadata": {},
   "outputs": [
    {
     "name": "stdout",
     "output_type": "stream",
     "text": [
      "[2, 1, 4, 3, 6, 5]\n"
     ]
    }
   ],
   "source": [
    "x=[1,2,3,4,5,6]\n",
    "for i in range(1,len(x),2):\n",
    "    x[i],x[i-1]=x[i-1],x[i]\n",
    "print(x)"
   ]
  },
  {
   "cell_type": "code",
   "execution_count": 39,
   "id": "de798715",
   "metadata": {},
   "outputs": [
    {
     "name": "stdout",
     "output_type": "stream",
     "text": [
      "[2, 1, 4, 3, 8]\n"
     ]
    }
   ],
   "source": [
    "x=[1,2,3,4,8]\n",
    "for i in (0,len(x),2):\n",
    "    if i<(len(x)):\n",
    "        x[i],x[i+1]=x[i+1],x[i]\n",
    "print(x)"
   ]
  },
  {
   "cell_type": "markdown",
   "id": "482396c5",
   "metadata": {},
   "source": [
    "# Write a program to enter the number till the user wants and at the end it should display the sum of all numbers entered.(using while loop)"
   ]
  },
  {
   "cell_type": "code",
   "execution_count": 29,
   "id": "2fc4adaa",
   "metadata": {},
   "outputs": [
    {
     "name": "stdout",
     "output_type": "stream",
     "text": [
      "Enter how much number you want to add 4\n",
      "Enter the number 6\n",
      "Enter the number 6\n",
      "Enter the number 6\n",
      "Enter the number 6\n",
      "Sum of all elements in given list:  24\n"
     ]
    }
   ],
   "source": [
    "total = 0\n",
    "ele = 0\n",
    "\n",
    "b = []\n",
    "n=int(input(\"Enter how much number you want to add \"))\n",
    "for j in range(int(n)):\n",
    "    k=int(input(\"Enter the number \"))\n",
    "    b.append(k)\n",
    "\n",
    "\n",
    "while(ele < len(b)):\n",
    "\ttotal = total + b[ele]\n",
    "\tele += 1\n",
    "print(\"Sum of all elements in given list: \", total)\n"
   ]
  },
  {
   "cell_type": "markdown",
   "id": "b7d0f22e",
   "metadata": {},
   "source": [
    "# Find the unique number in a list using function?\n",
    "  "
   ]
  },
  {
   "cell_type": "code",
   "execution_count": 26,
   "id": "5d317256",
   "metadata": {},
   "outputs": [
    {
     "name": "stdout",
     "output_type": "stream",
     "text": [
      "[2, 1, 4, 3, 1, 4, 2, 5, 9]\n",
      "[3, 5, 9]\n"
     ]
    }
   ],
   "source": [
    "arr = [2,1,4,3,1,4,2,5,9]\n",
    "def odd_occurring_num(arr):\n",
    "    return [i for i in arr if arr.count(i) < 2]\n",
    "print(arr)\n",
    "\n",
    "print(odd_occurring_num(arr))"
   ]
  },
  {
   "cell_type": "code",
   "execution_count": 34,
   "id": "adf97eb3",
   "metadata": {},
   "outputs": [
    {
     "name": "stdout",
     "output_type": "stream",
     "text": [
      "3\n"
     ]
    }
   ],
   "source": [
    "arr = [2,1,4,3,1,4,2]\n",
    "result=0\n",
    "for i in arr:\n",
    "    result^=i\n",
    "print(result)"
   ]
  },
  {
   "cell_type": "code",
   "execution_count": 42,
   "id": "6886a96c",
   "metadata": {},
   "outputs": [
    {
     "name": "stdout",
     "output_type": "stream",
     "text": [
      "[3]\n"
     ]
    }
   ],
   "source": [
    "arr = [2,1,4,3,1,4,2]\n",
    "new_arr=[]\n",
    "for num in arr:\n",
    "    if arr.count(num) == 1:\n",
    "        new_arr.append(num)\n",
    "        print(new_arr)"
   ]
  },
  {
   "cell_type": "markdown",
   "id": "f33f56d8",
   "metadata": {},
   "source": [
    "# Create a iterator to find all the Power of 3?\n"
   ]
  },
  {
   "cell_type": "code",
   "execution_count": 27,
   "id": "e520a2b6",
   "metadata": {},
   "outputs": [
    {
     "name": "stdout",
     "output_type": "stream",
     "text": [
      "[1, 8, 27, 64, 125, 216, 343, 512, 729]\n"
     ]
    }
   ],
   "source": [
    "\n",
    "def sqaure(a):\n",
    "   \n",
    "\n",
    "    for i in a:\n",
    "        a=i*i*i\n",
    "        i+=1\n",
    "        b.append(a)\n",
    "    print(b)\n",
    "\n",
    "a=[1,2,3,4,5,6,7,8,9]\n",
    "b=[]\n",
    "\n",
    "sqaure(a)\n"
   ]
  },
  {
   "cell_type": "code",
   "execution_count": 49,
   "id": "b3b4d537",
   "metadata": {},
   "outputs": [
    {
     "name": "stdout",
     "output_type": "stream",
     "text": [
      "[1, 8, 27, 64, 125, 216, 343, 512, 729]\n",
      "1\n",
      "8\n"
     ]
    }
   ],
   "source": [
    "def sqaure(a):\n",
    "   \n",
    "\n",
    "    for i in a:\n",
    "        a=i*i*i\n",
    "        i+=1\n",
    "        b.append(a)\n",
    "    print(b)\n",
    "    c=iter(b)\n",
    "    print(next(c))\n",
    "    print(next(c))\n",
    "\n",
    "\n",
    "a=[1,2,3,4,5,6,7,8,9]\n",
    "b=[]\n",
    "\n",
    "\n",
    "\n",
    "sqaure(a)\n"
   ]
  },
  {
   "cell_type": "markdown",
   "id": "cc5727ac",
   "metadata": {},
   "source": [
    "# Find the even and odd from the given list using anonymous function\n",
    " "
   ]
  },
  {
   "cell_type": "code",
   "execution_count": 12,
   "id": "1890dcdd",
   "metadata": {},
   "outputs": [
    {
     "name": "stdout",
     "output_type": "stream",
     "text": [
      "['even', 'odd', 'even']\n"
     ]
    }
   ],
   "source": [
    "a=[2,47,8]\n",
    "b=[(lambda x: \"even\" if x%2==0 else \"odd\") (x) for x in a]\n",
    "print(b)\n"
   ]
  },
  {
   "cell_type": "code",
   "execution_count": 14,
   "id": "8cfc556b",
   "metadata": {},
   "outputs": [
    {
     "name": "stdout",
     "output_type": "stream",
     "text": [
      "['even', 'odd', 'even']\n"
     ]
    }
   ],
   "source": [
    "a=[2,47,8]\n",
    "b=map(lambda x: \"even\" if x%2==0 else \"odd\",a)\n",
    "print(list(b))\n"
   ]
  },
  {
   "cell_type": "code",
   "execution_count": 15,
   "id": "56f9657d",
   "metadata": {},
   "outputs": [
    {
     "name": "stdout",
     "output_type": "stream",
     "text": [
      "['even', 'even', 'odd', 'even']\n",
      "['even', 'odd', 'even']\n"
     ]
    }
   ],
   "source": [
    "def even_odd(x):\n",
    "    b=[]\n",
    "    for i in x:\n",
    "        if i%2==0:\n",
    "            b.append (\"even\")\n",
    "            \n",
    "        else:\n",
    "            b.append (\"odd\")\n",
    "    print (b) \n",
    "a=[2,6,9,6]\n",
    "\n",
    "(even_odd(a))\n",
    "#  p=[1,2,7]\n",
    "\n",
    "# print(b)\n",
    "\n",
    "k=[2,3,4,]\n",
    "(even_odd(k))"
   ]
  },
  {
   "cell_type": "markdown",
   "id": "b0757a63",
   "metadata": {},
   "source": [
    "# Calculate the cube of all numbers from 1 to a given number\n"
   ]
  },
  {
   "cell_type": "code",
   "execution_count": 1,
   "id": "61825c2d",
   "metadata": {},
   "outputs": [
    {
     "name": "stdout",
     "output_type": "stream",
     "text": [
      "Enter the number10\n",
      "cube of number: 1 => 1\n",
      "cube of number: 2 => 8\n",
      "cube of number: 3 => 27\n",
      "cube of number: 4 => 64\n",
      "cube of number: 5 => 125\n",
      "cube of number: 6 => 216\n",
      "cube of number: 7 => 343\n",
      "cube of number: 8 => 512\n",
      "cube of number: 9 => 729\n",
      "cube of number: 10 => 1000\n"
     ]
    }
   ],
   "source": [
    "a=int(input(\"Enter the number\"))\n",
    "for i in range(1,a+1):\n",
    "    print(\"cube of number:\",i,\"=>\",i**3)"
   ]
  },
  {
   "cell_type": "code",
   "execution_count": null,
   "id": "bd691d0d",
   "metadata": {},
   "outputs": [],
   "source": [
    "ser=int(input(\"Enter the number\"))\n",
    "for i in range(user+1):\n",
    "    if i%5==0 and i%3==0:\n",
    "        print(i,\"fizzbizz\")\n",
    "    elif i%5==0 and i%3!=0:\n",
    "        print(i,\"buzz\")\n",
    "    elif i%3==0 and i%5!=0:\n",
    "        print(i,\"fizz\")\n",
    "    else:\n",
    "        print(i,\"none\")"
   ]
  },
  {
   "cell_type": "markdown",
   "id": "01226661",
   "metadata": {},
   "source": [
    "# Write a Python function to calculate the factorial of a number (a non-negative integer). The function accepts the number as an argument"
   ]
  },
  {
   "cell_type": "code",
   "execution_count": 20,
   "id": "545c334f",
   "metadata": {},
   "outputs": [
    {
     "data": {
      "text/plain": [
       "120"
      ]
     },
     "execution_count": 20,
     "metadata": {},
     "output_type": "execute_result"
    }
   ],
   "source": [
    "def fact(number):\n",
    "    result=1\n",
    "    for i in range(1,number+1):\n",
    "        result*=i\n",
    "    return result\n",
    "\n",
    "    \n",
    "fact(5) "
   ]
  },
  {
   "cell_type": "markdown",
   "id": "e36a33b4",
   "metadata": {},
   "source": [
    "# Write a Python function to create and print a list where the values are square of numbers between 1 and 30 (both included). "
   ]
  },
  {
   "cell_type": "code",
   "execution_count": 42,
   "id": "c0ed15f4",
   "metadata": {},
   "outputs": [
    {
     "name": "stdout",
     "output_type": "stream",
     "text": [
      "[1, 4, 9, 16, 25, 36, 49, 64, 81, 100, 121, 144, 169, 196, 225, 256, 289, 324, 361, 400, 441, 484, 529, 576, 625, 676, 729, 784, 841, 900]\n"
     ]
    }
   ],
   "source": [
    "list=[]\n",
    "for i in range(1,31):\n",
    "    list.append(i*i)\n",
    "print(list)    \n",
    "\n"
   ]
  },
  {
   "cell_type": "markdown",
   "id": "a3233b21",
   "metadata": {},
   "source": [
    "# Write a Python function that accepts a string and calculate the number of upper case letters and lower case letters¶ "
   ]
  },
  {
   "cell_type": "code",
   "execution_count": 23,
   "id": "57392436",
   "metadata": {},
   "outputs": [
    {
     "name": "stdout",
     "output_type": "stream",
     "text": [
      "enter the string Iram\n",
      "lowercase count= 3\n",
      "uppercase count= 1\n"
     ]
    }
   ],
   "source": [
    "def case(user):\n",
    "    lowercase=0\n",
    "    Uppercase=0\n",
    "    for i in user:\n",
    "            if i.islower():\n",
    "                lowercase=lowercase+1\n",
    "                \n",
    "                \n",
    "            else:\n",
    "                i.isupper()\n",
    "                Uppercase=Uppercase+1\n",
    "    \n",
    "    print(\"lowercase count=\",lowercase)\n",
    "    print (\"uppercase count=\",Uppercase)\n",
    "user=(input(\"enter the string \"))\n",
    "case(user)"
   ]
  },
  {
   "cell_type": "markdown",
   "id": "5155f89d",
   "metadata": {},
   "source": [
    "# Define a function which counts vowels and consonant in a word.\n"
   ]
  },
  {
   "cell_type": "code",
   "execution_count": 26,
   "id": "4905ca83",
   "metadata": {},
   "outputs": [
    {
     "name": "stdout",
     "output_type": "stream",
     "text": [
      "Enter only one word: iram\n",
      "Total vowels in given sentence: 2\n",
      "Total consonant in given sentence: 2\n"
     ]
    }
   ],
   "source": [
    " letter=input(\"Enter only one word: \")\n",
    "def word(a):\n",
    "    vowels1 = \"a,i,e,o,u,I,A,O,U,E\"\n",
    "    vowel=0\n",
    "    cont=0\n",
    "    for i in letter:\n",
    "        if i in vowels1:\n",
    "            vowel+=1\n",
    "    \n",
    "        else:\n",
    "            cont+=1\n",
    "    print(\"Total vowels in given sentence:\",vowel)\n",
    "    print(\"Total consonant in given sentence:\",cont)\n",
    "word(letter)\n"
   ]
  },
  {
   "cell_type": "markdown",
   "id": "6e9f27c3",
   "metadata": {},
   "source": [
    "# Define a function that accepts radius and returns the area of a circle.\n"
   ]
  },
  {
   "cell_type": "code",
   "execution_count": null,
   "id": "9560346d",
   "metadata": {},
   "outputs": [],
   "source": [
    "import math\n",
    "r=float(input(\"Enter the number to find raduis: \"))\n",
    "area=math.pi * r * r\n",
    "print (\"Area of the circle is: \",area )"
   ]
  },
  {
   "cell_type": "markdown",
   "id": "16aa2e26",
   "metadata": {},
   "source": [
    "# Write a Python function to multiply all the numbers in a list.¶"
   ]
  },
  {
   "cell_type": "code",
   "execution_count": null,
   "id": "dd943628",
   "metadata": {},
   "outputs": [],
   "source": [
    "def multiply(b):\n",
    "    result=1\n",
    "    for i in b:\n",
    "        \n",
    "        result*=i\n",
    "        print(result)\n",
    "        \n",
    "    return result\n",
    "n=int(input(\"Enter how much number you want to multiply \"))\n",
    "b=[]\n",
    "\n",
    "for j in range(int(n)):\n",
    "    k=int(input(\"Enter the number \"))\n",
    "    b.append(k)\n",
    "\n",
    "multiply(b)  \n",
    "\n",
    "     \n",
    "    "
   ]
  },
  {
   "cell_type": "code",
   "execution_count": 56,
   "id": "11fc5154",
   "metadata": {},
   "outputs": [
    {
     "name": "stdout",
     "output_type": "stream",
     "text": [
      "18276.98\n"
     ]
    }
   ],
   "source": [
    "li = [{\"name\":\"raja\",\"totalPremium\":4569},{\"name\":\"raja\",\"totalPremium\":\"4569\"}, {\"name\":\"raja\",\"totalPremium\":4569.44},{\"name\":\"raja\",\"totalPremium\":\"4569.54\"}]\n",
    "li2=[]\n",
    "for i in li:\n",
    "    li2.append(float(i[\"totalPremium\"]))\n",
    "b=\n",
    "print(sum(li2))\n"
   ]
  },
  {
   "cell_type": "markdown",
   "id": "eb71c028",
   "metadata": {},
   "source": [
    "# input=\"sky is blue\"\n",
    "# output=\"blue is sky\""
   ]
  },
  {
   "cell_type": "code",
   "execution_count": 11,
   "id": "90919531",
   "metadata": {},
   "outputs": [
    {
     "name": "stdout",
     "output_type": "stream",
     "text": [
      "blue is sky\n"
     ]
    }
   ],
   "source": [
    "a=\"sky is blue\"\n",
    "print(\" \".join(a.split()[::-1]))\n"
   ]
  },
  {
   "cell_type": "markdown",
   "id": "8d7accce",
   "metadata": {},
   "source": [
    "# dict1 = [{'item':'item1','amount':'400'},{'item':'item2','amount':'3000'},{'item':'item1','amount':'750'}]"
   ]
  },
  {
   "cell_type": "code",
   "execution_count": 31,
   "id": "a59c85b2",
   "metadata": {},
   "outputs": [
    {
     "name": "stdout",
     "output_type": "stream",
     "text": [
      "4150.0\n"
     ]
    }
   ],
   "source": [
    "dict1 = [{'item':'item1','amount':'400'},{'item':'item2','amount':'3000'},{'item':'item1','amount':'750'}]\n",
    "dict2=[]\n",
    "for i in dict1:\n",
    "    dict2.append(float(i[\"amount\"]))\n",
    "print(sum(dict2))\n",
    "\n",
    "    \n",
    "    "
   ]
  },
  {
   "cell_type": "code",
   "execution_count": 28,
   "id": "fd630c79",
   "metadata": {},
   "outputs": [
    {
     "name": "stdout",
     "output_type": "stream",
     "text": [
      "333.25\n"
     ]
    }
   ],
   "source": [
    "a=[400,700,200,33]\n",
    "b=[]\n",
    "for i in a:\n",
    "    b.append(i)\n",
    "print(sum(b)/4)\n",
    "    "
   ]
  },
  {
   "cell_type": "markdown",
   "id": "044a99ef",
   "metadata": {},
   "source": [
    "# input=\"a,a,a,b,b,c,c,c\" output=a:3,b:2,c:3\n"
   ]
  },
  {
   "cell_type": "code",
   "execution_count": 67,
   "id": "4b5fc1be",
   "metadata": {},
   "outputs": [
    {
     "name": "stdout",
     "output_type": "stream",
     "text": [
      "a : 3 , b : 2 , c : 1 , "
     ]
    }
   ],
   "source": [
    "mystr=\"a,a,a,b,b,c\"\n",
    "my_list=mystr.split(\",\")\n",
    "f_list=[]\n",
    "for ch in my_list:\n",
    "    if ch not in f_list:\n",
    "        print(ch,\":\",my_list.count(ch),end=\" , \")\n",
    "        f_list.append(ch)\n",
    "        \n",
    "        \n",
    "        "
   ]
  },
  {
   "cell_type": "code",
   "execution_count": 56,
   "id": "7a2a4223",
   "metadata": {},
   "outputs": [
    {
     "name": "stdout",
     "output_type": "stream",
     "text": [
      "Addition:  12\n",
      "Subtraction:  8\n",
      "Multiplication:  20\n",
      "Division:  5.0\n",
      "sqaure 20\n"
     ]
    }
   ],
   "source": [
    "def arithmetic(num1, num2):\n",
    "    add = num1 + num2\n",
    "    sub = num1 - num2\n",
    "    multiply = num1 * num2\n",
    "    division = num1 / num2\n",
    "    sqaure=num1*2\n",
    "    # return four values\n",
    "    return add, sub, multiply, division,sqaure\n",
    "\n",
    "# read four return values in four variables\n",
    "a, b, c, d ,e= arithmetic(10, 2)\n",
    "\n",
    "print(\"Addition: \", a)\n",
    "print(\"Subtraction: \", b)\n",
    "print(\"Multiplication: \", c)\n",
    "print(\"Division: \", d)\n",
    "print(\"sqaure\",e)"
   ]
  },
  {
   "cell_type": "markdown",
   "id": "5513d68b",
   "metadata": {},
   "source": [
    "# input=[2,45,32] output=[2,9,5]"
   ]
  },
  {
   "cell_type": "code",
   "execution_count": 55,
   "id": "da3dccf5",
   "metadata": {},
   "outputs": [
    {
     "name": "stdout",
     "output_type": "stream",
     "text": [
      "[2, 45, 32, 616]\n",
      "[2, 9, 5, 13]\n"
     ]
    }
   ],
   "source": [
    "a=[2,45,32,616]\n",
    "b=[]\n",
    "for num in a:\n",
    "    num=str(num)\n",
    "    num=(list(num))\n",
    "    b.append(sum(map(int,num)))\n",
    "print(a)\n",
    "print(b)"
   ]
  },
  {
   "cell_type": "code",
   "execution_count": 54,
   "id": "68e907ba",
   "metadata": {},
   "outputs": [
    {
     "name": "stdout",
     "output_type": "stream",
     "text": [
      "254\n"
     ]
    }
   ],
   "source": [
    "number=[254,56,120,30,0.5,0]\n",
    "max_num=0\n",
    "for num in number:\n",
    "    while num>max_num:\n",
    "        max_num=num\n",
    "print(max_num)"
   ]
  },
  {
   "cell_type": "code",
   "execution_count": 53,
   "id": "dc87aa2c",
   "metadata": {},
   "outputs": [
    {
     "name": "stdout",
     "output_type": "stream",
     "text": [
      "254\n",
      "0\n"
     ]
    }
   ],
   "source": [
    "a=[254,56,120,30,0.5,1]\n",
    "b=0\n",
    "c=0\n",
    "for i in a:\n",
    "    if b<i:\n",
    "        b=i\n",
    "    elif i>c:\n",
    "        i=c\n",
    "print(b)\n",
    "print(c)"
   ]
  },
  {
   "cell_type": "code",
   "execution_count": 35,
   "id": "c5b65c92",
   "metadata": {},
   "outputs": [
    {
     "data": {
      "text/plain": [
       "254"
      ]
     },
     "execution_count": 35,
     "metadata": {},
     "output_type": "execute_result"
    }
   ],
   "source": [
    "class Max_Num():\n",
    "    def __init__(self,a):\n",
    "        self.a=a\n",
    "        \n",
    "        \n",
    "    def show(self):\n",
    "        a=[254,56,120,30,0.5,0]\n",
    "        max_num=0\n",
    "        for i in a:\n",
    "            while i>max_num:\n",
    "                max_num=i\n",
    "            return (max_num)\n",
    "            \n",
    "obj=Max_Num(a)\n",
    "obj.show()"
   ]
  },
  {
   "cell_type": "code",
   "execution_count": 30,
   "id": "f5096adf",
   "metadata": {},
   "outputs": [
    {
     "name": "stdout",
     "output_type": "stream",
     "text": [
      "<class 'set'>\n"
     ]
    }
   ],
   "source": [
    "d=set()\n",
    "print(type(d))"
   ]
  },
  {
   "cell_type": "code",
   "execution_count": null,
   "id": "0cc4034a",
   "metadata": {},
   "outputs": [],
   "source": []
  }
 ],
 "metadata": {
  "kernelspec": {
   "display_name": "Python 3 (ipykernel)",
   "language": "python",
   "name": "python3"
  },
  "language_info": {
   "codemirror_mode": {
    "name": "ipython",
    "version": 3
   },
   "file_extension": ".py",
   "mimetype": "text/x-python",
   "name": "python",
   "nbconvert_exporter": "python",
   "pygments_lexer": "ipython3",
   "version": "3.10.4"
  }
 },
 "nbformat": 4,
 "nbformat_minor": 5
}
