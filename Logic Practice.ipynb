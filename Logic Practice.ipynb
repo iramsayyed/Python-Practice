{
 "cells": [
  {
   "cell_type": "markdown",
   "id": "2b30f0d4",
   "metadata": {},
   "source": [
    "# palidrome Number"
   ]
  },
  {
   "cell_type": "code",
   "execution_count": 2,
   "id": "a6c84d6b",
   "metadata": {},
   "outputs": [
    {
     "name": "stdout",
     "output_type": "stream",
     "text": [
      "enter any number: 456\n",
      "It is not palidrome Number\n"
     ]
    }
   ],
   "source": [
    "def Palidrome_num(x):\n",
    "    rev = 0\n",
    "    i=x\n",
    "    while x>0:\n",
    "        rev=rev*10+x%10\n",
    "        x=x//10\n",
    "    if (i==rev):\n",
    "        print(\"It is a palidrome Number\")\n",
    "    else:\n",
    "        print(\"It is not palidrome Number\")\n",
    "x=int(input(\"enter any number: \"))     \n",
    "Palidrome_num(x)       \n",
    "\n",
    "            "
   ]
  },
  {
   "cell_type": "markdown",
   "id": "75b16ec5",
   "metadata": {},
   "source": [
    "# Palidrome String(using Slicing)"
   ]
  },
  {
   "cell_type": "code",
   "execution_count": 1,
   "id": "ce43a0e4",
   "metadata": {},
   "outputs": [
    {
     "name": "stdout",
     "output_type": "stream",
     "text": [
      "enter any word: iram\n",
      "mari\n",
      "It is not palidrome\n"
     ]
    }
   ],
   "source": [
    "x=input(\"enter any word: \")   \n",
    "b=x[::-1]\n",
    "print(b)\n",
    "if (b==x):\n",
    "    print(\"It is palidrom\")\n",
    "else:\n",
    "    print(\"It is not palidrome\")"
   ]
  },
  {
   "cell_type": "markdown",
   "id": "2aea58ce",
   "metadata": {},
   "source": [
    "# Palidrome String(using while loop)"
   ]
  },
  {
   "cell_type": "code",
   "execution_count": null,
   "id": "71769dcc",
   "metadata": {},
   "outputs": [],
   "source": [
    "\n",
    "def Palidrome_str(s):\n",
    "#     x=input(\"enter any word: \")  \n",
    "    n = len(s)\n",
    "    f=0\n",
    "    l=n-1\n",
    "    while (f<l):\n",
    "        if s[f]==s[l]:\n",
    "            f += 1\n",
    "            l -= 1\n",
    "        else:\n",
    "            return (\"It is not plaidrome\")\n",
    "    return (\"It is plaidrome\")\n",
    "x=input(\"enter any word: \")  \n",
    "Palidrome_str(x)       \n",
    "            "
   ]
  },
  {
   "cell_type": "markdown",
   "id": "b25bb3e8",
   "metadata": {},
   "source": [
    "# Generate an infinite fiboncii series by using a generator"
   ]
  },
  {
   "cell_type": "code",
   "execution_count": null,
   "id": "a58e29e9",
   "metadata": {},
   "outputs": [],
   "source": [
    "# def fiboncii_series():\n",
    "#     a,b=0,1\n",
    "#     while True:\n",
    "#         yield a\n",
    "#         a,b=b,a+b\n",
    "# f1=fiboncii_series()\n",
    "# for i in f1:\n",
    "#     print(i)\n",
    "    \n",
    "    \n",
    "# this is wrong methord because the loop will go into infinite times\n",
    "        "
   ]
  },
  {
   "cell_type": "markdown",
   "id": "1dd55ae7",
   "metadata": {},
   "source": [
    "# Generate an infinite fiboncii series by using a generator(using next)"
   ]
  },
  {
   "cell_type": "code",
   "execution_count": null,
   "id": "11609330",
   "metadata": {},
   "outputs": [],
   "source": [
    "def fiboncii_series():\n",
    "    a,b=0,1\n",
    "    while True:\n",
    "        yield a\n",
    "        a,b=b,a+b\n",
    "f1=fiboncii_series()\n",
    "print(next(f1))\n",
    "print(next(f1))\n",
    "print(next(f1))\n",
    "print(next(f1))\n",
    "print(next(f1))\n",
    "print(next(f1))\n",
    "print(next(f1))\n",
    "print(next(f1))"
   ]
  },
  {
   "cell_type": "markdown",
   "id": "dbee2d8c",
   "metadata": {},
   "source": [
    "# Fiboncii series using normal funtion"
   ]
  },
  {
   "cell_type": "code",
   "execution_count": 6,
   "id": "b1ec8ced",
   "metadata": {},
   "outputs": [
    {
     "name": "stdout",
     "output_type": "stream",
     "text": [
      "0\n",
      "1\n",
      "1\n",
      "2\n",
      "3\n",
      "5\n",
      "8\n",
      "13\n",
      "21\n",
      "34\n",
      "55\n",
      "89\n"
     ]
    }
   ],
   "source": [
    "\n",
    "a=0\n",
    "b=1\n",
    "print(a)\n",
    "print(b)\n",
    "for i in range(10):\n",
    "    c=a+b\n",
    "    a=b\n",
    "    b=c\n",
    "    print(c)\n",
    "        \n",
    "        \n",
    "    \n",
    " "
   ]
  },
  {
   "cell_type": "markdown",
   "id": "661f5020",
   "metadata": {},
   "source": [
    "#  fibonicii series using recurstion"
   ]
  },
  {
   "cell_type": "code",
   "execution_count": 13,
   "id": "d8b283d9",
   "metadata": {},
   "outputs": [
    {
     "name": "stdout",
     "output_type": "stream",
     "text": [
      "Enter the number10\n",
      "0\n",
      "1\n",
      "1\n",
      "2\n",
      "3\n",
      "5\n",
      "8\n",
      "13\n",
      "21\n",
      "34\n"
     ]
    }
   ],
   "source": [
    "def fibno(n):\n",
    "    if n<=1:\n",
    "        return n\n",
    "    else:\n",
    "        return (fibno(n-1)+fibno(n-2))\n",
    "n=int(input(\"Enter the number\"))\n",
    "if n<=0:\n",
    "    print('invalid')\n",
    "else:\n",
    "    for i in range(n):\n",
    "        print(fibno(i))\n",
    "        \n",
    "        "
   ]
  },
  {
   "cell_type": "markdown",
   "id": "f70866b5",
   "metadata": {},
   "source": [
    "# max number without using max()\n"
   ]
  },
  {
   "cell_type": "code",
   "execution_count": 46,
   "id": "61d1e7de",
   "metadata": {},
   "outputs": [
    {
     "name": "stdout",
     "output_type": "stream",
     "text": [
      "max number is 200\n",
      "max number is 400\n"
     ]
    }
   ],
   "source": [
    "def max_num(A):\n",
    "    b=0\n",
    "    for i in A:\n",
    "        while i>b:\n",
    "            b=i\n",
    "    print(\"max number is\",b)\n",
    "\n",
    "A=[100,200,90,80,1]\n",
    "max_num(A)\n",
    "A=[100,400,90,80,1]\n",
    "max_num(A)\n"
   ]
  },
  {
   "cell_type": "markdown",
   "id": "5927f2cf",
   "metadata": {},
   "source": [
    "# min number without using min()\n"
   ]
  },
  {
   "cell_type": "code",
   "execution_count": 43,
   "id": "219cdb23",
   "metadata": {},
   "outputs": [
    {
     "name": "stdout",
     "output_type": "stream",
     "text": [
      "max number is 1\n",
      "max number is 1\n"
     ]
    }
   ],
   "source": [
    "def max_num(A):\n",
    "    b=100\n",
    "\n",
    "    for i in A:\n",
    "        while i<b:\n",
    "            b=i\n",
    "    print(\"max number is\",b)\n",
    "\n",
    "\n",
    "A=[100,200,90,80,1]\n",
    "max_num(A)\n",
    "A=[400,90,80,1]\n",
    "max_num(A)\n"
   ]
  },
  {
   "cell_type": "markdown",
   "id": "10e5b78e",
   "metadata": {},
   "source": [
    "#  Find the student who has Highest marks ?\n"
   ]
  },
  {
   "cell_type": "code",
   "execution_count": 10,
   "id": "c4eb26bb",
   "metadata": {},
   "outputs": [
    {
     "name": "stdout",
     "output_type": "stream",
     "text": [
      "{'Talha': 78}\n"
     ]
    }
   ],
   "source": [
    "student = {\"Umar\":{\"score\": 67}, \"Talha\":{\"score\": 78}, \"Shadab\":{\"score\": 17}}\n",
    "max=0\n",
    "stu=''\n",
    "for i in student:\n",
    "    score=student.get(i)['score']\n",
    "#     print(score)\n",
    "    if score>max:\n",
    "        max=score\n",
    "#         print(max)\n",
    "        stu=i\n",
    "print ({stu:max})\n",
    "\n",
    "    \n"
   ]
  },
  {
   "cell_type": "markdown",
   "id": "5e0c5300",
   "metadata": {},
   "source": [
    "# sort the list without using sort() it is insorting"
   ]
  },
  {
   "cell_type": "code",
   "execution_count": 21,
   "id": "82d1e62b",
   "metadata": {},
   "outputs": [
    {
     "name": "stdout",
     "output_type": "stream",
     "text": [
      "[1, 2, 4, 100]\n"
     ]
    }
   ],
   "source": [
    "def soring_num(num):\n",
    "    for i in range(1,len(num)):\n",
    "        while num[i-1]>num[i] and i>0: \n",
    "            num[i-1],num[i]=num[i],num[i-1]\n",
    "            i = i-1\n",
    "    print(num) \n",
    "num=[2,100,4,1]\n",
    "soring_num(num)"
   ]
  },
  {
   "cell_type": "markdown",
   "id": "df602bc9",
   "metadata": {},
   "source": [
    "# Sort the list on the basis of second element in the tuple ?\n"
   ]
  },
  {
   "cell_type": "code",
   "execution_count": 12,
   "id": "00d0ea6c",
   "metadata": {},
   "outputs": [
    {
     "name": "stdout",
     "output_type": "stream",
     "text": [
      "[(56, 'apple'), ('water', 'case'), (1, 'groot'), ('dell', 'ipad'), ('teams', 'ml'), ('zoo', 'peanuts')]\n"
     ]
    }
   ],
   "source": [
    "def SortTuple(tup):\n",
    "      \n",
    "   \n",
    "    n = len(tup)\n",
    "      \n",
    "    for i in range(n):\n",
    "        for j in range(n-i-1):\n",
    "          \n",
    "            if tup[j][1] > tup[j + 1][1]:\n",
    "                \n",
    "                tup[j], tup[j + 1] = tup[j + 1], tup[j]\n",
    "                  \n",
    "    return tup\n",
    "      \n",
    "# Driver's code\n",
    "tup= [(\"zoo\", \"peanuts\"),(1, 'groot'), (\"teams\",\"ml\"),('dell', 'ipad'), ('water', 'case'), (56,\"apple\")]\n",
    "\n",
    "          \n",
    "print(SortTuple(tup))"
   ]
  },
  {
   "cell_type": "markdown",
   "id": "094e929f",
   "metadata": {},
   "source": [
    "#  normal list alphabatical sort"
   ]
  },
  {
   "cell_type": "code",
   "execution_count": 8,
   "id": "81923235",
   "metadata": {},
   "outputs": [
    {
     "name": "stdout",
     "output_type": "stream",
     "text": [
      "['apple', 'case', 'groot', 'ipad', 'ml', 'peanuts']\n"
     ]
    }
   ],
   "source": [
    "b=['peanuts', 'groot', 'ml', 'ipad', 'case', 'apple']\n",
    "count=97\n",
    "c=[]\n",
    "while len(c)<len(b):\n",
    "    for i in b:\n",
    "        if ord(i[0])==count:\n",
    "            c.append(i)\n",
    "    count+=1\n",
    "print(c)\n"
   ]
  },
  {
   "cell_type": "markdown",
   "id": "cfb48a5a",
   "metadata": {},
   "source": [
    "# Swap adjacent elements in a list without using inbuilt functions?\n"
   ]
  },
  {
   "cell_type": "code",
   "execution_count": 27,
   "id": "35e51864",
   "metadata": {},
   "outputs": [
    {
     "name": "stdout",
     "output_type": "stream",
     "text": [
      "[65, 65, 19, 90]\n"
     ]
    }
   ],
   "source": [
    "def swapPositions(list, pos1, pos2):\n",
    "     \n",
    "    list[pos1], list[pos2] = list[pos2], list[pos1]\n",
    "    return list\n",
    " \n",
    "# Driver function\n",
    "List = [23, 65, 19, 90]\n",
    "pos1, pos2  = 0, 1\n",
    " \n",
    "print(swapPositions(List, pos1, pos2))"
   ]
  },
  {
   "cell_type": "code",
   "execution_count": 25,
   "id": "efefc402",
   "metadata": {},
   "outputs": [
    {
     "name": "stdout",
     "output_type": "stream",
     "text": [
      "[2, 1, 4, 3, 6, 5]\n"
     ]
    }
   ],
   "source": [
    "x=[1,2,3,4,5,6]\n",
    "for i in range(1,len(x),2):\n",
    "    x[i],x[i-1]=x[i-1],x[i]\n",
    "print(x)"
   ]
  },
  {
   "cell_type": "code",
   "execution_count": 39,
   "id": "de798715",
   "metadata": {},
   "outputs": [
    {
     "name": "stdout",
     "output_type": "stream",
     "text": [
      "[2, 1, 4, 3, 8]\n"
     ]
    }
   ],
   "source": [
    "x=[1,2,3,4,8]\n",
    "for i in (0,len(x),2):\n",
    "    if i<(len(x)):\n",
    "        x[i],x[i+1]=x[i+1],x[i]\n",
    "print(x)"
   ]
  },
  {
   "cell_type": "markdown",
   "id": "482396c5",
   "metadata": {},
   "source": [
    "# Write a program to enter the number till the user wants and at the end it should display the sum of all numbers entered.(using while loop)"
   ]
  },
  {
   "cell_type": "code",
   "execution_count": 29,
   "id": "2fc4adaa",
   "metadata": {},
   "outputs": [
    {
     "name": "stdout",
     "output_type": "stream",
     "text": [
      "Enter how much number you want to add 4\n",
      "Enter the number 6\n",
      "Enter the number 6\n",
      "Enter the number 6\n",
      "Enter the number 6\n",
      "Sum of all elements in given list:  24\n"
     ]
    }
   ],
   "source": [
    "total = 0\n",
    "ele = 0\n",
    "\n",
    "b = []\n",
    "n=int(input(\"Enter how much number you want to add \"))\n",
    "for j in range(int(n)):\n",
    "    k=int(input(\"Enter the number \"))\n",
    "    b.append(k)\n",
    "\n",
    "\n",
    "while(ele < len(b)):\n",
    "\ttotal = total + b[ele]\n",
    "\tele += 1\n",
    "print(\"Sum of all elements in given list: \", total)\n"
   ]
  },
  {
   "cell_type": "markdown",
   "id": "b7d0f22e",
   "metadata": {},
   "source": [
    "# Find the unique number in a list using function?\n",
    "  "
   ]
  },
  {
   "cell_type": "code",
   "execution_count": 26,
   "id": "5d317256",
   "metadata": {},
   "outputs": [
    {
     "name": "stdout",
     "output_type": "stream",
     "text": [
      "[2, 1, 4, 3, 1, 4, 2, 5, 9]\n",
      "[3, 5, 9]\n"
     ]
    }
   ],
   "source": [
    "arr = [2,1,4,3,1,4,2,5,9]\n",
    "def odd_occurring_num(arr):\n",
    "    return [i for i in arr if arr.count(i) < 2]\n",
    "print(arr)\n",
    "\n",
    "print(odd_occurring_num(arr))"
   ]
  },
  {
   "cell_type": "code",
   "execution_count": 34,
   "id": "adf97eb3",
   "metadata": {},
   "outputs": [
    {
     "name": "stdout",
     "output_type": "stream",
     "text": [
      "3\n"
     ]
    }
   ],
   "source": [
    "arr = [2,1,4,3,1,4,2]\n",
    "result=0\n",
    "for i in arr:\n",
    "    result^=i\n",
    "print(result)"
   ]
  },
  {
   "cell_type": "code",
   "execution_count": 42,
   "id": "6886a96c",
   "metadata": {},
   "outputs": [
    {
     "name": "stdout",
     "output_type": "stream",
     "text": [
      "[3]\n"
     ]
    }
   ],
   "source": [
    "arr = [2,1,4,3,1,4,2]\n",
    "new_arr=[]\n",
    "for num in arr:\n",
    "    if arr.count(num) == 1:\n",
    "        new_arr.append(num)\n",
    "        print(new_arr)"
   ]
  },
  {
   "cell_type": "markdown",
   "id": "f33f56d8",
   "metadata": {},
   "source": [
    "# Create a iterator to find all the Power of 3?\n"
   ]
  },
  {
   "cell_type": "code",
   "execution_count": 27,
   "id": "e520a2b6",
   "metadata": {},
   "outputs": [
    {
     "name": "stdout",
     "output_type": "stream",
     "text": [
      "[1, 8, 27, 64, 125, 216, 343, 512, 729]\n"
     ]
    }
   ],
   "source": [
    "\n",
    "def sqaure(a):\n",
    "   \n",
    "\n",
    "    for i in a:\n",
    "        a=i*i*i\n",
    "        i+=1\n",
    "        b.append(a)\n",
    "    print(b)\n",
    "\n",
    "a=[1,2,3,4,5,6,7,8,9]\n",
    "b=[]\n",
    "\n",
    "sqaure(a)\n"
   ]
  },
  {
   "cell_type": "code",
   "execution_count": 49,
   "id": "b3b4d537",
   "metadata": {},
   "outputs": [
    {
     "name": "stdout",
     "output_type": "stream",
     "text": [
      "[1, 8, 27, 64, 125, 216, 343, 512, 729]\n",
      "1\n",
      "8\n"
     ]
    }
   ],
   "source": [
    "def sqaure(a):\n",
    "   \n",
    "\n",
    "    for i in a:\n",
    "        a=i*i*i\n",
    "        i+=1\n",
    "        b.append(a)\n",
    "    print(b)\n",
    "    c=iter(b)\n",
    "    print(next(c))\n",
    "    print(next(c))\n",
    "\n",
    "\n",
    "a=[1,2,3,4,5,6,7,8,9]\n",
    "b=[]\n",
    "\n",
    "\n",
    "\n",
    "sqaure(a)\n"
   ]
  },
  {
   "cell_type": "markdown",
   "id": "cc5727ac",
   "metadata": {},
   "source": [
    "# Find the even and odd from the given list using anonymous function\n",
    " "
   ]
  },
  {
   "cell_type": "code",
   "execution_count": 12,
   "id": "1890dcdd",
   "metadata": {},
   "outputs": [
    {
     "name": "stdout",
     "output_type": "stream",
     "text": [
      "['even', 'odd', 'even']\n"
     ]
    }
   ],
   "source": [
    "a=[2,47,8]\n",
    "b=[(lambda x: \"even\" if x%2==0 else \"odd\") (x) for x in a]\n",
    "print(b)\n"
   ]
  },
  {
   "cell_type": "code",
   "execution_count": 14,
   "id": "8cfc556b",
   "metadata": {},
   "outputs": [
    {
     "name": "stdout",
     "output_type": "stream",
     "text": [
      "['even', 'odd', 'even']\n"
     ]
    }
   ],
   "source": [
    "a=[2,47,8]\n",
    "b=map(lambda x: \"even\" if x%2==0 else \"odd\",a)\n",
    "print(list(b))\n"
   ]
  },
  {
   "cell_type": "code",
   "execution_count": 15,
   "id": "56f9657d",
   "metadata": {},
   "outputs": [
    {
     "name": "stdout",
     "output_type": "stream",
     "text": [
      "['even', 'even', 'odd', 'even']\n",
      "['even', 'odd', 'even']\n"
     ]
    }
   ],
   "source": [
    "def even_odd(x):\n",
    "    b=[]\n",
    "    for i in x:\n",
    "        if i%2==0:\n",
    "            b.append (\"even\")\n",
    "            \n",
    "        else:\n",
    "            b.append (\"odd\")\n",
    "    print (b) \n",
    "a=[2,6,9,6]\n",
    "\n",
    "(even_odd(a))\n",
    "#  p=[1,2,7]\n",
    "\n",
    "# print(b)\n",
    "\n",
    "k=[2,3,4,]\n",
    "(even_odd(k))"
   ]
  },
  {
   "cell_type": "markdown",
   "id": "b0757a63",
   "metadata": {},
   "source": [
    "# Calculate the cube of all numbers from 1 to a given number\n"
   ]
  },
  {
   "cell_type": "code",
   "execution_count": 1,
   "id": "61825c2d",
   "metadata": {},
   "outputs": [
    {
     "name": "stdout",
     "output_type": "stream",
     "text": [
      "Enter the number10\n",
      "cube of number: 1 => 1\n",
      "cube of number: 2 => 8\n",
      "cube of number: 3 => 27\n",
      "cube of number: 4 => 64\n",
      "cube of number: 5 => 125\n",
      "cube of number: 6 => 216\n",
      "cube of number: 7 => 343\n",
      "cube of number: 8 => 512\n",
      "cube of number: 9 => 729\n",
      "cube of number: 10 => 1000\n"
     ]
    }
   ],
   "source": [
    "a=int(input(\"Enter the number\"))\n",
    "for i in range(1,a+1):\n",
    "    print(\"cube of number:\",i,\"=>\",i**3)"
   ]
  },
  {
   "cell_type": "code",
   "execution_count": null,
   "id": "bd691d0d",
   "metadata": {},
   "outputs": [],
   "source": [
    "ser=int(input(\"Enter the number\"))\n",
    "for i in range(user+1):\n",
    "    if i%5==0 and i%3==0:\n",
    "        print(i,\"fizzbizz\")\n",
    "    elif i%5==0 and i%3!=0:\n",
    "        print(i,\"buzz\")\n",
    "    elif i%3==0 and i%5!=0:\n",
    "        print(i,\"fizz\")\n",
    "    else:\n",
    "        print(i,\"none\")"
   ]
  },
  {
   "cell_type": "markdown",
   "id": "01226661",
   "metadata": {},
   "source": [
    "# Write a Python function to calculate the factorial of a number (a non-negative integer). The function accepts the number as an argument"
   ]
  },
  {
   "cell_type": "code",
   "execution_count": 20,
   "id": "545c334f",
   "metadata": {},
   "outputs": [
    {
     "data": {
      "text/plain": [
       "120"
      ]
     },
     "execution_count": 20,
     "metadata": {},
     "output_type": "execute_result"
    }
   ],
   "source": [
    "def fact(number):\n",
    "    result=1\n",
    "    for i in range(1,number+1):\n",
    "        result*=i\n",
    "    return result\n",
    "\n",
    "    \n",
    "fact(5) "
   ]
  },
  {
   "cell_type": "markdown",
   "id": "e36a33b4",
   "metadata": {},
   "source": [
    "# Write a Python function to create and print a list where the values are square of numbers between 1 and 30 (both included). "
   ]
  },
  {
   "cell_type": "code",
   "execution_count": 42,
   "id": "c0ed15f4",
   "metadata": {},
   "outputs": [
    {
     "name": "stdout",
     "output_type": "stream",
     "text": [
      "[1, 4, 9, 16, 25, 36, 49, 64, 81, 100, 121, 144, 169, 196, 225, 256, 289, 324, 361, 400, 441, 484, 529, 576, 625, 676, 729, 784, 841, 900]\n"
     ]
    }
   ],
   "source": [
    "list=[]\n",
    "for i in range(1,31):\n",
    "    list.append(i*i)\n",
    "print(list)    \n",
    "\n"
   ]
  },
  {
   "cell_type": "markdown",
   "id": "a3233b21",
   "metadata": {},
   "source": [
    "# Write a Python function that accepts a string and calculate the number of upper case letters and lower case letters¶ "
   ]
  },
  {
   "cell_type": "code",
   "execution_count": 23,
   "id": "57392436",
   "metadata": {},
   "outputs": [
    {
     "name": "stdout",
     "output_type": "stream",
     "text": [
      "enter the string Iram\n",
      "lowercase count= 3\n",
      "uppercase count= 1\n"
     ]
    }
   ],
   "source": [
    "def case(user):\n",
    "    lowercase=0\n",
    "    Uppercase=0\n",
    "    for i in user:\n",
    "            if i.islower():\n",
    "                lowercase=lowercase+1\n",
    "                \n",
    "                \n",
    "            else:\n",
    "                i.isupper()\n",
    "                Uppercase=Uppercase+1\n",
    "    \n",
    "    print(\"lowercase count=\",lowercase)\n",
    "    print (\"uppercase count=\",Uppercase)\n",
    "user=(input(\"enter the string \"))\n",
    "case(user)"
   ]
  },
  {
   "cell_type": "markdown",
   "id": "5155f89d",
   "metadata": {},
   "source": [
    "# Define a function which counts vowels and consonant in a word.\n"
   ]
  },
  {
   "cell_type": "code",
   "execution_count": 26,
   "id": "4905ca83",
   "metadata": {},
   "outputs": [
    {
     "name": "stdout",
     "output_type": "stream",
     "text": [
      "Enter only one word: iram\n",
      "Total vowels in given sentence: 2\n",
      "Total consonant in given sentence: 2\n"
     ]
    }
   ],
   "source": [
    " letter=input(\"Enter only one word: \")\n",
    "def word(a):\n",
    "    vowels1 = \"a,i,e,o,u,I,A,O,U,E\"\n",
    "    vowel=0\n",
    "    cont=0\n",
    "    for i in letter:\n",
    "        if i in vowels1:\n",
    "            vowel+=1\n",
    "    \n",
    "        else:\n",
    "            cont+=1\n",
    "    print(\"Total vowels in given sentence:\",vowel)\n",
    "    print(\"Total consonant in given sentence:\",cont)\n",
    "word(letter)\n"
   ]
  },
  {
   "cell_type": "markdown",
   "id": "6e9f27c3",
   "metadata": {},
   "source": [
    "# Define a function that accepts radius and returns the area of a circle.\n"
   ]
  },
  {
   "cell_type": "code",
   "execution_count": null,
   "id": "9560346d",
   "metadata": {},
   "outputs": [],
   "source": [
    "import math\n",
    "r=float(input(\"Enter the number to find raduis: \"))\n",
    "area=math.pi * r * r\n",
    "print (\"Area of the circle is: \",area )"
   ]
  },
  {
   "cell_type": "markdown",
   "id": "16aa2e26",
   "metadata": {},
   "source": [
    "# Write a Python function to multiply all the numbers in a list.¶"
   ]
  },
  {
   "cell_type": "code",
   "execution_count": null,
   "id": "dd943628",
   "metadata": {},
   "outputs": [],
   "source": [
    "def multiply(b):\n",
    "    result=1\n",
    "    for i in b:\n",
    "        \n",
    "        result*=i\n",
    "        print(result)\n",
    "        \n",
    "    return result\n",
    "n=int(input(\"Enter how much number you want to multiply \"))\n",
    "b=[]\n",
    "\n",
    "for j in range(int(n)):\n",
    "    k=int(input(\"Enter the number \"))\n",
    "    b.append(k)\n",
    "\n",
    "multiply(b)  \n",
    "\n",
    "     \n",
    "    "
   ]
  },
  {
   "cell_type": "code",
   "execution_count": 56,
   "id": "11fc5154",
   "metadata": {},
   "outputs": [
    {
     "name": "stdout",
     "output_type": "stream",
     "text": [
      "18276.98\n"
     ]
    }
   ],
   "source": [
    "li = [{\"name\":\"raja\",\"totalPremium\":4569},{\"name\":\"raja\",\"totalPremium\":\"4569\"}, {\"name\":\"raja\",\"totalPremium\":4569.44},{\"name\":\"raja\",\"totalPremium\":\"4569.54\"}]\n",
    "li2=[]\n",
    "for i in li:\n",
    "    li2.append(float(i[\"totalPremium\"]))\n",
    "b=\n",
    "print(sum(li2))\n"
   ]
  },
  {
   "cell_type": "markdown",
   "id": "eb71c028",
   "metadata": {},
   "source": [
    "# input=\"sky is blue\"\n",
    "# output=\"blue is sky\""
   ]
  },
  {
   "cell_type": "code",
   "execution_count": 21,
   "id": "90919531",
   "metadata": {},
   "outputs": [
    {
     "name": "stdout",
     "output_type": "stream",
     "text": [
      "sky is blue\n"
     ]
    }
   ],
   "source": [
    "a=\"sky is blue\"\n",
    "b=a.split()\n",
    "c=\" \".join(b)\n",
    "print(c)\n",
    "# print(\" \".join(a.split()[::-1]))\n"
   ]
  },
  {
   "cell_type": "markdown",
   "id": "8d7accce",
   "metadata": {},
   "source": [
    "# dict1 = [{'item':'item1','amount':'400'},{'item':'item2','amount':'3000'},{'item':'item1','amount':'750'}]"
   ]
  },
  {
   "cell_type": "code",
   "execution_count": 31,
   "id": "a59c85b2",
   "metadata": {},
   "outputs": [
    {
     "name": "stdout",
     "output_type": "stream",
     "text": [
      "4150.0\n"
     ]
    }
   ],
   "source": [
    "dict1 = [{'item':'item1','amount':'400'},{'item':'item2','amount':'3000'},{'item':'item1','amount':'750'}]\n",
    "dict2=[]\n",
    "for i in dict1:\n",
    "    dict2.append(float(i[\"amount\"]))\n",
    "print(sum(dict2))\n",
    "\n",
    "    \n",
    "    "
   ]
  },
  {
   "cell_type": "code",
   "execution_count": 28,
   "id": "fd630c79",
   "metadata": {},
   "outputs": [
    {
     "name": "stdout",
     "output_type": "stream",
     "text": [
      "333.25\n"
     ]
    }
   ],
   "source": [
    "a=[400,700,200,33]\n",
    "b=[]\n",
    "for i in a:\n",
    "    b.append(i)\n",
    "print(sum(b)/4)\n",
    "    "
   ]
  },
  {
   "cell_type": "markdown",
   "id": "044a99ef",
   "metadata": {},
   "source": [
    "# input=\"a,a,a,b,b,c,c,c\" output=a:3,b:2,c:3\n"
   ]
  },
  {
   "cell_type": "code",
   "execution_count": 67,
   "id": "4b5fc1be",
   "metadata": {},
   "outputs": [
    {
     "name": "stdout",
     "output_type": "stream",
     "text": [
      "a : 3 , b : 2 , c : 1 , "
     ]
    }
   ],
   "source": [
    "mystr=\"a,a,a,b,b,c\"\n",
    "my_list=mystr.split(\",\")\n",
    "f_list=[]\n",
    "for ch in my_list:\n",
    "    if ch not in f_list:\n",
    "        print(ch,\":\",my_list.count(ch),end=\" , \")\n",
    "        f_list.append(ch)\n",
    "        \n",
    "        \n",
    "        "
   ]
  },
  {
   "cell_type": "markdown",
   "id": "cc345f66",
   "metadata": {},
   "source": [
    "#  compress the string as expected.input:aabbccaaaafffeiii output:a2b2c2a4f3e1i3"
   ]
  },
  {
   "cell_type": "code",
   "execution_count": 31,
   "id": "986895f3",
   "metadata": {},
   "outputs": [
    {
     "name": "stdout",
     "output_type": "stream",
     "text": [
      "a2b2c2a4f3e1i3\n"
     ]
    }
   ],
   "source": [
    "def compress(s):\n",
    "    n=len(s)\n",
    "    count=1\n",
    "    new_str=\"\"\n",
    "    for i in range(n-1):\n",
    "        if s[i]==s[i+1]:\n",
    "            count +=1\n",
    "        else:\n",
    "            new_str=new_str + s[i] + str(count)\n",
    "            count=1\n",
    "    new_str=new_str + s[n-1] + str(count)\n",
    "\n",
    "    return new_str\n",
    "\n",
    "        \n",
    "s='aabbccaaaafffeiii'            \n",
    "print(compress(s))      "
   ]
  },
  {
   "cell_type": "code",
   "execution_count": 56,
   "id": "de6a29f3",
   "metadata": {},
   "outputs": [
    {
     "name": "stdout",
     "output_type": "stream",
     "text": [
      "Addition:  12\n",
      "Subtraction:  8\n",
      "Multiplication:  20\n",
      "Division:  5.0\n",
      "sqaure 20\n"
     ]
    }
   ],
   "source": [
    "def arithmetic(num1, num2):\n",
    "    add = num1 + num2\n",
    "    sub = num1 - num2\n",
    "    multiply = num1 * num2\n",
    "    division = num1 / num2\n",
    "    sqaure=num1*2\n",
    "    # return four values\n",
    "    return add, sub, multiply, division,sqaure\n",
    "\n",
    "# read four return values in four variables\n",
    "a, b, c, d ,e= arithmetic(10, 2)\n",
    "\n",
    "print(\"Addition: \", a)\n",
    "print(\"Subtraction: \", b)\n",
    "print(\"Multiplication: \", c)\n",
    "print(\"Division: \", d)\n",
    "print(\"sqaure\",e)"
   ]
  },
  {
   "cell_type": "markdown",
   "id": "77888cbf",
   "metadata": {},
   "source": [
    "# input=[2,45,32] output=[2,9,5]"
   ]
  },
  {
   "cell_type": "code",
   "execution_count": 55,
   "id": "0441de64",
   "metadata": {},
   "outputs": [
    {
     "name": "stdout",
     "output_type": "stream",
     "text": [
      "[2, 45, 32, 616]\n",
      "[2, 9, 5, 13]\n"
     ]
    }
   ],
   "source": [
    "a=[2,45,32,616]\n",
    "b=[]\n",
    "for num in a:\n",
    "    num=str(num)\n",
    "    num=(list(num))\n",
    "    b.append(sum(map(int,num)))\n",
    "print(a)\n",
    "print(b)"
   ]
  },
  {
   "cell_type": "markdown",
   "id": "4f7b4266",
   "metadata": {},
   "source": [
    "#  highest number\n"
   ]
  },
  {
   "cell_type": "code",
   "execution_count": 18,
   "id": "eeb60a36",
   "metadata": {},
   "outputs": [
    {
     "name": "stdout",
     "output_type": "stream",
     "text": [
      "254\n"
     ]
    }
   ],
   "source": [
    "number=[254,56,120,30,0.5,0]\n",
    "max_num=0\n",
    "for num in number:\n",
    "    while num>max_num:\n",
    "        max_num=num\n",
    "print(max_num)"
   ]
  },
  {
   "cell_type": "markdown",
   "id": "cb735211",
   "metadata": {},
   "source": [
    "#  smallest number"
   ]
  },
  {
   "cell_type": "code",
   "execution_count": 13,
   "id": "a2a15cc1",
   "metadata": {},
   "outputs": [
    {
     "name": "stdout",
     "output_type": "stream",
     "text": [
      "0.5\n"
     ]
    }
   ],
   "source": [
    "number1=[254,56,120,30,0.5]\n",
    "for i in number1:\n",
    "    min_num=254\n",
    "    \n",
    "    if i<min_num:\n",
    "        min_num=i\n",
    "print(min_num)\n"
   ]
  },
  {
   "cell_type": "markdown",
   "id": "fd937b9b",
   "metadata": {},
   "source": [
    "# Find highest number using class and object"
   ]
  },
  {
   "cell_type": "code",
   "execution_count": 7,
   "id": "0bb5cdad",
   "metadata": {},
   "outputs": [
    {
     "data": {
      "text/plain": [
       "254"
      ]
     },
     "execution_count": 7,
     "metadata": {},
     "output_type": "execute_result"
    }
   ],
   "source": [
    "class Max_Num():\n",
    "    def __init__(self,a):\n",
    "        self.a=a\n",
    "        \n",
    "        \n",
    "    def show(self):\n",
    "        a=[254,56,120,30,0.5,0]\n",
    "        max_num=0\n",
    "        for i in a:\n",
    "            while i>max_num:\n",
    "                max_num=i\n",
    "            return (max_num)\n",
    "            \n",
    "obj=Max_Num(a)\n",
    "obj.show()"
   ]
  },
  {
   "cell_type": "code",
   "execution_count": 5,
   "id": "07d262f3",
   "metadata": {},
   "outputs": [
    {
     "name": "stdout",
     "output_type": "stream",
     "text": [
      "<class 'dict'>\n",
      "<class 'set'>\n"
     ]
    }
   ],
   "source": [
    "#empty {} is dictionary not a set\n",
    "a={}\n",
    "print(type(a))\n",
    "b=set()\n",
    "print(type(b))\n"
   ]
  },
  {
   "cell_type": "markdown",
   "id": "ea01e416",
   "metadata": {},
   "source": [
    "# Using static method"
   ]
  },
  {
   "cell_type": "code",
   "execution_count": 29,
   "id": "7c736fed",
   "metadata": {},
   "outputs": [
    {
     "data": {
      "text/plain": [
       "251"
      ]
     },
     "execution_count": 29,
     "metadata": {},
     "output_type": "execute_result"
    }
   ],
   "source": [
    "class high():\n",
    "\n",
    "    @staticmethod\n",
    "    def hnum(lst):\n",
    "        count=0\n",
    "        for i in lst:\n",
    "            if i>count:\n",
    "                count=i\n",
    "        return count\n",
    "ob1=high()\n",
    "ob1.hnum([251,56,120])"
   ]
  },
  {
   "cell_type": "markdown",
   "id": "e106a043",
   "metadata": {},
   "source": [
    "# Swap the number by giving the index value as argument"
   ]
  },
  {
   "cell_type": "code",
   "execution_count": 5,
   "id": "1917361d",
   "metadata": {},
   "outputs": [
    {
     "name": "stdout",
     "output_type": "stream",
     "text": [
      "[1, 3, 2, 4]\n"
     ]
    }
   ],
   "source": [
    "def swap(mylist, pos1, pos2):\n",
    "     \n",
    "    mylist[pos1], mylist[pos2] = mylist[pos2], mylist[pos1]\n",
    "    return mylist\n",
    " \n",
    "myList = [1, 2, 3, 4]\n",
    " \n",
    "print(swap(myList,1, 2))\n"
   ]
  },
  {
   "cell_type": "markdown",
   "id": "a1636984",
   "metadata": {},
   "source": [
    "# Swap the number by giving the index value as argument and also used nasted function to reverse the given list\n"
   ]
  },
  {
   "cell_type": "code",
   "execution_count": 22,
   "id": "c7c6fb28",
   "metadata": {},
   "outputs": [
    {
     "name": "stdout",
     "output_type": "stream",
     "text": [
      "[4, 2, 3, 1]\n"
     ]
    }
   ],
   "source": [
    "def swap(mylist, pos1, pos2):\n",
    "    myList = [1, 2, 3, 4]\n",
    "    def inner(mylist, pos1, pos2):\n",
    "   \n",
    "        mylist[pos1], mylist[pos2] = mylist[pos2], mylist[pos1]\n",
    "#         return(mylist)\n",
    "        return (mylist[::-1])\n",
    "    print(inner(myList,1, 2))\n",
    "    \n",
    "swap(myList,1, 2)\n"
   ]
  },
  {
   "cell_type": "markdown",
   "id": "8a48d70d",
   "metadata": {},
   "source": [
    "# sort with sort function"
   ]
  },
  {
   "cell_type": "code",
   "execution_count": 7,
   "id": "3eff09bb",
   "metadata": {},
   "outputs": [
    {
     "name": "stdout",
     "output_type": "stream",
     "text": [
      "[2, 7, 8, 35, 100]\n"
     ]
    }
   ],
   "source": [
    "my_list=[2,100,8,7,35]\n",
    "for i in range(1,len(my_list)):\n",
    "    while my_list[i-1]>my_list[i] and i>0:\n",
    "        my_list[i-1],my_list[i]=my_list[i],my_list[i-1]\n",
    "        i=i-1\n",
    "print(my_list)"
   ]
  },
  {
   "cell_type": "markdown",
   "id": "05da3f1a",
   "metadata": {},
   "source": [
    "# to find common letter between two strings"
   ]
  },
  {
   "cell_type": "code",
   "execution_count": 20,
   "id": "5c1bdb0a",
   "metadata": {},
   "outputs": [
    {
     "name": "stdout",
     "output_type": "stream",
     "text": [
      "Enter the name iram\n",
      "enter the secod name anam\n",
      "{'m', 'a'}\n"
     ]
    }
   ],
   "source": [
    "a=input(\"Enter the name \")\n",
    "b=input(\"enter the secod name \")\n",
    "c=set(a)\n",
    "d=set(b)\n",
    "e=c.intersection(d)\n",
    "print(e)\n"
   ]
  },
  {
   "cell_type": "code",
   "execution_count": 21,
   "id": "da735ef7",
   "metadata": {},
   "outputs": [
    {
     "name": "stdout",
     "output_type": "stream",
     "text": [
      "Enter the name iram\n",
      "enter the secod name anam\n",
      "{'m', 'a'}\n"
     ]
    }
   ],
   "source": [
    "a=input(\"Enter the name \")\n",
    "b=input(\"enter the secod name \")\n",
    "c=set(a)\n",
    "d=set(b)\n",
    "e=c&d\n",
    "print(e)\n"
   ]
  },
  {
   "cell_type": "markdown",
   "id": "59db45f1",
   "metadata": {},
   "source": [
    "# Write a python program to count freqency of word apperaing in string"
   ]
  },
  {
   "cell_type": "code",
   "execution_count": 31,
   "id": "90e06782",
   "metadata": {},
   "outputs": [
    {
     "name": "stdout",
     "output_type": "stream",
     "text": [
      "{'My': 1}\n",
      "{'name': 1}\n",
      "{'is': 2}\n",
      "{'iram': 2}\n",
      "{'and': 1}\n",
      "{'iram': 2}\n",
      "{'is': 2}\n",
      "{'girl': 1}\n"
     ]
    }
   ],
   "source": [
    "a=\"My name is iram and iram is girl\"\n",
    "b=a.split()\n",
    "for i in b:\n",
    "    c=b.count(i)\n",
    "    print({i:c})\n",
    "    \n"
   ]
  },
  {
   "cell_type": "markdown",
   "id": "9cb9ddb4",
   "metadata": {},
   "source": [
    "# Write a python program to count freqency of word apperaing in string"
   ]
  },
  {
   "cell_type": "code",
   "execution_count": 49,
   "id": "77b1eb4d",
   "metadata": {},
   "outputs": [
    {
     "name": "stdout",
     "output_type": "stream",
     "text": [
      "['My', 'name', 'is', 'iram', 'and', 'iram', 'is', 'girl']\n",
      "{'My': 1, 'name': 1, 'is': 2, 'iram': 2, 'and': 1, 'girl': 1}\n"
     ]
    }
   ],
   "source": [
    "a=\"My name is iram and iram is girl\"\n",
    "c={}\n",
    "b=a.split()\n",
    "print(b)\n",
    "for i in b:\n",
    "    if i not in c.keys():\n",
    "        c[i]=0\n",
    "    c[i]+=1\n",
    "print(c)\n"
   ]
  },
  {
   "cell_type": "markdown",
   "id": "7e28205b",
   "metadata": {},
   "source": [
    "# tuple define without type casting"
   ]
  },
  {
   "cell_type": "code",
   "execution_count": 41,
   "id": "5a0d111e",
   "metadata": {},
   "outputs": [
    {
     "name": "stdout",
     "output_type": "stream",
     "text": [
      "('x', 'y')\n",
      "<class 'tuple'>\n"
     ]
    }
   ],
   "source": [
    "var='x','y'\n",
    "print(var)\n",
    "print(type(var))"
   ]
  },
  {
   "cell_type": "code",
   "execution_count": 2,
   "id": "f316f5e1",
   "metadata": {},
   "outputs": [
    {
     "name": "stdout",
     "output_type": "stream",
     "text": [
      "(1, 2)\n",
      "<class 'tuple'>\n"
     ]
    }
   ],
   "source": [
    "a=1,2,\n",
    "print(a)\n",
    "print(type(a))"
   ]
  },
  {
   "cell_type": "markdown",
   "id": "fe85221e",
   "metadata": {},
   "source": [
    "#  count take 3 argumnets ,substring,startwith,endwith"
   ]
  },
  {
   "cell_type": "code",
   "execution_count": 11,
   "id": "d687507e",
   "metadata": {},
   "outputs": [
    {
     "name": "stdout",
     "output_type": "stream",
     "text": [
      "4\n"
     ]
    }
   ],
   "source": [
    "str1 = \"my isname isisis jameis isis bond\";\n",
    "sub = \"is\";\n",
    "print(str1.count(sub,11,-6))"
   ]
  },
  {
   "cell_type": "markdown",
   "id": "d774f6d9",
   "metadata": {},
   "source": [
    "# Input: nums = [0,2,1,5,3,4] Output: [0,1,2,4,5,3] list treated as index value\n"
   ]
  },
  {
   "cell_type": "code",
   "execution_count": 2,
   "id": "ebec4516",
   "metadata": {},
   "outputs": [
    {
     "data": {
      "text/plain": [
       "[0, 1, 2, 4, 5, 3]"
      ]
     },
     "execution_count": 2,
     "metadata": {},
     "output_type": "execute_result"
    }
   ],
   "source": [
    "def buildArray(nums):\n",
    "    for i in nums:\n",
    "        result_list.append(nums[i])\n",
    "    return (result_list)\n",
    "    \n",
    "    \n",
    "        \n",
    "my_list= [0,2,1,5,3,4]\n",
    "result_list=[]\n",
    "\n",
    "buildArray(my_list)\n",
    "        "
   ]
  },
  {
   "cell_type": "markdown",
   "id": "462f767d",
   "metadata": {},
   "source": [
    "#  Input: accounts =[[1,5],[7,3],[3,5]] Output: 10\n"
   ]
  },
  {
   "cell_type": "code",
   "execution_count": 8,
   "id": "c167a1e2",
   "metadata": {},
   "outputs": [
    {
     "name": "stdout",
     "output_type": "stream",
     "text": [
      "107\n"
     ]
    }
   ],
   "source": [
    "accounts = [[2,8,7],[7,1,99],[1,9,9]]\n",
    "b=[]\n",
    "for i in accounts:\n",
    "    b.append(sum(i))\n",
    "    \n",
    "print(max(b))\n",
    "    \n",
    "            "
   ]
  },
  {
   "cell_type": "markdown",
   "id": "2269fc3f",
   "metadata": {},
   "source": [
    "# Concatenation of Array Input: nums = [1,2,1]Output: [1,2,1,1,2,1]"
   ]
  },
  {
   "cell_type": "code",
   "execution_count": 2,
   "id": "a24520eb",
   "metadata": {},
   "outputs": [
    {
     "name": "stdout",
     "output_type": "stream",
     "text": [
      "[1, 2, 1, 1, 2, 1]\n"
     ]
    }
   ],
   "source": [
    "nums=[1,2,1]\n",
    "new_list=[]\n",
    "for i in nums:\n",
    "    new_list=nums.copy()*2\n",
    "print(new_list)\n",
    "    \n",
    "    \n",
    "    "
   ]
  },
  {
   "cell_type": "markdown",
   "id": "bda39cf9",
   "metadata": {},
   "source": [
    "# Input: nums = [1,1,1,1,1] Output: [1,2,3,4,5]\n",
    " "
   ]
  },
  {
   "cell_type": "code",
   "execution_count": 12,
   "id": "c2c355a0",
   "metadata": {},
   "outputs": [
    {
     "name": "stdout",
     "output_type": "stream",
     "text": [
      "[1, 3, 6, 10]\n"
     ]
    }
   ],
   "source": [
    "nums= [1,2,3,4]\n",
    "for i in range(1,len(nums)):\n",
    "    nums[i]=nums[i] + nums[i-1]\n",
    "print(nums)\n",
    "   "
   ]
  },
  {
   "cell_type": "code",
   "execution_count": 15,
   "id": "d8041a9f",
   "metadata": {},
   "outputs": [
    {
     "name": "stdout",
     "output_type": "stream",
     "text": [
      "[1, 2, 8, 23, 45]\n"
     ]
    }
   ],
   "source": [
    "a=[1,23,45,8,2]\n",
    "for i in range(1,len(a)):\n",
    "    while a[i-1]>a[i] and i>0:\n",
    "        a[i-1],a[i]=a[i],a[i-1]\n",
    "        i=i-1\n",
    "print(a)\n"
   ]
  },
  {
   "cell_type": "code",
   "execution_count": 7,
   "id": "093e9bdd",
   "metadata": {},
   "outputs": [
    {
     "name": "stdout",
     "output_type": "stream",
     "text": [
      "4150.0\n"
     ]
    }
   ],
   "source": [
    "dict1 = [{'item':'item1','amount':'400'},{'item':'item2','amount':'3000'},{'item':'item1','amount':'750'}]\n",
    "dict2 = []\n",
    "for i in dict1:\n",
    "    dict2.append(float(i['amount']))\n",
    "print(sum(dict2))    "
   ]
  },
  {
   "cell_type": "code",
   "execution_count": 10,
   "id": "1030387c",
   "metadata": {},
   "outputs": [
    {
     "name": "stdout",
     "output_type": "stream",
     "text": [
      "4150.0\n"
     ]
    }
   ],
   "source": [
    "dict1 = [{'item':'item1','amount':'400'},{'item':'item2','amount':'3000'},{'item':'item1','amount':'750'}]\n",
    "dict2 = [float(i['amount']) for i in dict1 ]\n",
    "print(sum(dict2))\n",
    "       \n"
   ]
  },
  {
   "cell_type": "code",
   "execution_count": 11,
   "id": "515fd16e",
   "metadata": {},
   "outputs": [
    {
     "name": "stdout",
     "output_type": "stream",
     "text": [
      "1\n",
      "0.3\n"
     ]
    }
   ],
   "source": [
    "def minimum(num):\n",
    "    b=num[0]\n",
    "    for i in num:\n",
    "        if i<b:\n",
    "            b=i\n",
    "    print(b)\n",
    "a=[1,23,45,8,2]\n",
    "minimum(a)\n",
    "c=[5,0.5,0.3]\n",
    "minimum(c)\n",
    "\n",
    "    \n",
    "    "
   ]
  },
  {
   "cell_type": "markdown",
   "id": "97c1374b",
   "metadata": {},
   "source": [
    "# Input: candies = [2,3,5,1,3], extraCandies = 3 Output: [true,true,true,false,true] \n"
   ]
  },
  {
   "cell_type": "code",
   "execution_count": 5,
   "id": "7cb9a390",
   "metadata": {},
   "outputs": [
    {
     "name": "stdout",
     "output_type": "stream",
     "text": [
      "[True, True, True, False, True]\n"
     ]
    }
   ],
   "source": [
    "extracandies=3\n",
    "new_list=[]\n",
    "a=[2,3,5,1,3]  \n",
    "for i in a:\n",
    "    if i+extracandies >= max(a):\n",
    "       \n",
    "        new_list.append(True)\n",
    "    else:\n",
    "        new_list.append(False)\n",
    "print(new_list)\n",
    "        \n",
    "        \n"
   ]
  },
  {
   "cell_type": "markdown",
   "id": "2a8c898c",
   "metadata": {},
   "source": [
    "# nums = [1,2, ,1,1,3] output=5"
   ]
  },
  {
   "cell_type": "code",
   "execution_count": 9,
   "id": "fee342af",
   "metadata": {},
   "outputs": [
    {
     "name": "stdout",
     "output_type": "stream",
     "text": [
      "2\n",
      "4\n",
      "6\n",
      "8\n",
      "10\n",
      "12\n",
      "14\n",
      "16\n",
      "18\n",
      "20\n"
     ]
    }
   ],
   "source": [
    "def mul_num(a):\n",
    "    for i in range(1,11):\n",
    "        b=a*i\n",
    "        print(b)\n",
    "mul_num(2)"
   ]
  },
  {
   "cell_type": "code",
   "execution_count": 11,
   "id": "04e36ef7",
   "metadata": {},
   "outputs": [
    {
     "ename": "SyntaxError",
     "evalue": "invalid syntax (2984103741.py, line 2)",
     "output_type": "error",
     "traceback": [
      "\u001b[1;36m  Input \u001b[1;32mIn [11]\u001b[1;36m\u001b[0m\n\u001b[1;33m    b=[i for i in a if i%2==0 else i]\u001b[0m\n\u001b[1;37m                              ^\u001b[0m\n\u001b[1;31mSyntaxError\u001b[0m\u001b[1;31m:\u001b[0m invalid syntax\n"
     ]
    }
   ],
   "source": []
  },
  {
   "cell_type": "code",
   "execution_count": 12,
   "id": "f55e2615",
   "metadata": {},
   "outputs": [
    {
     "name": "stdout",
     "output_type": "stream",
     "text": [
      "['odd', 'even', 'odd', 'even', 'odd']\n"
     ]
    }
   ],
   "source": [
    "a=[1,2,3,4,5]\n",
    "b=[\"even\" if i%2==0 else \"odd\" for i in a]\n",
    "print(b)"
   ]
  },
  {
   "cell_type": "markdown",
   "id": "4838c9f9",
   "metadata": {},
   "source": [
    "# Input: nums = [1,2,3,1,1,3] Output: 4\n"
   ]
  },
  {
   "cell_type": "code",
   "execution_count": 7,
   "id": "be269e6e",
   "metadata": {},
   "outputs": [
    {
     "name": "stdout",
     "output_type": "stream",
     "text": [
      "4\n"
     ]
    }
   ],
   "source": [
    "nums = [1,2,3,1,1,3]\n",
    "count=0\n",
    "for i in range(len(nums)):\n",
    "    for j in range(i+1,len(nums)):\n",
    "        if nums[i]==nums[j]:\n",
    "            count+=1\n",
    "print(count)\n",
    "            \n",
    "            "
   ]
  },
  {
   "cell_type": "code",
   "execution_count": 4,
   "id": "c128bd24",
   "metadata": {},
   "outputs": [
    {
     "name": "stdout",
     "output_type": "stream",
     "text": [
      "4\n"
     ]
    }
   ],
   "source": [
    "def solve(nums):\n",
    "    count=0\n",
    "    n=len(nums)\n",
    "    for i in range(n):\n",
    "        for j in range(i+1,n):\n",
    "            if nums[i] == nums[j]:\n",
    "                count+=1\n",
    "    return count\n",
    "\n",
    "nums = [5,6,7,5,5,7]\n",
    "print(solve(nums))"
   ]
  },
  {
   "cell_type": "markdown",
   "id": "774a61e4",
   "metadata": {},
   "source": [
    "# Input: nums = [8,1,2,2,3] Output: [4,0,1,1,3]\n"
   ]
  },
  {
   "cell_type": "code",
   "execution_count": 14,
   "id": "1a41d023",
   "metadata": {},
   "outputs": [
    {
     "ename": "IndexError",
     "evalue": "list index out of range",
     "output_type": "error",
     "traceback": [
      "\u001b[1;31m---------------------------------------------------------------------------\u001b[0m",
      "\u001b[1;31mIndexError\u001b[0m                                Traceback (most recent call last)",
      "Input \u001b[1;32mIn [14]\u001b[0m, in \u001b[0;36m<cell line: 3>\u001b[1;34m()\u001b[0m\n\u001b[0;32m      3\u001b[0m \u001b[38;5;28;01mfor\u001b[39;00m i \u001b[38;5;129;01min\u001b[39;00m nums:\n\u001b[0;32m      4\u001b[0m     \u001b[38;5;28;01mfor\u001b[39;00m j \u001b[38;5;129;01min\u001b[39;00m \u001b[38;5;28mrange\u001b[39m(\u001b[38;5;28mlen\u001b[39m(nums)):\n\u001b[1;32m----> 5\u001b[0m         \u001b[38;5;28;01mif\u001b[39;00m \u001b[43mnums\u001b[49m\u001b[43m[\u001b[49m\u001b[43mi\u001b[49m\u001b[43m]\u001b[49m\u001b[38;5;241m>\u001b[39mnums[j]:\n\u001b[0;32m      6\u001b[0m             count\u001b[38;5;241m+\u001b[39m\u001b[38;5;241m=\u001b[39m\u001b[38;5;241m1\u001b[39m\n\u001b[0;32m      7\u001b[0m \u001b[38;5;28mprint\u001b[39m(count)\n",
      "\u001b[1;31mIndexError\u001b[0m: list index out of range"
     ]
    }
   ],
   "source": [
    "nums = [8,1,2,2,3]\n",
    "count=0\n",
    "for i in nums:\n",
    "    for j in range(len(nums)):\n",
    "        if (nums[j]>-i)<0:\n",
    "            count+=1\n",
    "print(count)"
   ]
  },
  {
   "cell_type": "code",
   "execution_count": 13,
   "id": "087d4f22",
   "metadata": {},
   "outputs": [
    {
     "name": "stdout",
     "output_type": "stream",
     "text": [
      "num[j] 1 i 8\n",
      "1\n",
      "num[j] 2 i 8\n",
      "2\n",
      "num[j] 2 i 8\n",
      "3\n",
      "num[j] 3 i 8\n",
      "4\n",
      "num[j] 1 i 2\n",
      "1\n",
      "num[j] 1 i 2\n",
      "1\n",
      "num[j] 1 i 3\n",
      "1\n",
      "num[j] 2 i 3\n",
      "2\n",
      "num[j] 2 i 3\n",
      "3\n",
      "[4, 0, 1, 1, 3]\n"
     ]
    }
   ],
   "source": [
    "nums = [8,1,2,2,t]\n",
    "\n",
    "l=len(nums)\n",
    "ans=[]\n",
    "count=0\n",
    "for i in nums:\n",
    "    for j in range(l):\n",
    "        if (nums[j]-i)<0:\n",
    "            print(\"num[j]\",nums[j],\"i\",i)\n",
    "            count+=1\n",
    "            print(count)\n",
    "    ans.append(count)\n",
    "    \n",
    "    count=0\n",
    "print(ans)\n",
    "# [4,0,1,1,3]"
   ]
  },
  {
   "cell_type": "code",
   "execution_count": 6,
   "id": "195e8e09",
   "metadata": {},
   "outputs": [
    {
     "name": "stdout",
     "output_type": "stream",
     "text": [
      "enter the number to find index 6\n",
      "-1\n"
     ]
    }
   ],
   "source": [
    "list1=[1,2,3,4,5]\n",
    "\n",
    "a=int(input(\"enter the number to find index \"))\n",
    "for i in range(len(list1)):\n",
    "   \n",
    "    if a==list1[i]:\n",
    "        print(i)\n",
    "        break\n",
    "        \n",
    "else :\n",
    "    print(-1)\n",
    "\n",
    "        \n"
   ]
  },
  {
   "cell_type": "code",
   "execution_count": 14,
   "id": "86e142a6",
   "metadata": {},
   "outputs": [
    {
     "ename": "TypeError",
     "evalue": "cannot unpack non-iterable int object",
     "output_type": "error",
     "traceback": [
      "\u001b[1;31m---------------------------------------------------------------------------\u001b[0m",
      "\u001b[1;31mTypeError\u001b[0m                                 Traceback (most recent call last)",
      "Input \u001b[1;32mIn [14]\u001b[0m, in \u001b[0;36m<cell line: 2>\u001b[1;34m()\u001b[0m\n\u001b[0;32m      1\u001b[0m a\u001b[38;5;241m=\u001b[39m[\u001b[38;5;241m1\u001b[39m,\u001b[38;5;241m2\u001b[39m,\u001b[38;5;241m3\u001b[39m,\u001b[38;5;241m4\u001b[39m,\u001b[38;5;241m5\u001b[39m]\n\u001b[1;32m----> 2\u001b[0m \u001b[38;5;28;01mfor\u001b[39;00m m,n \u001b[38;5;129;01min\u001b[39;00m a:\n\u001b[0;32m      3\u001b[0m     z\u001b[38;5;241m=\u001b[39mm\u001b[38;5;241m+\u001b[39mn\n\u001b[0;32m      4\u001b[0m     \u001b[38;5;28mprint\u001b[39m(z)\n",
      "\u001b[1;31mTypeError\u001b[0m: cannot unpack non-iterable int object"
     ]
    }
   ],
   "source": [
    "a=[1,2,3,4,5]\n",
    "for m,n in a:\n",
    "    z=m+n\n",
    "    print(z)"
   ]
  },
  {
   "cell_type": "code",
   "execution_count": 9,
   "id": "9ee21715",
   "metadata": {},
   "outputs": [
    {
     "name": "stdout",
     "output_type": "stream",
     "text": [
      "C\n"
     ]
    }
   ],
   "source": [
    "class a:\n",
    "    def show(self):\n",
    "        print(\"A\")\n",
    "class b(a):\n",
    "    def show(self):\n",
    "        print(\"B\")\n",
    "class c(b):\n",
    "    def show(self):\n",
    "        print(\"C\")\n",
    "class d(c,b,a):\n",
    "    pass\n",
    "#     print(\"D\")\n",
    "obj=d()\n",
    "obj.show()\n"
   ]
  },
  {
   "cell_type": "code",
   "execution_count": null,
   "id": "71700d74",
   "metadata": {},
   "outputs": [],
   "source": []
  },
  {
   "cell_type": "code",
   "execution_count": 5,
   "id": "0a203d21",
   "metadata": {},
   "outputs": [
    {
     "name": "stdout",
     "output_type": "stream",
     "text": [
      "do eaa\n"
     ]
    }
   ],
   "source": [
    "var= \"aJames Bond\"\n",
    "print(var[::-2])"
   ]
  },
  {
   "cell_type": "code",
   "execution_count": 16,
   "id": "ad1931fe",
   "metadata": {},
   "outputs": [
    {
     "name": "stdout",
     "output_type": "stream",
     "text": [
      "[4, 5, 3, 4]\n"
     ]
    }
   ],
   "source": [
    "a=[4,54,3,4,5,6,4,23]\n",
    "b=a[-2::-2]\n",
    "print(b)\n"
   ]
  },
  {
   "cell_type": "code",
   "execution_count": 18,
   "id": "f42b0931",
   "metadata": {},
   "outputs": [
    {
     "name": "stdout",
     "output_type": "stream",
     "text": [
      "[3, 54]\n"
     ]
    }
   ],
   "source": [
    "a=[4,54,3,4,5,6,4,23]\n",
    "b=a[2:0:-1]\n",
    "print(b)\n"
   ]
  },
  {
   "cell_type": "code",
   "execution_count": 7,
   "id": "520b8a2e",
   "metadata": {},
   "outputs": [
    {
     "name": "stdout",
     "output_type": "stream",
     "text": [
      "Enter the letterF\n",
      "It's a capital\n"
     ]
    }
   ],
   "source": [
    "a=input(\"Enter the letter\")\n",
    "if a>=\"A\" and a<=\"Z\":\n",
    "    print(\"It's a capital\")\n",
    "else:\n",
    "    print(\"It is not a capital\")\n",
    "    \n",
    "    "
   ]
  },
  {
   "cell_type": "code",
   "execution_count": 11,
   "id": "a42bbb3d",
   "metadata": {},
   "outputs": [
    {
     "name": "stdout",
     "output_type": "stream",
     "text": [
      "Enter the letterj\n",
      "Its small\n"
     ]
    }
   ],
   "source": [
    "a=input(\"Enter the letter \")\n",
    "\n",
    "if a.isupper():\n",
    "    print(\"Its is capital\")\n",
    "else:\n",
    "    print(\"Its small\")"
   ]
  },
  {
   "cell_type": "code",
   "execution_count": 17,
   "id": "02b16fb3",
   "metadata": {},
   "outputs": [
    {
     "name": "stdout",
     "output_type": "stream",
     "text": [
      "[0, 0.4, 2, 3, 7, 13, 45, 66]\n"
     ]
    }
   ],
   "source": [
    "a=[13,2,3,45,66,7,0,0.4]\n",
    "for i in range(1,len(a)):\n",
    "    while a[i-1]>a[i] and i>0:\n",
    "        a[i-1],a[i]=a[i],a[i-1]\n",
    "        i=i-1\n",
    "print(a)"
   ]
  },
  {
   "cell_type": "code",
   "execution_count": 21,
   "id": "b956d388",
   "metadata": {},
   "outputs": [
    {
     "name": "stdout",
     "output_type": "stream",
     "text": [
      "2\n"
     ]
    }
   ],
   "source": [
    "a=[13,2,3,45,66,70.4]\n",
    "b=a[0]\n",
    "for i in a:\n",
    "    if i<b:\n",
    "        b=i\n",
    "print(b)"
   ]
  },
  {
   "cell_type": "code",
   "execution_count": 2,
   "id": "5f3ec96a",
   "metadata": {},
   "outputs": [
    {
     "name": "stdout",
     "output_type": "stream",
     "text": [
      "enter the nos2\n",
      "0\n",
      "0\n",
      "0\n",
      "0\n",
      "0\n",
      "0\n",
      "0\n",
      "0\n",
      "0\n",
      "0\n"
     ]
    }
   ],
   "source": [
    "a=[2,3,4,5,12,4,3]\n",
    "for i in range(len(a)):\n",
    "    for j in range(1,11):\n",
    "        c=i*j\n",
    "        print(c)"
   ]
  },
  {
   "cell_type": "code",
   "execution_count": 2,
   "id": "c4fd0a2b",
   "metadata": {},
   "outputs": [
    {
     "name": "stdout",
     "output_type": "stream",
     "text": [
      "['a', 'a', 'a', 'b', 'b', 'c']\n",
      "a : 3 , b : 2 , c : 1 , "
     ]
    }
   ],
   "source": [
    "mystr=\"a,a,a,b,b,c\"\n",
    "my_list=mystr.split(\",\")\n",
    "print(my_list)\n",
    "f_list=[]\n",
    "for ch in my_list:\n",
    "    if ch not in f_list:\n",
    "        print(ch,\":\",my_list.count(ch),end=\" , \")\n",
    "        f_list.append(ch)\n",
    "        \n",
    "        \n",
    "        "
   ]
  },
  {
   "cell_type": "code",
   "execution_count": null,
   "id": "0291bfc7",
   "metadata": {},
   "outputs": [],
   "source": []
  }
 ],
 "metadata": {
  "kernelspec": {
   "display_name": "Python 3 (ipykernel)",
   "language": "python",
   "name": "python3"
  },
  "language_info": {
   "codemirror_mode": {
    "name": "ipython",
    "version": 3
   },
   "file_extension": ".py",
   "mimetype": "text/x-python",
   "name": "python",
   "nbconvert_exporter": "python",
   "pygments_lexer": "ipython3",
   "version": "3.10.4"
  }
 },
 "nbformat": 4,
 "nbformat_minor": 5
}
