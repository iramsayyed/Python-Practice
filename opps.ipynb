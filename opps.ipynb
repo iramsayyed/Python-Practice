{
 "cells": [
  {
   "cell_type": "code",
   "execution_count": 12,
   "id": "76d17d72",
   "metadata": {},
   "outputs": [
    {
     "name": "stdout",
     "output_type": "stream",
     "text": [
      "This is Vehicle\n",
      "Car name is: BMW\n"
     ]
    }
   ],
   "source": [
    "class Vehicle:\n",
    "    def info(self):\n",
    "        print(\"This is Vehicle\")\n",
    "\n",
    "class Car(Vehicle):\n",
    "    def car_info(self, name):\n",
    "        print(\"Car name is:\", name)\n",
    "\n",
    "\n",
    "obj1 = Car()\n",
    "obj1.info()\n",
    "obj1.car_info('BMW')\n",
    "\n"
   ]
  },
  {
   "cell_type": "code",
   "execution_count": 33,
   "id": "4c785710",
   "metadata": {},
   "outputs": [
    {
     "ename": "NameError",
     "evalue": "name 'self' is not defined",
     "output_type": "error",
     "traceback": [
      "\u001b[1;31m---------------------------------------------------------------------------\u001b[0m",
      "\u001b[1;31mNameError\u001b[0m                                 Traceback (most recent call last)",
      "Input \u001b[1;32mIn [33]\u001b[0m, in \u001b[0;36m<cell line: 7>\u001b[1;34m()\u001b[0m\n\u001b[0;32m      4\u001b[0m     \u001b[38;5;28;01mdef\u001b[39;00m \u001b[38;5;21mname\u001b[39m(\u001b[38;5;28mself\u001b[39m):\n\u001b[0;32m      5\u001b[0m         \u001b[38;5;28mprint\u001b[39m(\u001b[38;5;124m\"\u001b[39m\u001b[38;5;124mName of the employee:\u001b[39m\u001b[38;5;124m\"\u001b[39m,\u001b[38;5;28mself\u001b[39m\u001b[38;5;241m.\u001b[39mname)\n\u001b[1;32m----> 7\u001b[0m \u001b[38;5;28;01mclass\u001b[39;00m \u001b[38;5;21;01memployee_position\u001b[39;00m(employee_name):\n\u001b[0;32m      9\u001b[0m     \u001b[38;5;28;01mdef\u001b[39;00m \u001b[38;5;21m__init__\u001b[39m(\u001b[38;5;28mself\u001b[39m, name):\n\u001b[0;32m     10\u001b[0m             \u001b[38;5;28msuper\u001b[39m()\u001b[38;5;241m.\u001b[39m\u001b[38;5;21m__init__\u001b[39m(name)\n",
      "Input \u001b[1;32mIn [33]\u001b[0m, in \u001b[0;36memployee_position\u001b[1;34m()\u001b[0m\n\u001b[0;32m     11\u001b[0m \u001b[38;5;28;01mdef\u001b[39;00m \u001b[38;5;21mposition\u001b[39m(\u001b[38;5;28mself\u001b[39m):\n\u001b[0;32m     12\u001b[0m         iram\u001b[38;5;241m=\u001b[39m\u001b[38;5;28msuper\u001b[39m()\u001b[38;5;241m.\u001b[39mname()\n\u001b[1;32m---> 13\u001b[0m \u001b[38;5;28;43mself\u001b[39;49m\u001b[38;5;241m.\u001b[39memployee_position\u001b[38;5;241m=\u001b[39m\u001b[38;5;124m\"\u001b[39m\u001b[38;5;124mSoftware engineer\u001b[39m\u001b[38;5;124m\"\u001b[39m\n\u001b[0;32m     14\u001b[0m \u001b[38;5;28mprint\u001b[39m(\u001b[38;5;124m\"\u001b[39m\u001b[38;5;124mPosition of employee:\u001b[39m\u001b[38;5;124m\"\u001b[39m,\u001b[38;5;28mself\u001b[39m\u001b[38;5;241m.\u001b[39memployee_position)\n",
      "\u001b[1;31mNameError\u001b[0m: name 'self' is not defined"
     ]
    }
   ],
   "source": [
    "class employee_name:\n",
    "    def __init__(self,name):\n",
    "        self.name=name\n",
    "    def name(self):\n",
    "        print(\"Name of the employee:\",self.name)\n",
    "        \n",
    "class employee_position(employee_name):\n",
    "    \n",
    "    def __init__(self, name):\n",
    "            super().__init__(name)\n",
    "    def position(self):\n",
    "            iram=super().name()\n",
    "    self.employee_position=\"Software engineer\"\n",
    "    print(\"Position of employee:\",self.employee_position) \n",
    "# class employee_salary(employee_position):\n",
    "#     def __init__(self, name,id):\n",
    "#         super().__init__(name,id)\n",
    "#     def salary(self):\n",
    "#         iram=super().name()\n",
    "#         iram1=super().position()\n",
    "#         self.salary=20000\n",
    "#         print(\"Salary of employee:\",self.salary)\n",
    "\n",
    "emp1=employee_position(\"Iram\")\n",
    "emp1.position()\n",
    "print(issubclass(employee_position,employee_name))\n"
   ]
  },
  {
   "cell_type": "code",
   "execution_count": 14,
   "id": "3f6ad0c7",
   "metadata": {},
   "outputs": [
    {
     "name": "stdout",
     "output_type": "stream",
     "text": [
      " ball\n"
     ]
    }
   ],
   "source": [
    "class A:\n",
    "    def process1(self):\n",
    "        print(\" apple\")\n",
    "\n",
    "class B:\n",
    "    def process1( pass\n",
    "#     def process1(self):\n",
    "#         print(\" Cat\")\n",
    "\n",
    "# Creating object of C class\n",
    "C1=C()\n",
    "C1.process1()\n",
    "# print(C.mro())"
   ]
  },
  {
   "cell_type": "markdown",
   "id": "279fdf39",
   "metadata": {},
   "source": [
    "# Polymorphism"
   ]
  },
  {
   "cell_type": "code",
   "execution_count": 18,
   "id": "5362ca2b",
   "metadata": {},
   "outputs": [
    {
     "name": "stdout",
     "output_type": "stream",
     "text": [
      "Name of the student: iram\n",
      "Name of the student: anam\n",
      "marks of the Iram: 90\n",
      "marks of the Anam: 9\n"
     ]
    }
   ],
   "source": [
    "class student_marks:\n",
    "     def student1(self,name1,name2):\n",
    "        print(\"Name of the student:\",name1)\n",
    "        print(\"Name of the student:\",name2)\n",
    "        \n",
    "\n",
    "class marks(student_marks):\n",
    "    def marks2(self,mark1,mark2):\n",
    "        print(\"marks of the Iram:\",mark1)\n",
    "        print(\"marks of the Anam:\",mark2)\n",
    "stu=marks()\n",
    "stu.student1(\"iram\",\"anam\")\n",
    "stu.marks2(90,9)\n"
   ]
  },
  {
   "cell_type": "code",
   "execution_count": 25,
   "id": "d39ac2b9",
   "metadata": {},
   "outputs": [
    {
     "name": "stdout",
     "output_type": "stream",
     "text": [
      "Name of the student:Iram\n",
      "Marks of the student:90\n"
     ]
    }
   ],
   "source": [
    "class student1:\n",
    "    def name_1mark(self):\n",
    "        print(\"Name of the student:Iram\")\n",
    "        print(\"Marks of the student:90\")\n",
    "class student2:\n",
    "    def name_mark(self):\n",
    "        print(\"Name of the student:Anam\")\n",
    "        print(\"Marks of the student:09\")\n",
    "def data(person):\n",
    "    person.name_mark()\n",
    "iram=student1()\n",
    "iram.name_1mark()\n"
   ]
  },
  {
   "cell_type": "code",
   "execution_count": 28,
   "id": "1da766cb",
   "metadata": {},
   "outputs": [
    {
     "name": "stdout",
     "output_type": "stream",
     "text": [
      "True\n",
      "True\n",
      "2134881009936\n",
      "2134881009936\n"
     ]
    }
   ],
   "source": [
    "a=2\n",
    "b=2\n",
    "print(a==b)\n",
    "print(a is b)\n",
    "print(id(a))\n",
    "print(id(b))"
   ]
  },
  {
   "cell_type": "code",
   "execution_count": 13,
   "id": "91ca9bdc",
   "metadata": {},
   "outputs": [
    {
     "name": "stdout",
     "output_type": "stream",
     "text": [
      "l\n"
     ]
    }
   ],
   "source": [
    "a=\"  iram ia iirl  \"\n",
    "x=a.strip(\"  iram\")\n",
    "print(x)\n"
   ]
  },
  {
   "cell_type": "code",
   "execution_count": 4,
   "id": "e3a34d1d",
   "metadata": {},
   "outputs": [
    {
     "name": "stdout",
     "output_type": "stream",
     "text": [
      "Name of the employee: Iram\n",
      "Position of employee: software engineer\n"
     ]
    }
   ],
   "source": [
    "class employee_name:\n",
    "    def __init__(self,name):\n",
    "        self.name=name\n",
    "    def name(self):\n",
    "        print(\"Name of the employee:\",self.name)\n",
    "        \n",
    "class employee_position(employee_name):\n",
    "    \n",
    "    def __init__(self, name,position):\n",
    "            super().__init__(name)\n",
    "            iram=super().name()\n",
    "            self.position=position\n",
    "    def position1(self):\n",
    "        print(\"Position of employee:\",self.position) \n",
    "    \n",
    "emp1=employee_position(\"Iram\",\"software engineer\")\n",
    "emp1.position1()"
   ]
  },
  {
   "cell_type": "code",
   "execution_count": 59,
   "id": "a23c10b5",
   "metadata": {},
   "outputs": [
    {
     "name": "stdout",
     "output_type": "stream",
     "text": [
      "Name of the student: iram Roll no of the student: 44\n",
      "school name: abp school\n"
     ]
    }
   ],
   "source": [
    "class student:\n",
    "    def __init__(self,name,rollno):\n",
    "        self.name=name\n",
    "        self.rollno=rollno\n",
    "    def show(self):\n",
    "        print(\"Name of the student:\",self.name,\"Roll no of the student:\",self.rollno)\n",
    "class school(student):\n",
    "    def __init__(self, name, rollno,subject):\n",
    "        super().__init__(name, rollno)\n",
    "        ira=super().show()\n",
    "    def show(self):\n",
    "        self.school=\"abp school\"\n",
    "        print(\"school name:\",self.school)\n",
    "\n",
    "s1=school(\"iram\",44)\n",
    "s1.show()"
   ]
  },
  {
   "cell_type": "code",
   "execution_count": 58,
   "id": "a04dae6c",
   "metadata": {},
   "outputs": [
    {
     "data": {
      "text/plain": [
       "('school name:', 'abp school', 'rollno.:', 55, 'subject:', 'Maths', None)"
      ]
     },
     "execution_count": 58,
     "metadata": {},
     "output_type": "execute_result"
    }
   ],
   "source": [
    "class student:\n",
    "    \n",
    "    def __init__(self,name,rollno):\n",
    "        self.name=name\n",
    "        self.rollno=rollno\n",
    "    def show(self):\n",
    "        return \"Name of the student:\",self.name,\"Roll no of the student:\",self.rollno\n",
    "class school(student):\n",
    "    def __init__(self, name, rollno,age):\n",
    "        super().__init__(name, rollno)\n",
    "        \n",
    "        self.age = age\n",
    "        zikra = super().show()\n",
    "    def show(self):\n",
    "        self.school=\"abp school\"\n",
    "        \"school name:\",self.school, \"rollno.:\",self.rollno, \"age:\", self.age  \n",
    "class home(school):\n",
    "    def __init__(self, name, rollno,age, subject):\n",
    "        super().__init__(name, rollno, age)\n",
    "        self.subject = subject\n",
    "       \n",
    "   \n",
    "       \n",
    "    def show(self):\n",
    "        zikra = super().show()\n",
    "        self.school=\"abp school\"\n",
    "        return \"school name:\",self.school, \"rollno.:\",self.rollno, \"subject:\", self.subject,zikra\n",
    "        \n",
    "\n",
    "s1=home('iram',55,33,\"Maths\")\n",
    "s1.show()\n"
   ]
  },
  {
   "cell_type": "code",
   "execution_count": 17,
   "id": "3a4e1755",
   "metadata": {},
   "outputs": [
    {
     "ename": "IndentationError",
     "evalue": "expected an indented block after class definition on line 1 (4004227526.py, line 3)",
     "output_type": "error",
     "traceback": [
      "\u001b[1;36m  Input \u001b[1;32mIn [17]\u001b[1;36m\u001b[0m\n\u001b[1;33m    def zikra(par1, par2)\u001b[0m\n\u001b[1;37m    ^\u001b[0m\n\u001b[1;31mIndentationError\u001b[0m\u001b[1;31m:\u001b[0m expected an indented block after class definition on line 1\n"
     ]
    }
   ],
   "source": [
    "class name1:\n",
    "\n",
    "def zikra(par1, par2)\n",
    "\n",
    "\n",
    "statments\n",
    "\n",
    "class name2(name1)\n",
    "\n",
    "def zikra(par1, par2, par3)\n",
    "super().zikra()\n",
    "\n",
    "\n",
    "\n",
    "\n",
    "statements"
   ]
  },
  {
   "cell_type": "code",
   "execution_count": 84,
   "id": "4fcea989",
   "metadata": {},
   "outputs": [],
   "source": [
    "class A:\n",
    "    def __init__(self,name):\n",
    "        self.name=name\n",
    "        \n",
    "    def show(self):\n",
    "        print(\"name :\",self.name)\n",
    "        \n",
    "        \n",
    "class B:\n",
    "    def __init__(self,name,rollno):\n",
    "#         super().__init__(name)\n",
    "#         x=super().show()\n",
    "        self.name=name\n",
    "        self.rollno=rollno\n",
    "        \n",
    "    def show(self):\n",
    "        self.school=\"abp school\"\n",
    "        print=(\"school name:\",self.school, \"rollno.:\",self.rollno)  \n",
    "        \n",
    "        \n",
    "class C(B):\n",
    "    def __init__(self,name,rollno,subject):\n",
    "        super().__init__(name,rollno)\n",
    "        super().show()\n",
    "        self.subject=subject\n",
    "        \n",
    "    def show(self):\n",
    "        print=(\"school name:\",self.school, \"rollno.:\",self.rollno,\"subject: \",self.subject) \n",
    "        \n",
    "        \n",
    "# s1=C(\"iram\",22,\"english\")  \n",
    "# s1.show()\n",
    "\n",
    "s2 = B(\"ABC\",12)\n",
    "s2.show()"
   ]
  },
  {
   "cell_type": "code",
   "execution_count": null,
   "id": "817f3b6e",
   "metadata": {},
   "outputs": [],
   "source": []
  },
  {
   "cell_type": "code",
   "execution_count": null,
   "id": "56d632de",
   "metadata": {},
   "outputs": [],
   "source": []
  }
 ],
 "metadata": {
  "kernelspec": {
   "display_name": "Python 3 (ipykernel)",
   "language": "python",
   "name": "python3"
  },
  "language_info": {
   "codemirror_mode": {
    "name": "ipython",
    "version": 3
   },
   "file_extension": ".py",
   "mimetype": "text/x-python",
   "name": "python",
   "nbconvert_exporter": "python",
   "pygments_lexer": "ipython3",
   "version": "3.10.4"
  }
 },
 "nbformat": 4,
 "nbformat_minor": 5
}
