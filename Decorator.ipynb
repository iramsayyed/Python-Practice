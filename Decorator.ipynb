{
 "cells": [
  {
   "cell_type": "markdown",
   "id": "a7dff703",
   "metadata": {},
   "source": [
    "# DECORATOR PRACTICE"
   ]
  },
  {
   "cell_type": "markdown",
   "id": "88e49c16",
   "metadata": {},
   "source": [
    "# Decorator is an intresting feauture of python which take another function as an argument and add new functinality to an existing function without modifying it's stracture"
   ]
  },
  {
   "cell_type": "code",
   "execution_count": 4,
   "id": "b828e496",
   "metadata": {},
   "outputs": [
    {
     "name": "stdout",
     "output_type": "stream",
     "text": [
      "enter the no 6\n",
      "enter the no 9\n",
      "0.6666666666666666\n"
     ]
    }
   ],
   "source": [
    "a=int(input(\"enter the no \"))\n",
    "b=int(input(\"enter the no \"))\n",
    "def smart_divider(func):\n",
    "    def inner(a,b):\n",
    "        if b == 0:\n",
    "            print(\"enter number other then zero\")\n",
    "            return\n",
    "        return func(a,b)\n",
    "    return inner\n",
    "\n",
    "\n",
    "\n",
    "a=int(input(\"enter the no \"))\n",
    "b=int(input(\"enter the no \"))\n",
    "def smart_divider(func):\n",
    "    def inner(a,b):\n",
    "        if b 1!= 0:\n",
    "            print(\"\")\n",
    "            return\n",
    "        return func(a,b)\n",
    "    return inner\n",
    "\n",
    "\n",
    "\n",
    "\n",
    "\n",
    "\n",
    "\n",
    "\n",
    "@smart_divider\n",
    "def divion(a,b):\n",
    "    print(a/b)\n",
    "\n",
    "divion(a,b)\n",
    "    "
   ]
  },
  {
   "cell_type": "code",
   "execution_count": 5,
   "id": "5cd7efbc",
   "metadata": {},
   "outputs": [
    {
     "name": "stdout",
     "output_type": "stream",
     "text": [
      "marks 40\n",
      "my name iram sayyed\n"
     ]
    }
   ],
   "source": [
    "def marks(func):\n",
    "    def inner(a,b,c):\n",
    "        print(\"marks\",c)\n",
    "        return func(a,b)\n",
    "    return inner\n",
    "  \n",
    "\n",
    "\n",
    "@marks\n",
    "def student(a,b):\n",
    "    print(\"my name\",a,b)\n",
    "student(\"iram\",\"sayyed\",40)\n",
    "    \n",
    "        \n",
    "        "
   ]
  },
  {
   "cell_type": "code",
   "execution_count": null,
   "id": "4764ab67",
   "metadata": {},
   "outputs": [],
   "source": []
  }
 ],
 "metadata": {
  "kernelspec": {
   "display_name": "Python 3 (ipykernel)",
   "language": "python",
   "name": "python3"
  },
  "language_info": {
   "codemirror_mode": {
    "name": "ipython",
    "version": 3
   },
   "file_extension": ".py",
   "mimetype": "text/x-python",
   "name": "python",
   "nbconvert_exporter": "python",
   "pygments_lexer": "ipython3",
   "version": "3.10.4"
  }
 },
 "nbformat": 4,
 "nbformat_minor": 5
}
