{
 "cells": [
  {
   "cell_type": "markdown",
   "id": "559c4478",
   "metadata": {},
   "source": [
    "# Calculator"
   ]
  },
  {
   "cell_type": "code",
   "execution_count": null,
   "id": "dd8b16af",
   "metadata": {},
   "outputs": [],
   "source": [
    "while(True):\n",
    "    num1 = int(input(\"Enter the first Number: \"))\n",
    "    num2 = int(input(\"Enter the second Number: \"))\n",
    "    \n",
    "    print('''\n",
    "    For Sum '+' write 1\n",
    "    For Sub '-' write 2\n",
    "    For Divison write 3\n",
    "    For mulplication '*' write 4\n",
    "    For Percentage '%' write 5\n",
    "    For Modolus '//' write 6''')\n",
    "        \n",
    "    try:\n",
    "        operator = int(input(\"operator number: \"))\n",
    "\n",
    "        if operator == 1:\n",
    "            total=num1+num2\n",
    "            print(\"The sum of the given numbers are:\",total)\n",
    "\n",
    "\n",
    "        elif operator==2:\n",
    "            total=num1-num2\n",
    "            print(\"The sub of the given number are:\",total)\n",
    "\n",
    "        elif operator==3:\n",
    "            total=num1/num2\n",
    "            print(\"The division of the given number are:\",total)\n",
    "\n",
    "        elif operator==4:\n",
    "            total=num1*num2\n",
    "            print(\"The multiplication of the given number are:\",total)\n",
    "\n",
    "        elif operator==5:\n",
    "            total=num1/num2*100\n",
    "            print(\"The sub of the given number are:\",total,\"%\")\n",
    "\n",
    "        elif operator==6:\n",
    "            total=num1//num2\n",
    "            print(\"The sub of the given number are:\",total)\n",
    "\n",
    "        else:\n",
    "            print(\"please enter correct operator number\")\n",
    "            continue\n",
    "\n",
    "\n",
    "        user=input(\"If you want to continue write yes otherwise write no :\")\n",
    "        if user == 'no':\n",
    "            print(\"Thank You\")\n",
    "            \n",
    "            break\n",
    "\n",
    "        else:\n",
    "            print(\"Please enter correct input\")\n",
    "    except:\n",
    "        print(\"Enter the valid number instead of alphabate\")\n",
    "        continue\n",
    "\n",
    "\n",
    "\n"
   ]
  },
  {
   "cell_type": "code",
   "execution_count": null,
   "id": "155b4605",
   "metadata": {},
   "outputs": [],
   "source": []
  }
 ],
 "metadata": {
  "kernelspec": {
   "display_name": "Python 3 (ipykernel)",
   "language": "python",
   "name": "python3"
  },
  "language_info": {
   "codemirror_mode": {
    "name": "ipython",
    "version": 3
   },
   "file_extension": ".py",
   "mimetype": "text/x-python",
   "name": "python",
   "nbconvert_exporter": "python",
   "pygments_lexer": "ipython3",
   "version": "3.10.4"
  }
 },
 "nbformat": 4,
 "nbformat_minor": 5
}
