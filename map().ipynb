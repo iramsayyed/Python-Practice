{
 "cells": [
  {
   "cell_type": "markdown",
   "id": "226397e9",
   "metadata": {},
   "source": [
    "# 1. Write a Python program to triple all numbers of a given list of integers. Use Python map"
   ]
  },
  {
   "cell_type": "code",
   "execution_count": 4,
   "id": "f4df16da",
   "metadata": {},
   "outputs": [
    {
     "name": "stdout",
     "output_type": "stream",
     "text": [
      "[3, 6, 9, 12, 15, 18, 21, 24, 27, 30]\n"
     ]
    }
   ],
   "source": [
    "a=(1,2,3,4,5,6,7,8,9,10)\n",
    "result = map(lambda x : x + x + x,a)\n",
    "print(list(result))"
   ]
  },
  {
   "cell_type": "markdown",
   "id": "a40904a6",
   "metadata": {},
   "source": [
    "# 2. Write a Python program to add three given lists using Python map and lambda. "
   ]
  },
  {
   "cell_type": "code",
   "execution_count": 11,
   "id": "3786bebf",
   "metadata": {},
   "outputs": [
    {
     "name": "stdout",
     "output_type": "stream",
     "text": [
      "[12, 15, 18]\n"
     ]
    }
   ],
   "source": [
    "a=[1,2,3]\n",
    "b=[4,5,6]\n",
    "c=[7,8,9]\n",
    "result = map(lambda x, y, z: x + y + z, a, b, c) \n",
    "print(list(result))"
   ]
  },
  {
   "cell_type": "markdown",
   "id": "8553e333",
   "metadata": {},
   "source": [
    "# Write a Python program to listify the list of given strings individually using Python map.\n",
    "\n"
   ]
  },
  {
   "cell_type": "code",
   "execution_count": 13,
   "id": "af4ac14b",
   "metadata": {},
   "outputs": [
    {
     "name": "stdout",
     "output_type": "stream",
     "text": [
      "[['a', 'p', 'p', 'l', 'e'], ['b', 'a', 'l', 'l'], ['c', 'a', 't'], ['d', 'o', 'g']]\n"
     ]
    }
   ],
   "source": [
    "a=[\"apple\",\"ball\",\"cat\",\"dog\"]\n",
    "result=map(list,a)\n",
    "print(list(result))"
   ]
  },
  {
   "cell_type": "markdown",
   "id": "7ee14b5c",
   "metadata": {},
   "source": [
    "# 4. Write a Python program to create a list containing the power of said number in bases raised to the corresponding number in the index using Python map"
   ]
  },
  {
   "cell_type": "code",
   "execution_count": 1,
   "id": "a488ec9c",
   "metadata": {},
   "outputs": [
    {
     "name": "stdout",
     "output_type": "stream",
     "text": [
      "[1, 4, 27, 256, 3125, 46656, 823543, 16777216, 387420489, 10000000000]\n"
     ]
    }
   ],
   "source": [
    "a=[1,2,3,4,5,6,7,8,9,10]\n",
    "p=[1,2,3,4,5,6,7,8,9,10]\n",
    "result=map(pow,a,p)\n",
    "print(list(result))v\n",
    "# map return object"
   ]
  },
  {
   "cell_type": "markdown",
   "id": "010d8fd4",
   "metadata": {},
   "source": [
    "# 5. Write a Python program to square the elements of a list using map() function"
   ]
  },
  {
   "cell_type": "code",
   "execution_count": 18,
   "id": "bbfc36a2",
   "metadata": {},
   "outputs": [
    {
     "name": "stdout",
     "output_type": "stream",
     "text": [
      "[1, 4, 9, 16, 25, 36]\n"
     ]
    }
   ],
   "source": [
    "a=[1,2,3,4,5,6]\n",
    "result=map(lambda x : x*x ,a)\n",
    "print(list(result))"
   ]
  },
  {
   "cell_type": "code",
   "execution_count": 3,
   "id": "41fae5bb",
   "metadata": {},
   "outputs": [
    {
     "ename": "TypeError",
     "evalue": "cannot unpack non-iterable int object",
     "output_type": "error",
     "traceback": [
      "\u001b[1;31m---------------------------------------------------------------------------\u001b[0m",
      "\u001b[1;31mTypeError\u001b[0m                                 Traceback (most recent call last)",
      "Input \u001b[1;32mIn [3]\u001b[0m, in \u001b[0;36m<cell line: 2>\u001b[1;34m()\u001b[0m\n\u001b[0;32m      1\u001b[0m a\u001b[38;5;241m=\u001b[39m[\u001b[38;5;241m5\u001b[39m,\u001b[38;5;241m8\u001b[39m,\u001b[38;5;241m15\u001b[39m,\u001b[38;5;241m19\u001b[39m]\n\u001b[1;32m----> 2\u001b[0m \u001b[38;5;28;01mfor\u001b[39;00m i,j \u001b[38;5;129;01min\u001b[39;00m a:\n\u001b[0;32m      3\u001b[0m     \u001b[38;5;28mprint\u001b[39m(j\u001b[38;5;241m-\u001b[39mi)\n",
      "\u001b[1;31mTypeError\u001b[0m: cannot unpack non-iterable int object"
     ]
    }
   ],
   "source": [
    "a=[5,8,15,19]\n",
    "for i,j in a:\n",
    "    \n",
    "    "
   ]
  },
  {
   "cell_type": "code",
   "execution_count": null,
   "id": "4928d487",
   "metadata": {},
   "outputs": [],
   "source": []
  }
 ],
 "metadata": {
  "kernelspec": {
   "display_name": "Python 3 (ipykernel)",
   "language": "python",
   "name": "python3"
  },
  "language_info": {
   "codemirror_mode": {
    "name": "ipython",
    "version": 3
   },
   "file_extension": ".py",
   "mimetype": "text/x-python",
   "name": "python",
   "nbconvert_exporter": "python",
   "pygments_lexer": "ipython3",
   "version": "3.10.4"
  }
 },
 "nbformat": 4,
 "nbformat_minor": 5
}
