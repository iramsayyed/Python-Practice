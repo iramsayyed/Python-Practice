{
 "cells": [
  {
   "cell_type": "markdown",
   "id": "cd80d5f3",
   "metadata": {},
   "source": [
    "# python operators"
   ]
  },
  {
   "cell_type": "markdown",
   "id": "7017b773",
   "metadata": {},
   "source": [
    "## Python Arithmetic Operators (use to calculate numerical value)"
   ]
  },
  {
   "cell_type": "code",
   "execution_count": 4,
   "id": "6c4d1821",
   "metadata": {},
   "outputs": [
    {
     "name": "stdout",
     "output_type": "stream",
     "text": [
      "12\n"
     ]
    }
   ],
   "source": [
    "# for addition of two number\n",
    "a=8\n",
    "b=4\n",
    "print(a+b)"
   ]
  },
  {
   "cell_type": "code",
   "execution_count": 5,
   "id": "05ec0cb1",
   "metadata": {},
   "outputs": [
    {
     "name": "stdout",
     "output_type": "stream",
     "text": [
      "4\n"
     ]
    }
   ],
   "source": [
    "# for Subtraction of two number\n",
    "a=8\n",
    "b=4\n",
    "print(a-b)"
   ]
  },
  {
   "cell_type": "code",
   "execution_count": 6,
   "id": "3d415332",
   "metadata": {},
   "outputs": [
    {
     "name": "stdout",
     "output_type": "stream",
     "text": [
      "32\n"
     ]
    }
   ],
   "source": [
    "# for Multiplication of two number\n",
    "a=8\n",
    "b=4\n",
    "print(a*b)"
   ]
  },
  {
   "cell_type": "code",
   "execution_count": 15,
   "id": "da978e1f",
   "metadata": {},
   "outputs": [
    {
     "name": "stdout",
     "output_type": "stream",
     "text": [
      "5.5\n"
     ]
    }
   ],
   "source": [
    "# for Division of two number\n",
    "a=11\n",
    "b=2\n",
    "print(a/b)\n"
   ]
  },
  {
   "cell_type": "code",
   "execution_count": 16,
   "id": "ca4723a2",
   "metadata": {},
   "outputs": [
    {
     "name": "stdout",
     "output_type": "stream",
     "text": [
      "0\n"
     ]
    }
   ],
   "source": [
    "# for Modulus of two number it will give reminder\n",
    "a=8\n",
    "b=2\n",
    "print(a%b)"
   ]
  },
  {
   "cell_type": "code",
   "execution_count": 17,
   "id": "3963809a",
   "metadata": {},
   "outputs": [
    {
     "name": "stdout",
     "output_type": "stream",
     "text": [
      "4096\n"
     ]
    }
   ],
   "source": [
    "# for Exponentiation of to two number,it will give sqaure of that number\n",
    "a=8\n",
    "b=4\n",
    "print(a**b)"
   ]
  },
  {
   "cell_type": "code",
   "execution_count": 21,
   "id": "561f3b0d",
   "metadata": {},
   "outputs": [
    {
     "name": "stdout",
     "output_type": "stream",
     "text": [
      "2\n"
     ]
    }
   ],
   "source": [
    "x=5\n",
    "y=3\n",
    "print(x%y)"
   ]
  },
  {
   "cell_type": "code",
   "execution_count": 26,
   "id": "763617fb",
   "metadata": {},
   "outputs": [
    {
     "name": "stdout",
     "output_type": "stream",
     "text": [
      "3\n"
     ]
    }
   ],
   "source": [
    "x=3\n",
    "y=5\n",
    "print(x%y)  \n",
    "# it will give only simple first step multiplaction"
   ]
  },
  {
   "cell_type": "code",
   "execution_count": 27,
   "id": "635b0351",
   "metadata": {},
   "outputs": [
    {
     "name": "stdout",
     "output_type": "stream",
     "text": [
      "2.0\n"
     ]
    }
   ],
   "source": [
    "# for Floor division of two number\n",
    "a=8\n",
    "b=4\n",
    "print(a//b)\n",
    "# it will give whole number "
   ]
  },
  {
   "cell_type": "markdown",
   "id": "86e0312c",
   "metadata": {},
   "source": [
    "## Assignment operators (it is for assign the value of variables)"
   ]
  },
  {
   "cell_type": "code",
   "execution_count": 28,
   "id": "cfb6a447",
   "metadata": {},
   "outputs": [
    {
     "name": "stdout",
     "output_type": "stream",
     "text": [
      "3\n"
     ]
    }
   ],
   "source": [
    "x=3\n",
    "print(x)"
   ]
  },
  {
   "cell_type": "code",
   "execution_count": 30,
   "id": "c39fba7b",
   "metadata": {},
   "outputs": [
    {
     "name": "stdout",
     "output_type": "stream",
     "text": [
      "7\n"
     ]
    }
   ],
   "source": [
    "x=4\n",
    "x+=3\n",
    "# it is like x=x+3\n",
    "# it will add 3 in the x\n",
    "print(x)"
   ]
  },
  {
   "cell_type": "code",
   "execution_count": 33,
   "id": "26269017",
   "metadata": {},
   "outputs": [
    {
     "name": "stdout",
     "output_type": "stream",
     "text": [
      "1\n"
     ]
    }
   ],
   "source": [
    "x=4\n",
    "x-=3\n",
    "# it is like x=x-3\n",
    "# it will subs 3 from x\n",
    "print(x)"
   ]
  },
  {
   "cell_type": "code",
   "execution_count": 34,
   "id": "e6581dd5",
   "metadata": {},
   "outputs": [
    {
     "name": "stdout",
     "output_type": "stream",
     "text": [
      "16\n"
     ]
    }
   ],
   "source": [
    "x=4\n",
    "x*=4\n",
    "print(x)\n",
    "# it will multiply"
   ]
  },
  {
   "cell_type": "code",
   "execution_count": 36,
   "id": "c083ffb6",
   "metadata": {},
   "outputs": [
    {
     "name": "stdout",
     "output_type": "stream",
     "text": [
      "2.0\n"
     ]
    }
   ],
   "source": [
    "x=4\n",
    "x/=2\n",
    "print(x)"
   ]
  },
  {
   "cell_type": "code",
   "execution_count": 37,
   "id": "8e5c9fd1",
   "metadata": {},
   "outputs": [
    {
     "name": "stdout",
     "output_type": "stream",
     "text": [
      "2\n"
     ]
    }
   ],
   "source": [
    "x=4\n",
    "x//=2\n",
    "print(x)"
   ]
  },
  {
   "cell_type": "code",
   "execution_count": 5,
   "id": "ba1baac8",
   "metadata": {},
   "outputs": [
    {
     "name": "stdout",
     "output_type": "stream",
     "text": [
      "4\n"
     ]
    }
   ],
   "source": [
    "x = 6\n",
    "\n",
    "x &=4\n",
    "\n",
    "print(x)\n",
    "# & use AND logic gate"
   ]
  },
  {
   "cell_type": "code",
   "execution_count": 3,
   "id": "f7c4a5e2",
   "metadata": {},
   "outputs": [
    {
     "name": "stdout",
     "output_type": "stream",
     "text": [
      "6\n"
     ]
    }
   ],
   "source": [
    "x=6\n",
    "x |=4\n",
    "print(x)\n",
    "# | use OR logic gate"
   ]
  },
  {
   "cell_type": "code",
   "execution_count": 2,
   "id": "4618d5fc",
   "metadata": {},
   "outputs": [
    {
     "name": "stdout",
     "output_type": "stream",
     "text": [
      "6\n"
     ]
    }
   ],
   "source": [
    "# for bitwise XOR\n",
    "# XOR means (different condition give 1 and same condition give 0)\n",
    "x=5\n",
    "x ^= 3\n",
    "print(x)\n"
   ]
  },
  {
   "cell_type": "code",
   "execution_count": 3,
   "id": "c7f39f38",
   "metadata": {},
   "outputs": [
    {
     "name": "stdout",
     "output_type": "stream",
     "text": [
      "2\n"
     ]
    }
   ],
   "source": [
    "# >> it will shift rigth\n",
    "x=10\n",
    "x>>=2\n",
    "print(x)"
   ]
  },
  {
   "cell_type": "code",
   "execution_count": 4,
   "id": "317a81d7",
   "metadata": {},
   "outputs": [
    {
     "name": "stdout",
     "output_type": "stream",
     "text": [
      "40\n"
     ]
    }
   ],
   "source": [
    "# << it will sfigt left\n",
    "x=10\n",
    "x<<=2\n",
    "print(x)"
   ]
  },
  {
   "cell_type": "code",
   "execution_count": 7,
   "id": "b0feb549",
   "metadata": {},
   "outputs": [
    {
     "name": "stdout",
     "output_type": "stream",
     "text": [
      "True\n"
     ]
    }
   ],
   "source": [
    "# == eqaul to \n",
    "x=6\n",
    "y=6\n",
    "print(x==y)"
   ]
  },
  {
   "cell_type": "code",
   "execution_count": 8,
   "id": "9f8919f9",
   "metadata": {},
   "outputs": [
    {
     "name": "stdout",
     "output_type": "stream",
     "text": [
      "True\n"
     ]
    }
   ],
   "source": [
    "# != is not equal to\n",
    "x=6\n",
    "y=5\n",
    "print(x!=y)"
   ]
  },
  {
   "cell_type": "code",
   "execution_count": 9,
   "id": "cef7df49",
   "metadata": {},
   "outputs": [
    {
     "name": "stdout",
     "output_type": "stream",
     "text": [
      "True\n"
     ]
    }
   ],
   "source": [
    "# greater than\n",
    "x=4\n",
    "y=3\n",
    "print(x>y)\n"
   ]
  },
  {
   "cell_type": "code",
   "execution_count": 11,
   "id": "ca50a177",
   "metadata": {},
   "outputs": [
    {
     "name": "stdout",
     "output_type": "stream",
     "text": [
      "True\n"
     ]
    }
   ],
   "source": [
    "# Less than\n",
    "x=3\n",
    "y=4\n",
    "print(x<y)"
   ]
  },
  {
   "cell_type": "code",
   "execution_count": 12,
   "id": "52b132db",
   "metadata": {},
   "outputs": [
    {
     "name": "stdout",
     "output_type": "stream",
     "text": [
      "True\n"
     ]
    }
   ],
   "source": [
    "# greater than and equal to\n",
    "x=3\n",
    "x=5\n",
    "print(x >= y)"
   ]
  },
  {
   "cell_type": "code",
   "execution_count": 14,
   "id": "1b49f585",
   "metadata": {},
   "outputs": [
    {
     "name": "stdout",
     "output_type": "stream",
     "text": [
      "True\n"
     ]
    }
   ],
   "source": [
    "# less than and eqaul to\n",
    "x=5\n",
    "x=3\n",
    "print(x <= y)"
   ]
  },
  {
   "cell_type": "code",
   "execution_count": 24,
   "id": "0c838203",
   "metadata": {},
   "outputs": [
    {
     "name": "stdout",
     "output_type": "stream",
     "text": [
      "-6\n"
     ]
    }
   ],
   "source": [
    "# not ~\n",
    "x=5\n",
    "print(~x)"
   ]
  },
  {
   "cell_type": "code",
   "execution_count": null,
   "id": "3e0c4525",
   "metadata": {},
   "outputs": [],
   "source": []
  }
 ],
 "metadata": {
  "kernelspec": {
   "display_name": "Python 3 (ipykernel)",
   "language": "python",
   "name": "python3"
  },
  "language_info": {
   "codemirror_mode": {
    "name": "ipython",
    "version": 3
   },
   "file_extension": ".py",
   "mimetype": "text/x-python",
   "name": "python",
   "nbconvert_exporter": "python",
   "pygments_lexer": "ipython3",
   "version": "3.10.4"
  }
 },
 "nbformat": 4,
 "nbformat_minor": 5
}
