{
 "cells": [
  {
   "cell_type": "markdown",
   "id": "0ad7c1b4",
   "metadata": {},
   "source": [
    "### a. To create a tuple having a number from 1-20. Print the half of its value in 1 line and other half in next line .\n",
    " \n",
    "\n",
    " "
   ]
  },
  {
   "cell_type": "code",
   "execution_count": 7,
   "id": "a85fae4b",
   "metadata": {},
   "outputs": [
    {
     "name": "stdout",
     "output_type": "stream",
     "text": [
      "(1, 2, 3, 4, 5, 6, 7, 8, 9, 10)\n",
      "(11, 12, 13, 14, 15, 16, 17, 18, 19, 20)\n"
     ]
    }
   ],
   "source": [
    "a=(1,2,3,4,5,6,7,8,9,10,11,12,13,14,15,16,17,18,19,20)\n",
    "x=a[:10]\n",
    "y=a[10:]\n",
    "print(x)\n",
    "print(y)"
   ]
  },
  {
   "cell_type": "markdown",
   "id": "79c364cf",
   "metadata": {},
   "source": [
    "## b. To create a tuple consisting of 20 number from a user. Create another tuple whose values are even number in the first tuple.\n",
    "\n",
    "\n"
   ]
  },
  {
   "cell_type": "code",
   "execution_count": 1,
   "id": "8167d0c4",
   "metadata": {},
   "outputs": [
    {
     "name": "stdout",
     "output_type": "stream",
     "text": [
      "enter the number 5\n",
      "enter the number 4\n",
      "enter the number 1\n",
      "(5, 4, 1)\n",
      "(4,)\n",
      "(5, 1)\n"
     ]
    }
   ],
   "source": [
    "a=[]\n",
    "for i in range(1,4\n",
    "              ):\n",
    "    user=int(input(\"enter the number \"))\n",
    "    a.append(user)\n",
    "print(tuple(a))\n",
    "\n",
    "b=[]\n",
    "c=[]\n",
    "for j in a:\n",
    "    if j%2 ==0:\n",
    "        b.append(j)\n",
    "        b.sort()\n",
    "        print(tuple(b))\n",
    "    else:\n",
    "        c.append(j)\n",
    "print(tuple(c))\n",
    "    \n",
    "        \n",
    "# else:\n",
    "#     print(\"there is no even in given tuple\")\n",
    "# print(tuple(b))\n",
    "    \n",
    "# c=[]\n",
    "# for k in a:\n",
    "#     if k%2 ==1:\n",
    "#         c.append(k)\n",
    "# print(tuple(c))\n",
    "        \n",
    "\n",
    "\n"
   ]
  },
  {
   "cell_type": "markdown",
   "id": "5a3c933b",
   "metadata": {},
   "source": [
    "### c. To concatenate two tuples .\n",
    " "
   ]
  },
  {
   "cell_type": "code",
   "execution_count": 14,
   "id": "8716aa86",
   "metadata": {},
   "outputs": [
    {
     "name": "stdout",
     "output_type": "stream",
     "text": [
      "(1, 2, 3, 4, 5, 6, 7, 8, 9, 10)\n"
     ]
    }
   ],
   "source": [
    "a=(1,2,3,4,5)\n",
    "b=(6,7,8,9,10)\n",
    "c=a+b\n",
    "print(c)"
   ]
  },
  {
   "cell_type": "markdown",
   "id": "c121d826",
   "metadata": {},
   "source": [
    "## d. To check whether a given element is present in tuple or not .\n"
   ]
  },
  {
   "cell_type": "code",
   "execution_count": null,
   "id": "0c227376",
   "metadata": {},
   "outputs": [],
   "source": [
    "a=(1,2,3,4,5,67,6,33,64,555)\n",
    "b=int(input(\"Enter the number to check whether it is present or not in tuple: \"))\n",
    "if b in a:\n",
    "    print(\"true\")\n",
    "else:\n",
    "    print(\"false\")"
   ]
  },
  {
   "cell_type": "markdown",
   "id": "bf00e0e3",
   "metadata": {},
   "source": [
    "## e. To use the following methods on a tuple in the program:cmp(t1,t2)/t1==t2 ,len(t1) , zip(t1,t2) , max(t) , min(t) , tuple() \n"
   ]
  },
  {
   "cell_type": "code",
   "execution_count": 21,
   "id": "33d08933",
   "metadata": {},
   "outputs": [
    {
     "name": "stdout",
     "output_type": "stream",
     "text": [
      "False\n"
     ]
    }
   ],
   "source": [
    "t1=(1,2,3,4,5,6,7,8)\n",
    "t2=(2,6,4,12,43,55)\n",
    "print (t1 == t2)"
   ]
  },
  {
   "cell_type": "code",
   "execution_count": 25,
   "id": "7f7fe77b",
   "metadata": {},
   "outputs": [
    {
     "name": "stdout",
     "output_type": "stream",
     "text": [
      "8\n"
     ]
    }
   ],
   "source": [
    "t1=(1,2,3,4,5,6,7,8)\n",
    "print(len(t1))"
   ]
  },
  {
   "cell_type": "code",
   "execution_count": 26,
   "id": "0cbb06da",
   "metadata": {},
   "outputs": [
    {
     "name": "stdout",
     "output_type": "stream",
     "text": [
      "8\n"
     ]
    }
   ],
   "source": [
    "t1=(1,2,3,4,5,6,7,8)\n",
    "print(max(t1))"
   ]
  },
  {
   "cell_type": "code",
   "execution_count": 27,
   "id": "8260d87b",
   "metadata": {},
   "outputs": [
    {
     "name": "stdout",
     "output_type": "stream",
     "text": [
      "1\n"
     ]
    }
   ],
   "source": [
    "t1=(1,2,3,4,5,6,7,8)\n",
    "print(min(t1))"
   ]
  },
  {
   "cell_type": "code",
   "execution_count": 4,
   "id": "1450c888",
   "metadata": {},
   "outputs": [
    {
     "name": "stdout",
     "output_type": "stream",
     "text": [
      "(('A', 'Apple'), ('B', 'Banana'), ('c', 'Cherry'))\n"
     ]
    }
   ],
   "source": [
    "x = (\"A\",\"B\",\"c\")\n",
    "y = (\"Apple\", \"Banana\", \"Cherry\")\n",
    "z = zip(x, y)\n",
    "print(tuple(z))\n",
    "\n"
   ]
  },
  {
   "cell_type": "markdown",
   "id": "5bb1f355",
   "metadata": {},
   "source": [
    "# Python Dictionaries practice "
   ]
  },
  {
   "cell_type": "markdown",
   "id": "fb2601f9",
   "metadata": {},
   "source": [
    "## f. To create a dictionary with any five key value pair . print the dictionary . Add an element in a given dictionary and delete an element\n",
    " \n",
    "\n"
   ]
  },
  {
   "cell_type": "code",
   "execution_count": 9,
   "id": "c0901baf",
   "metadata": {},
   "outputs": [
    {
     "name": "stdout",
     "output_type": "stream",
     "text": [
      "{'Color': 'red', 'model': 'Audi', 'make': 'honda', 'year': 1996}\n"
     ]
    }
   ],
   "source": [
    "car= {\n",
    "  \"Color\": \"red\",\n",
    "  \"model\": \"Audi\",\n",
    "    \"size\":\"big\",\n",
    "    \"make\":\"honda\"\n",
    "}\n",
    "car[\"year\"] = 1996\n",
    "del car[\"size\"]\n",
    "\n",
    "print(car)\n"
   ]
  },
  {
   "cell_type": "markdown",
   "id": "a8eb9963",
   "metadata": {},
   "source": [
    "## To create 2 dictionaries using dictionary comprehension method.\n"
   ]
  },
  {
   "cell_type": "code",
   "execution_count": 18,
   "id": "7aebd191",
   "metadata": {},
   "outputs": [
    {
     "name": "stdout",
     "output_type": "stream",
     "text": [
      "{'make', 'size', 'model', 'Color'}\n"
     ]
    }
   ],
   "source": [
    "car= {\n",
    "  \"Color\": \"red\",\n",
    "  \"model\": \"Audi\",\n",
    "    \"size\":\"big\",\n",
    "    \"make\":\"honda\"\n",
    "}\n",
    "\n",
    "car2={i for i in car.valus()}\n",
    "print(car2)"
   ]
  },
  {
   "cell_type": "markdown",
   "id": "d753dd96",
   "metadata": {},
   "source": [
    "## To demonstrate any five methods on dictionary\n"
   ]
  },
  {
   "cell_type": "code",
   "execution_count": 19,
   "id": "d339657d",
   "metadata": {},
   "outputs": [
    {
     "name": "stdout",
     "output_type": "stream",
     "text": [
      "{'Color': 'red', 'model': 'Audi', 'size': 'big', 'make': 'honda'}\n"
     ]
    }
   ],
   "source": [
    "#.copy()\n",
    "car= {\n",
    "  \"Color\": \"red\",\n",
    "  \"model\": \"Audi\",\n",
    "    \"size\":\"big\",\n",
    "    \"make\":\"honda\"\n",
    "}\n",
    "x=car.copy()\n",
    "print(x)"
   ]
  },
  {
   "cell_type": "code",
   "execution_count": 23,
   "id": "cd656995",
   "metadata": {},
   "outputs": [
    {
     "name": "stdout",
     "output_type": "stream",
     "text": [
      "{'one': 1, 'two': 1, 'three': 1, 'four': 1}\n"
     ]
    }
   ],
   "source": [
    "#fromkeys()\n",
    "a=(\"one\",\"two\",\"three\",\"four\")\n",
    "b=1\n",
    "number=dict.fromkeys(a,b)\n",
    "print(number)\n"
   ]
  },
  {
   "cell_type": "code",
   "execution_count": 3,
   "id": "51914cc1",
   "metadata": {},
   "outputs": [
    {
     "name": "stdout",
     "output_type": "stream",
     "text": [
      "red\n"
     ]
    }
   ],
   "source": [
    "#get()\n",
    "car= {\n",
    "  \"Color\": \"red\",\n",
    "  \"model\": \"Audi\",\n",
    "    \"size\":\"big\",\n",
    "    \"make\":\"honda\"\n",
    "}\n",
    "#a=car.get(\"color\")\n",
    "\n",
    "print(car[\"Color\"])"
   ]
  },
  {
   "cell_type": "code",
   "execution_count": 3,
   "id": "f3889992",
   "metadata": {},
   "outputs": [
    {
     "name": "stdout",
     "output_type": "stream",
     "text": [
      "{'Color': {'green', 'red'}, 'model': 'Audi', 'size': 'big'}\n"
     ]
    }
   ],
   "source": [
    "#update\n",
    "red={\"green\",\"red\"}\n",
    "car= {\n",
    "  \"Color\": red,\n",
    "  \"model\": \"Audi\",\n",
    "    \"size\":\"big\"\n",
    "}\n",
    "#car.update({\"make\":\"honda\"})\n",
    "#print(car)\n",
    "#car[\"add\"]=50\n",
    "print(car)"
   ]
  },
  {
   "cell_type": "code",
   "execution_count": 37,
   "id": "6f9d811b",
   "metadata": {},
   "outputs": [
    {
     "name": "stdout",
     "output_type": "stream",
     "text": [
      "dict_values(['red', 'Audi', 'big'])\n"
     ]
    }
   ],
   "source": [
    "#values\n",
    "car= {\n",
    "  \"Color\": \"red\",\n",
    "  \"model\": \"Audi\",\n",
    "    \"size\":\"big\"\n",
    "}\n",
    "a=car.values()\n",
    "print(a)"
   ]
  },
  {
   "cell_type": "markdown",
   "id": "60e2609c",
   "metadata": {},
   "source": [
    "## To demonstrate 5 methods of python data structure set .\n"
   ]
  },
  {
   "cell_type": "code",
   "execution_count": 9,
   "id": "a24d0f8e",
   "metadata": {},
   "outputs": [
    {
     "ename": "TypeError",
     "evalue": "set.pop() takes no arguments (1 given)",
     "output_type": "error",
     "traceback": [
      "\u001b[1;31m---------------------------------------------------------------------------\u001b[0m",
      "\u001b[1;31mTypeError\u001b[0m                                 Traceback (most recent call last)",
      "Input \u001b[1;32mIn [9]\u001b[0m, in \u001b[0;36m<cell line: 3>\u001b[1;34m()\u001b[0m\n\u001b[0;32m      1\u001b[0m \u001b[38;5;66;03m#add()\u001b[39;00m\n\u001b[0;32m      2\u001b[0m a \u001b[38;5;241m=\u001b[39m {\u001b[38;5;124m\"\u001b[39m\u001b[38;5;124mone\u001b[39m\u001b[38;5;124m\"\u001b[39m, \u001b[38;5;124m\"\u001b[39m\u001b[38;5;124mtwo\u001b[39m\u001b[38;5;124m\"\u001b[39m, \u001b[38;5;124m\"\u001b[39m\u001b[38;5;124mthree\u001b[39m\u001b[38;5;124m\"\u001b[39m}\n\u001b[1;32m----> 3\u001b[0m \u001b[43ma\u001b[49m\u001b[38;5;241;43m.\u001b[39;49m\u001b[43mpop\u001b[49m\u001b[43m(\u001b[49m\u001b[38;5;124;43m\"\u001b[39;49m\u001b[38;5;124;43mfour\u001b[39;49m\u001b[38;5;124;43m\"\u001b[39;49m\u001b[43m)\u001b[49m\n\u001b[0;32m      5\u001b[0m \u001b[38;5;28mprint\u001b[39m(a)\n",
      "\u001b[1;31mTypeError\u001b[0m: set.pop() takes no arguments (1 given)"
     ]
    }
   ],
   "source": [
    "#add()\n",
    "a = {\"one\", \"two\", \"three\"}\n",
    "a.pop(\"for\")\n",
    "\n",
    "print(a)\n"
   ]
  },
  {
   "cell_type": "code",
   "execution_count": 40,
   "id": "76c3d456",
   "metadata": {},
   "outputs": [
    {
     "name": "stdout",
     "output_type": "stream",
     "text": [
      "{'three', 'two'}\n"
     ]
    }
   ],
   "source": [
    "#difference()\n",
    "a = {\"one\", \"two\", \"three\"}\n",
    "b = {\"five\", \"six\", \"one\"}\n",
    "\n",
    "c = a.difference(b) \n",
    "print(c)\n"
   ]
  },
  {
   "cell_type": "code",
   "execution_count": 46,
   "id": "61257254",
   "metadata": {},
   "outputs": [
    {
     "name": "stdout",
     "output_type": "stream",
     "text": [
      "True\n"
     ]
    }
   ],
   "source": [
    "#isdisjoin()\n",
    "a={\"one\",\"two\",\"three\"}\n",
    "b={\"five\",\"six\",\"seven\"}\n",
    "c=a.isdisjoint(b)\n",
    "print(c)"
   ]
  },
  {
   "cell_type": "code",
   "execution_count": 47,
   "id": "213ac97c",
   "metadata": {},
   "outputs": [
    {
     "name": "stdout",
     "output_type": "stream",
     "text": [
      "True\n"
     ]
    }
   ],
   "source": [
    "#issubset()\n",
    "x={1,2,3,4,}\n",
    "y={1,2,3,4,5,6,7,8}\n",
    "z=x.issubset(y)\n",
    "print(z)\n",
    "\n"
   ]
  },
  {
   "cell_type": "code",
   "execution_count": 1,
   "id": "0e4c48eb",
   "metadata": {},
   "outputs": [
    {
     "name": "stdout",
     "output_type": "stream",
     "text": [
      "{5, 6, 7, 8}\n"
     ]
    }
   ],
   "source": [
    "#symmetric_difference\n",
    "a={1,2,3,4,}\n",
    "b={1,2,3,4,5,6,7,8}\n",
    "c=a.symmetric_difference(b)\n",
    "print(c)"
   ]
  },
  {
   "cell_type": "code",
   "execution_count": 2,
   "id": "2a2ccfc9",
   "metadata": {},
   "outputs": [
    {
     "name": "stdout",
     "output_type": "stream",
     "text": [
      "2 is even\n",
      "4 is even\n",
      "6 is even\n"
     ]
    }
   ],
   "source": [
    "a=[2,4,5,6]\n",
    "for i in a:\n",
    "    if i%2==0:\n",
    "        print(f'{i} is even')"
   ]
  },
  {
   "cell_type": "code",
   "execution_count": 5,
   "id": "5a0c5778",
   "metadata": {},
   "outputs": [
    {
     "name": "stdout",
     "output_type": "stream",
     "text": [
      "2\n",
      "3\n",
      "4\n",
      "4\n"
     ]
    }
   ],
   "source": [
    "a=\"2344\"\n",
    "for i in a:\n",
    "    print(i)"
   ]
  },
  {
   "cell_type": "code",
   "execution_count": 8,
   "id": "ecab1bc9",
   "metadata": {},
   "outputs": [
    {
     "ename": "NameError",
     "evalue": "name 'add' is not defined",
     "output_type": "error",
     "traceback": [
      "\u001b[1;31m---------------------------------------------------------------------------\u001b[0m",
      "\u001b[1;31mNameError\u001b[0m                                 Traceback (most recent call last)",
      "Input \u001b[1;32mIn [8]\u001b[0m, in \u001b[0;36m<cell line: 1>\u001b[1;34m()\u001b[0m\n\u001b[1;32m----> 1\u001b[0m \u001b[43madd\u001b[49m(\u001b[38;5;241m3\u001b[39m\u001b[38;5;241m+\u001b[39m\u001b[38;5;241m6\u001b[39m)\n\u001b[0;32m      3\u001b[0m \u001b[38;5;28;01mdef\u001b[39;00m \u001b[38;5;21madd\u001b[39m(a,b):\n\u001b[0;32m      4\u001b[0m     c\u001b[38;5;241m=\u001b[39ma\u001b[38;5;241m+\u001b[39mb\n",
      "\u001b[1;31mNameError\u001b[0m: name 'add' is not defined"
     ]
    }
   ],
   "source": [
    "add(3+6)\n",
    "\n",
    "def add(a,b):\n",
    "    c=a+b\n",
    "    return c\n",
    "print(c)\n",
    "\n",
    "\n",
    "    \n"
   ]
  },
  {
   "cell_type": "code",
   "execution_count": 3,
   "id": "9562802f",
   "metadata": {},
   "outputs": [
    {
     "name": "stdout",
     "output_type": "stream",
     "text": [
      "void\n",
      " emptiness\n"
     ]
    }
   ],
   "source": [
    "d4 = {\"void\":\" emptiness\", \" pacimist \": \" person who emphasize bad part of a situation\" ,\"optimistic\" : \" hopefull person \" , \"crack head\" : \" crazy \" } \n",
    "Word = input ()\n",
    "print(d4[Word])\n"
   ]
  },
  {
   "cell_type": "code",
   "execution_count": 25,
   "id": "ed2faa5a",
   "metadata": {},
   "outputs": [
    {
     "name": "stdout",
     "output_type": "stream",
     "text": [
      "enter the operation: %\n",
      "enter first number: 4\n",
      "enter the second number: 4\n",
      "abe chutiya operations matlab +-*/\n"
     ]
    }
   ],
   "source": [
    "ope=input(\"enter the operation: \")\n",
    "a=int(input(\"enter first number: \"))\n",
    "b=int(input(\"enter the second number: \"))\n",
    "\n",
    "if ope==\"*\" and a==56 and b==3:\n",
    "    print(555)\n",
    "elif ope==\"+\" and a==56 and b==9:\n",
    "    print(77)\n",
    "elif ope==\"/\" and a==56 and b==6:\n",
    "    print(4)\n",
    "\n",
    "elif ope==\"*\":\n",
    "    print(a,\"*\",b,\"=\",a*b)\n",
    "elif ope==\"+\":\n",
    "    print(a,\"+\",b,\"=\",a+b)\n",
    "elif ope==\"-\":\n",
    "    print(a,\"-\",b,\"=\",a-b)\n",
    "elif ope==\"/\":\n",
    "    print(a,\"/\",b,\"=\",a/b)\n",
    "else:\n",
    "    print(\"abe chutiya operations matlab +-*/\")"
   ]
  },
  {
   "cell_type": "code",
   "execution_count": null,
   "id": "08879f43",
   "metadata": {},
   "outputs": [],
   "source": []
  }
 ],
 "metadata": {
  "kernelspec": {
   "display_name": "Python 3 (ipykernel)",
   "language": "python",
   "name": "python3"
  },
  "language_info": {
   "codemirror_mode": {
    "name": "ipython",
    "version": 3
   },
   "file_extension": ".py",
   "mimetype": "text/x-python",
   "name": "python",
   "nbconvert_exporter": "python",
   "pygments_lexer": "ipython3",
   "version": "3.10.4"
  }
 },
 "nbformat": 4,
 "nbformat_minor": 5
}
