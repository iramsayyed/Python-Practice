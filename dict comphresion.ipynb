{
 "cells": [
  {
   "cell_type": "code",
   "execution_count": 4,
   "id": "ccd60260",
   "metadata": {},
   "outputs": [
    {
     "name": "stdout",
     "output_type": "stream",
     "text": [
      "{1: 2, 2: 4, 3: 6, 4: 8, 5: 10, 6: 12, 7: 14, 8: 16, 9: 18}\n"
     ]
    }
   ],
   "source": [
    "dict={}\n",
    "for num in range(1,10):\n",
    "    dict[num]=num*2\n",
    "print(dict)\n",
    "    "
   ]
  },
  {
   "cell_type": "code",
   "execution_count": 5,
   "id": "0f4c1da1",
   "metadata": {},
   "outputs": [
    {
     "name": "stdout",
     "output_type": "stream",
     "text": [
      "{1: 2, 2: 4, 3: 6, 4: 8, 5: 10, 6: 12, 7: 14, 8: 16, 9: 18}\n"
     ]
    }
   ],
   "source": [
    "dict={num:num*2 for num in range(1,10)}\n",
    "print(dict)"
   ]
  },
  {
   "cell_type": "markdown",
   "id": "8c428a17",
   "metadata": {},
   "source": [
    "# output 0:\"even \",1:\"odd\",2:\"even\",3:\"odd\"\n"
   ]
  },
  {
   "cell_type": "code",
   "execution_count": 10,
   "id": "e66620bb",
   "metadata": {},
   "outputs": [
    {
     "name": "stdout",
     "output_type": "stream",
     "text": [
      "{0: 'even', 1: 'odd', 2: 'even', 3: 'odd', 4: 'even', 5: 'odd'}\n"
     ]
    }
   ],
   "source": [
    "dict1={num:\"even\" if num%2==0 else \"odd\" for num in range(0,6)}\n",
    "print(dict1)"
   ]
  },
  {
   "cell_type": "markdown",
   "id": "bf85a6e4",
   "metadata": {},
   "source": [
    "#  highest value of dict"
   ]
  },
  {
   "cell_type": "code",
   "execution_count": 31,
   "id": "b03a7020",
   "metadata": {},
   "outputs": [
    {
     "name": "stdout",
     "output_type": "stream",
     "text": [
      "2\n",
      "4\n",
      "6\n",
      "8\n",
      "10\n",
      "12\n",
      "14\n",
      "16\n",
      "18\n",
      "1000\n",
      "{10: 1000}\n"
     ]
    }
   ],
   "source": [
    "dict={1: 2, 2: 4, 3: 6, 4: 8, 5: 10, 6: 12, 7: 14, 8: 16, 9: 18,10:1000}\n",
    "dict2=0\n",
    "for i in dict:\n",
    "    var=dict.get(i)\n",
    "    if var>dict2:\n",
    "        dict2=var\n",
    "print({i:dict2})"
   ]
  },
  {
   "cell_type": "markdown",
   "id": "bf6adacc",
   "metadata": {},
   "source": [
    "# Smallest value of dict"
   ]
  },
  {
   "cell_type": "code",
   "execution_count": 41,
   "id": "2f88fef4",
   "metadata": {},
   "outputs": [
    {
     "name": "stdout",
     "output_type": "stream",
     "text": [
      "{10: 2}\n"
     ]
    }
   ],
   "source": [
    "dict1={1: 2, 2: 4, 3: 6, 4: 8, 5: 10, 6: 12, 7: 14, 8: 16, 9: 18,10:1000}\n",
    "dict2=2\n",
    "for i in dict1:\n",
    "    value=dict1.get(i)\n",
    "    if value<dict2:\n",
    "        dict2=value\n",
    "print({i:dict2})\n",
    "    \n",
    "\n"
   ]
  },
  {
   "cell_type": "code",
   "execution_count": 3,
   "id": "c166c5cb",
   "metadata": {},
   "outputs": [
    {
     "name": "stdout",
     "output_type": "stream",
     "text": [
      "{'a': 'd', 'b': 200, 'c': 300}\n",
      "{'a': 'd', 'b': 'd', 'c': 300}\n",
      "{'a': 'd', 'b': 'd', 'c': 'd'}\n"
     ]
    }
   ],
   "source": [
    "my_dict={\"a\":100,\"b\":200,\"c\":300}\n",
    "for i in my_dict:\n",
    "    my_dict[i]=\"d\"\n",
    "    print(my_dict)\n",
    "    "
   ]
  },
  {
   "cell_type": "code",
   "execution_count": null,
   "id": "9faa5fd2",
   "metadata": {},
   "outputs": [],
   "source": []
  }
 ],
 "metadata": {
  "kernelspec": {
   "display_name": "Python 3 (ipykernel)",
   "language": "python",
   "name": "python3"
  },
  "language_info": {
   "codemirror_mode": {
    "name": "ipython",
    "version": 3
   },
   "file_extension": ".py",
   "mimetype": "text/x-python",
   "name": "python",
   "nbconvert_exporter": "python",
   "pygments_lexer": "ipython3",
   "version": "3.10.4"
  }
 },
 "nbformat": 4,
 "nbformat_minor": 5
}
