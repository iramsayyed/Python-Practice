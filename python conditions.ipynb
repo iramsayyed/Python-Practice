{
 "cells": [
  {
   "cell_type": "markdown",
   "id": "98575f6a",
   "metadata": {},
   "source": [
    "# python condition"
   ]
  },
  {
   "cell_type": "markdown",
   "id": "1eb0ace1",
   "metadata": {},
   "source": [
    "## if statement"
   ]
  },
  {
   "cell_type": "code",
   "execution_count": 2,
   "id": "a917f132",
   "metadata": {},
   "outputs": [
    {
     "name": "stdout",
     "output_type": "stream",
     "text": [
      "true\n"
     ]
    }
   ],
   "source": [
    "a=20\n",
    "b=200\n",
    "if a<b:\n",
    "    print(\"true\")"
   ]
  },
  {
   "cell_type": "markdown",
   "id": "d0898484",
   "metadata": {},
   "source": [
    "## elif statement (condition in else)"
   ]
  },
  {
   "cell_type": "code",
   "execution_count": 5,
   "id": "8533f733",
   "metadata": {},
   "outputs": [
    {
     "name": "stdout",
     "output_type": "stream",
     "text": [
      "this is false\n"
     ]
    }
   ],
   "source": [
    "a=20\n",
    "b=200\n",
    "if a>b:\n",
    "    print(\"this is true\")\n",
    "elif a<b:\n",
    "    print(\"this is false\")\n",
    "    "
   ]
  },
  {
   "cell_type": "code",
   "execution_count": 1,
   "id": "b00c22f2",
   "metadata": {},
   "outputs": [
    {
     "name": "stdout",
     "output_type": "stream",
     "text": [
      "['h', 'g', 'f', 'e']\n"
     ]
    }
   ],
   "source": [
    "a=[\"a\",\"b\",\"c\",\"d\",\"e\",\"f\",\"g\",\"h\"]\n",
    "print(a[-1:3:-1])"
   ]
  },
  {
   "cell_type": "code",
   "execution_count": null,
   "id": "de66a7c1",
   "metadata": {},
   "outputs": [],
   "source": []
  }
 ],
 "metadata": {
  "kernelspec": {
   "display_name": "Python 3 (ipykernel)",
   "language": "python",
   "name": "python3"
  },
  "language_info": {
   "codemirror_mode": {
    "name": "ipython",
    "version": 3
   },
   "file_extension": ".py",
   "mimetype": "text/x-python",
   "name": "python",
   "nbconvert_exporter": "python",
   "pygments_lexer": "ipython3",
   "version": "3.10.4"
  }
 },
 "nbformat": 4,
 "nbformat_minor": 5
}
